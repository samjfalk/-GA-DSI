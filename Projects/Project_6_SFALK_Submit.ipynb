{
 "cells": [
  {
   "cell_type": "markdown",
   "metadata": {},
   "source": [
    "This is deliberately open ended. There is no starter code. It's up to you how to acquire the data, store the data, and what features you want to use. \n",
    "\n",
    "We expect you to use a **tree-based model**, but the rest of the decisions are up to you. \n",
    "\n",
    "We will be looking for the following things:\n",
    " - A clear problem statement & description of the goals of your study to be included in the final report\n",
    " - Data from IMDB\n",
    " - Cleaned and refined data\n",
    " - Visualization. Plots that describe your data and evaluate your model.\n",
    " - Tree-based models (use any combination of ensemble techniques: random forests, bagging, boosting). \n",
    " - A blog post presenting the results of your findings as a report to Netflix, including:\n",
    "  - a problem statement,\n",
    "  - summary statistics of the various factors (e.g. year, number of ratings, etc.),\n",
    "  - your model,\n",
    "  - at least 2 graphics,\n",
    "  - and your recommendations for next steps!\n"
   ]
  },
  {
   "cell_type": "markdown",
   "metadata": {},
   "source": [
    "## Problem Statement"
   ]
  },
  {
   "cell_type": "markdown",
   "metadata": {},
   "source": [
    "Factors of eliteness of director, amount of top actors, and number of oscars/other awards will effect whether the IMDB rating is High or Low "
   ]
  },
  {
   "cell_type": "markdown",
   "metadata": {},
   "source": [
    "Assumptions:\n",
    "    The data is a reflection of the larger imdb dataset"
   ]
  },
  {
   "cell_type": "markdown",
   "metadata": {},
   "source": [
    "## Import packages"
   ]
  },
  {
   "cell_type": "code",
   "execution_count": 1,
   "metadata": {
    "collapsed": true
   },
   "outputs": [],
   "source": [
    "import json\n",
    "import urllib\n",
    "import pandas as pd\n",
    "import numpy as np\n",
    "import requests\n",
    "import json\n",
    "import re\n",
    "import matplotlib.pyplot as plt\n",
    "from bs4 import BeautifulSoup\n",
    "from sklearn.feature_extraction.text import CountVectorizer\n",
    "%matplotlib inline"
   ]
  },
  {
   "cell_type": "code",
   "execution_count": 2,
   "metadata": {
    "collapsed": true
   },
   "outputs": [],
   "source": [
    "import collections"
   ]
  },
  {
   "cell_type": "code",
   "execution_count": 3,
   "metadata": {
    "collapsed": true
   },
   "outputs": [],
   "source": [
    "import omdb"
   ]
  },
  {
   "cell_type": "code",
   "execution_count": 4,
   "metadata": {
    "collapsed": true
   },
   "outputs": [],
   "source": [
    "from imdbpie.objects import Review"
   ]
  },
  {
   "cell_type": "code",
   "execution_count": 5,
   "metadata": {
    "collapsed": true
   },
   "outputs": [],
   "source": [
    "from imdbpie import Imdb\n",
    "imdb = Imdb()\n",
    "imdb = Imdb(anonymize=True)"
   ]
  },
  {
   "cell_type": "markdown",
   "metadata": {},
   "source": [
    "## Started with code I decided not to use"
   ]
  },
  {
   "cell_type": "raw",
   "metadata": {
    "collapsed": false,
    "scrolled": true
   },
   "source": [
    "# len(imdb.get_title_reviews(\"tt0468569\", max_results=1000))"
   ]
  },
  {
   "cell_type": "raw",
   "metadata": {
    "collapsed": false
   },
   "source": [
    "# top_250list=imdb.top_250()"
   ]
  },
  {
   "cell_type": "raw",
   "metadata": {
    "collapsed": false
   },
   "source": [
    "# top_250list[0]\n"
   ]
  },
  {
   "cell_type": "raw",
   "metadata": {
    "collapsed": false
   },
   "source": [
    "# reviews= imdb.get_title_reviews(\"tt0468569\")\n",
    "# freqwords= collections.Counter(reviews)\n"
   ]
  },
  {
   "cell_type": "raw",
   "metadata": {
    "collapsed": false
   },
   "source": [
    "# reviews"
   ]
  },
  {
   "cell_type": "raw",
   "metadata": {
    "collapsed": false
   },
   "source": [
    "# top250key={}\n",
    "# for x in top_250list:\n",
    "    #reviews= imdb.get_title_reviews(x['tconst'], max_results=200\n",
    "    #freqwords= collections.Counter(reviews)\n",
    "#     top250key[x['tconst']]=x['title']"
   ]
  },
  {
   "cell_type": "raw",
   "metadata": {
    "collapsed": false
   },
   "source": [
    "# top250key"
   ]
  },
  {
   "cell_type": "raw",
   "metadata": {
    "collapsed": true
   },
   "source": [
    "\"\"\"rating_dict={}\n",
    "for x in top_250list:\n",
    "    x[]\"\"\""
   ]
  },
  {
   "cell_type": "raw",
   "metadata": {},
   "source": [
    "# item_test=omdb.imdbid('tt0032138', fullplot=True)"
   ]
  },
  {
   "cell_type": "raw",
   "metadata": {},
   "source": [
    "# item_test"
   ]
  },
  {
   "cell_type": "raw",
   "metadata": {},
   "source": [
    "# omdb.request(i='tt0032138', t='The Wizard of Oz')"
   ]
  },
  {
   "cell_type": "raw",
   "metadata": {},
   "source": [
    "# for key, title in top250key:\n",
    "#     omdb.request(i='tt0032138', t='The Wizard of Oz')"
   ]
  },
  {
   "cell_type": "raw",
   "metadata": {},
   "source": [
    "# def get_review(entry):\n",
    "#     reviews= \"\"\n",
    "#     response = requests.get('http://www.imdb.com/title/'+entry+'/reviews')\n",
    "    page_html = response.text\n",
    "    soup = BeautifulSoup(page_html, \"lxml\")\n",
    "    for review in soup.findall('p'):\n",
    "        reviews= review+ reviews\n",
    "    return reviews\n",
    "        \n",
    "    "
   ]
  },
  {
   "cell_type": "raw",
   "metadata": {},
   "source": [
    "get_review('tt2582802')"
   ]
  },
  {
   "cell_type": "raw",
   "metadata": {},
   "source": [
    "reviews= \"\"\n",
    "response = requests.get('http://www.imdb.com/title/tt2582802/reviews')\n",
    "page_html = response.text\n",
    "soup = BeautifulSoup(page_html, \"lxml\")\n",
    "#for review in soup.findall('p'):\n",
    "    #reviews= review+ reviews\n",
    "#return reviews"
   ]
  },
  {
   "cell_type": "raw",
   "metadata": {},
   "source": [
    "for x in soup.find('div', id='tn15content'):\n",
    "    print x"
   ]
  },
  {
   "cell_type": "markdown",
   "metadata": {},
   "source": [
    "## Code used to complete model"
   ]
  },
  {
   "cell_type": "code",
   "execution_count": 6,
   "metadata": {
    "collapsed": true
   },
   "outputs": [],
   "source": [
    "##FROM LAB\n",
    "#create function to get the top 250 movies \n",
    "def get_top_250():\n",
    "    response = requests.get('http://www.imdb.com/chart/top')\n",
    "    html = response.text\n",
    "    \n",
    "    #return the text from all links\n",
    "    entries = re.findall(\"<a href.*?/title/(.*?)/\", html)\n",
    "    return list(set(entries))"
   ]
  },
  {
   "cell_type": "code",
   "execution_count": 7,
   "metadata": {
    "collapsed": false
   },
   "outputs": [],
   "source": [
    "#call function for top movies\n",
    "entries = get_top_250()"
   ]
  },
  {
   "cell_type": "code",
   "execution_count": 8,
   "metadata": {
    "collapsed": false,
    "scrolled": false
   },
   "outputs": [
    {
     "data": {
      "text/plain": [
       "250"
      ]
     },
     "execution_count": 8,
     "metadata": {},
     "output_type": "execute_result"
    }
   ],
   "source": [
    "len(entries)"
   ]
  },
  {
   "cell_type": "code",
   "execution_count": 9,
   "metadata": {
    "collapsed": true
   },
   "outputs": [],
   "source": [
    "#Get data for each title\n",
    "\n",
    "def get_entry(entry):\n",
    "    res = requests.get('http://www.omdbapi.com/?i='+entry)\n",
    "    if res.status_code != 200:\n",
    "        print entry, res.status_code\n",
    "    else:\n",
    "        print '.',\n",
    "    try:\n",
    "        j = json.loads(res.text)\n",
    "    except ValueError:\n",
    "        j = None\n",
    "    return j"
   ]
  },
  {
   "cell_type": "code",
   "execution_count": 10,
   "metadata": {
    "collapsed": false
   },
   "outputs": [
    {
     "name": "stdout",
     "output_type": "stream",
     "text": [
      ". . . . . . . . . . . . . . . . . . . . . . . . . . . . . . . . . . . . . . . . . . . . . . . . . . . . . . . . . . . . . . . . . . . . . . . . . . . . . . . . . . . . . . . . . . . . . . . . . . . . . . . . . . . . . . . . . . . . . . . . . . . . . . . . . . . . . . . . . . . . . . . . . . . . . . . . . . . . . . . . . . . . . . . . . . . . . . . . . . . . . . . . . . . . . . . . . . . . . . . . . . . . . . . . . . . . . . . . . . . . . . . . . . . . . . . . . . . . . . . . . . . . . . . . . .\n"
     ]
    }
   ],
   "source": [
    "entries_dict_list = [get_entry(e) for e in entries]"
   ]
  },
  {
   "cell_type": "code",
   "execution_count": 11,
   "metadata": {
    "collapsed": false
   },
   "outputs": [
    {
     "data": {
      "text/plain": [
       "250"
      ]
     },
     "execution_count": 11,
     "metadata": {},
     "output_type": "execute_result"
    }
   ],
   "source": [
    "#check output\n",
    "len(entries_dict_list)"
   ]
  },
  {
   "cell_type": "code",
   "execution_count": 12,
   "metadata": {
    "collapsed": true
   },
   "outputs": [],
   "source": [
    "#create dataframe\n",
    "df = pd.DataFrame(entries_dict_list)"
   ]
  },
  {
   "cell_type": "code",
   "execution_count": 13,
   "metadata": {
    "collapsed": false,
    "scrolled": true
   },
   "outputs": [
    {
     "data": {
      "text/html": [
       "<div>\n",
       "<table border=\"1\" class=\"dataframe\">\n",
       "  <thead>\n",
       "    <tr style=\"text-align: right;\">\n",
       "      <th></th>\n",
       "      <th>Actors</th>\n",
       "      <th>Awards</th>\n",
       "      <th>Country</th>\n",
       "      <th>Director</th>\n",
       "      <th>Genre</th>\n",
       "      <th>Language</th>\n",
       "      <th>Metascore</th>\n",
       "      <th>Plot</th>\n",
       "      <th>Poster</th>\n",
       "      <th>Rated</th>\n",
       "      <th>Released</th>\n",
       "      <th>Response</th>\n",
       "      <th>Runtime</th>\n",
       "      <th>Title</th>\n",
       "      <th>Type</th>\n",
       "      <th>Writer</th>\n",
       "      <th>Year</th>\n",
       "      <th>imdbID</th>\n",
       "      <th>imdbRating</th>\n",
       "      <th>imdbVotes</th>\n",
       "    </tr>\n",
       "  </thead>\n",
       "  <tbody>\n",
       "    <tr>\n",
       "      <th>0</th>\n",
       "      <td>Miles Teller, J.K. Simmons, Paul Reiser, Melis...</td>\n",
       "      <td>Won 3 Oscars. Another 87 wins &amp; 131 nominations.</td>\n",
       "      <td>USA</td>\n",
       "      <td>Damien Chazelle</td>\n",
       "      <td>Drama, Music</td>\n",
       "      <td>English</td>\n",
       "      <td>88</td>\n",
       "      <td>A promising young drummer enrolls at a cut-thr...</td>\n",
       "      <td>https://images-na.ssl-images-amazon.com/images...</td>\n",
       "      <td>R</td>\n",
       "      <td>15 Oct 2014</td>\n",
       "      <td>True</td>\n",
       "      <td>107 min</td>\n",
       "      <td>Whiplash</td>\n",
       "      <td>movie</td>\n",
       "      <td>Damien Chazelle</td>\n",
       "      <td>2014</td>\n",
       "      <td>tt2582802</td>\n",
       "      <td>8.5</td>\n",
       "      <td>413,720</td>\n",
       "    </tr>\n",
       "    <tr>\n",
       "      <th>1</th>\n",
       "      <td>Toshirô Mifune, Takashi Shimura, Keiko Tsushim...</td>\n",
       "      <td>Nominated for 2 Oscars. Another 5 wins &amp; 6 nom...</td>\n",
       "      <td>Japan</td>\n",
       "      <td>Akira Kurosawa</td>\n",
       "      <td>Action, Adventure, Drama</td>\n",
       "      <td>Japanese</td>\n",
       "      <td>98</td>\n",
       "      <td>A poor village under attack by bandits recruit...</td>\n",
       "      <td>https://images-na.ssl-images-amazon.com/images...</td>\n",
       "      <td>UNRATED</td>\n",
       "      <td>19 Nov 1956</td>\n",
       "      <td>True</td>\n",
       "      <td>207 min</td>\n",
       "      <td>Seven Samurai</td>\n",
       "      <td>movie</td>\n",
       "      <td>Akira Kurosawa (screenplay), Shinobu Hashimoto...</td>\n",
       "      <td>1954</td>\n",
       "      <td>tt0047478</td>\n",
       "      <td>8.7</td>\n",
       "      <td>232,249</td>\n",
       "    </tr>\n",
       "    <tr>\n",
       "      <th>2</th>\n",
       "      <td>Harrison Ford, Karen Allen, Paul Freeman, Rona...</td>\n",
       "      <td>Won 4 Oscars. Another 30 wins &amp; 23 nominations.</td>\n",
       "      <td>USA</td>\n",
       "      <td>Steven Spielberg</td>\n",
       "      <td>Action, Adventure</td>\n",
       "      <td>English, German, Hebrew, Spanish, Arabic, Nepali</td>\n",
       "      <td>85</td>\n",
       "      <td>Archaeologist and adventurer Indiana Jones is ...</td>\n",
       "      <td>https://images-na.ssl-images-amazon.com/images...</td>\n",
       "      <td>PG</td>\n",
       "      <td>12 Jun 1981</td>\n",
       "      <td>True</td>\n",
       "      <td>115 min</td>\n",
       "      <td>Raiders of the Lost Ark</td>\n",
       "      <td>movie</td>\n",
       "      <td>Lawrence Kasdan (screenplay), George Lucas (st...</td>\n",
       "      <td>1981</td>\n",
       "      <td>tt0082971</td>\n",
       "      <td>8.5</td>\n",
       "      <td>671,034</td>\n",
       "    </tr>\n",
       "    <tr>\n",
       "      <th>3</th>\n",
       "      <td>William Holden, Alec Guinness, Jack Hawkins, S...</td>\n",
       "      <td>Won 7 Oscars. Another 23 wins &amp; 7 nominations.</td>\n",
       "      <td>UK, USA</td>\n",
       "      <td>David Lean</td>\n",
       "      <td>Adventure, Drama, War</td>\n",
       "      <td>English, Japanese, Thai</td>\n",
       "      <td>N/A</td>\n",
       "      <td>After settling his differences with a Japanese...</td>\n",
       "      <td>https://images-na.ssl-images-amazon.com/images...</td>\n",
       "      <td>PG</td>\n",
       "      <td>14 Dec 1957</td>\n",
       "      <td>True</td>\n",
       "      <td>161 min</td>\n",
       "      <td>The Bridge on the River Kwai</td>\n",
       "      <td>movie</td>\n",
       "      <td>Pierre Boulle (novel), Carl Foreman (screenpla...</td>\n",
       "      <td>1957</td>\n",
       "      <td>tt0050212</td>\n",
       "      <td>8.2</td>\n",
       "      <td>151,604</td>\n",
       "    </tr>\n",
       "    <tr>\n",
       "      <th>4</th>\n",
       "      <td>Robert Downey Jr., Chris Evans, Mark Ruffalo, ...</td>\n",
       "      <td>Nominated for 1 Oscar. Another 34 wins &amp; 75 no...</td>\n",
       "      <td>USA</td>\n",
       "      <td>Joss Whedon</td>\n",
       "      <td>Action, Sci-Fi, Thriller</td>\n",
       "      <td>English, Russian</td>\n",
       "      <td>69</td>\n",
       "      <td>Earth's mightiest heroes must come together an...</td>\n",
       "      <td>https://images-na.ssl-images-amazon.com/images...</td>\n",
       "      <td>PG-13</td>\n",
       "      <td>04 May 2012</td>\n",
       "      <td>True</td>\n",
       "      <td>143 min</td>\n",
       "      <td>The Avengers</td>\n",
       "      <td>movie</td>\n",
       "      <td>Joss Whedon (screenplay), Zak Penn (story), Jo...</td>\n",
       "      <td>2012</td>\n",
       "      <td>tt0848228</td>\n",
       "      <td>8.1</td>\n",
       "      <td>1,010,033</td>\n",
       "    </tr>\n",
       "  </tbody>\n",
       "</table>\n",
       "</div>"
      ],
      "text/plain": [
       "                                              Actors  \\\n",
       "0  Miles Teller, J.K. Simmons, Paul Reiser, Melis...   \n",
       "1  Toshirô Mifune, Takashi Shimura, Keiko Tsushim...   \n",
       "2  Harrison Ford, Karen Allen, Paul Freeman, Rona...   \n",
       "3  William Holden, Alec Guinness, Jack Hawkins, S...   \n",
       "4  Robert Downey Jr., Chris Evans, Mark Ruffalo, ...   \n",
       "\n",
       "                                              Awards  Country  \\\n",
       "0   Won 3 Oscars. Another 87 wins & 131 nominations.      USA   \n",
       "1  Nominated for 2 Oscars. Another 5 wins & 6 nom...    Japan   \n",
       "2    Won 4 Oscars. Another 30 wins & 23 nominations.      USA   \n",
       "3     Won 7 Oscars. Another 23 wins & 7 nominations.  UK, USA   \n",
       "4  Nominated for 1 Oscar. Another 34 wins & 75 no...      USA   \n",
       "\n",
       "           Director                     Genre  \\\n",
       "0   Damien Chazelle              Drama, Music   \n",
       "1    Akira Kurosawa  Action, Adventure, Drama   \n",
       "2  Steven Spielberg         Action, Adventure   \n",
       "3        David Lean     Adventure, Drama, War   \n",
       "4       Joss Whedon  Action, Sci-Fi, Thriller   \n",
       "\n",
       "                                           Language Metascore  \\\n",
       "0                                           English        88   \n",
       "1                                          Japanese        98   \n",
       "2  English, German, Hebrew, Spanish, Arabic, Nepali        85   \n",
       "3                           English, Japanese, Thai       N/A   \n",
       "4                                  English, Russian        69   \n",
       "\n",
       "                                                Plot  \\\n",
       "0  A promising young drummer enrolls at a cut-thr...   \n",
       "1  A poor village under attack by bandits recruit...   \n",
       "2  Archaeologist and adventurer Indiana Jones is ...   \n",
       "3  After settling his differences with a Japanese...   \n",
       "4  Earth's mightiest heroes must come together an...   \n",
       "\n",
       "                                              Poster    Rated     Released  \\\n",
       "0  https://images-na.ssl-images-amazon.com/images...        R  15 Oct 2014   \n",
       "1  https://images-na.ssl-images-amazon.com/images...  UNRATED  19 Nov 1956   \n",
       "2  https://images-na.ssl-images-amazon.com/images...       PG  12 Jun 1981   \n",
       "3  https://images-na.ssl-images-amazon.com/images...       PG  14 Dec 1957   \n",
       "4  https://images-na.ssl-images-amazon.com/images...    PG-13  04 May 2012   \n",
       "\n",
       "  Response  Runtime                         Title   Type  \\\n",
       "0     True  107 min                      Whiplash  movie   \n",
       "1     True  207 min                 Seven Samurai  movie   \n",
       "2     True  115 min       Raiders of the Lost Ark  movie   \n",
       "3     True  161 min  The Bridge on the River Kwai  movie   \n",
       "4     True  143 min                  The Avengers  movie   \n",
       "\n",
       "                                              Writer  Year     imdbID  \\\n",
       "0                                    Damien Chazelle  2014  tt2582802   \n",
       "1  Akira Kurosawa (screenplay), Shinobu Hashimoto...  1954  tt0047478   \n",
       "2  Lawrence Kasdan (screenplay), George Lucas (st...  1981  tt0082971   \n",
       "3  Pierre Boulle (novel), Carl Foreman (screenpla...  1957  tt0050212   \n",
       "4  Joss Whedon (screenplay), Zak Penn (story), Jo...  2012  tt0848228   \n",
       "\n",
       "  imdbRating  imdbVotes  \n",
       "0        8.5    413,720  \n",
       "1        8.7    232,249  \n",
       "2        8.5    671,034  \n",
       "3        8.2    151,604  \n",
       "4        8.1  1,010,033  "
      ]
     },
     "execution_count": 13,
     "metadata": {},
     "output_type": "execute_result"
    }
   ],
   "source": [
    "df.head()"
   ]
  },
  {
   "cell_type": "code",
   "execution_count": 14,
   "metadata": {
    "collapsed": false
   },
   "outputs": [
    {
     "name": "stdout",
     "output_type": "stream",
     "text": [
      "<class 'pandas.core.frame.DataFrame'>\n",
      "RangeIndex: 250 entries, 0 to 249\n",
      "Data columns (total 20 columns):\n",
      "Actors        250 non-null object\n",
      "Awards        250 non-null object\n",
      "Country       250 non-null object\n",
      "Director      250 non-null object\n",
      "Genre         250 non-null object\n",
      "Language      250 non-null object\n",
      "Metascore     250 non-null object\n",
      "Plot          250 non-null object\n",
      "Poster        250 non-null object\n",
      "Rated         250 non-null object\n",
      "Released      250 non-null object\n",
      "Response      250 non-null object\n",
      "Runtime       250 non-null object\n",
      "Title         250 non-null object\n",
      "Type          250 non-null object\n",
      "Writer        250 non-null object\n",
      "Year          250 non-null object\n",
      "imdbID        250 non-null object\n",
      "imdbRating    250 non-null object\n",
      "imdbVotes     250 non-null object\n",
      "dtypes: object(20)\n",
      "memory usage: 39.1+ KB\n"
     ]
    }
   ],
   "source": [
    "#describe dataframe\n",
    "df.info()"
   ]
  },
  {
   "cell_type": "code",
   "execution_count": 15,
   "metadata": {
    "collapsed": false
   },
   "outputs": [],
   "source": [
    "#make copy\n",
    "df2=df"
   ]
  },
  {
   "cell_type": "code",
   "execution_count": 16,
   "metadata": {
    "collapsed": false
   },
   "outputs": [
    {
     "data": {
      "text/plain": [
       "Index([u'Actors', u'Awards', u'Country', u'Director', u'Genre', u'Language',\n",
       "       u'Metascore', u'Plot', u'Poster', u'Rated', u'Released', u'Response',\n",
       "       u'Runtime', u'Title', u'Type', u'Writer', u'Year', u'imdbID',\n",
       "       u'imdbRating', u'imdbVotes'],\n",
       "      dtype='object')"
      ]
     },
     "execution_count": 16,
     "metadata": {},
     "output_type": "execute_result"
    }
   ],
   "source": [
    "#check columns\n",
    "df2.columns"
   ]
  },
  {
   "cell_type": "code",
   "execution_count": 17,
   "metadata": {
    "collapsed": false,
    "scrolled": true
   },
   "outputs": [
    {
     "data": {
      "text/plain": [
       "3 wins.                                                                0.016\n",
       "N/A                                                                    0.016\n",
       "2 wins.                                                                0.012\n",
       "1 win & 1 nomination.                                                  0.008\n",
       "Won 3 Oscars. Another 10 wins & 16 nominations.                        0.008\n",
       "Nominated for 1 BAFTA Film Award. Another 3 wins & 2 nominations.      0.008\n",
       "1 win.                                                                 0.008\n",
       "2 wins & 1 nomination.                                                 0.008\n",
       "Won 2 Oscars. Another 25 wins & 21 nominations.                        0.004\n",
       "7 wins & 1 nomination.                                                 0.004\n",
       "Nominated for 1 Oscar. Another 2 wins & 7 nominations.                 0.004\n",
       "Nominated for 3 Oscars. Another 16 wins & 42 nominations.              0.004\n",
       "Won 5 Oscars. Another 5 wins & 1 nomination.                           0.004\n",
       "Won 8 Oscars. Another 21 wins & 9 nominations.                         0.004\n",
       "Won 2 Oscars. Another 7 wins & 13 nominations.                         0.004\n",
       "Won 1 Oscar. Another 15 wins & 6 nominations.                          0.004\n",
       "Nominated for 1 Oscar. Another 35 wins & 64 nominations.               0.004\n",
       "Won 1 BAFTA Film Award. Another 5 wins.                                0.004\n",
       "Won 3 Oscars. Another 16 wins & 21 nominations.                        0.004\n",
       "Won 6 Oscars. Another 207 wins & 189 nominations.                      0.004\n",
       "Nominated for 1 BAFTA Film Award. Another 6 wins & 3 nominations.      0.004\n",
       "Nominated for 5 Oscars. Another 6 wins & 1 nomination.                 0.004\n",
       "6 wins & 1 nomination.                                                 0.004\n",
       "Won 4 Oscars. Another 19 wins & 10 nominations.                        0.004\n",
       "Nominated for 1 Oscar. Another 4 wins & 13 nominations.                0.004\n",
       "Won 1 Oscar. Another 37 wins & 32 nominations.                         0.004\n",
       "Nominated for 1 BAFTA Film Award. Another 38 wins & 96 nominations.    0.004\n",
       "Won 3 Oscars. Another 234 wins & 312 nominations.                      0.004\n",
       "Nominated for 2 Oscars. Another 9 wins & 18 nominations.               0.004\n",
       "Won 2 Oscars. Another 32 wins & 30 nominations.                        0.004\n",
       "                                                                       ...  \n",
       "Nominated for 1 Oscar. Another 11 wins & 20 nominations.               0.004\n",
       "Won 7 Oscars. Another 10 wins & 6 nominations.                         0.004\n",
       "Nominated for 6 Oscars. Another 32 wins & 47 nominations.              0.004\n",
       "Nominated for 1 Oscar. Another 9 wins & 3 nominations.                 0.004\n",
       "Nominated for 4 Oscars. Another 8 wins & 17 nominations.               0.004\n",
       "Won 3 Oscars. Another 94 wins & 99 nominations.                        0.004\n",
       "Won 4 Oscars. Another 21 wins & 22 nominations.                        0.004\n",
       "Won 2 Oscars. Another 73 wins & 75 nominations.                        0.004\n",
       "Won 5 Oscars. Another 30 wins & 13 nominations.                        0.004\n",
       "11 wins & 15 nominations.                                              0.004\n",
       "Won 1 Oscar. Another 21 wins & 23 nominations.                         0.004\n",
       "Won 1 Oscar. Another 16 wins & 19 nominations.                         0.004\n",
       "Won 2 Oscars. Another 54 wins & 143 nominations.                       0.004\n",
       "Nominated for 2 Oscars. Another 8 wins & 3 nominations.                0.004\n",
       "Won 1 Oscar. Another 6 wins & 20 nominations.                          0.004\n",
       "Won 1 Oscar. Another 51 wins & 39 nominations.                         0.004\n",
       "Nominated for 1 BAFTA Film Award. Another 13 wins & 7 nominations.     0.004\n",
       "Won 8 Oscars. Another 9 wins & 8 nominations.                          0.004\n",
       "Nominated for 2 Golden Globes. Another 6 wins & 54 nominations.        0.004\n",
       "Won 5 Oscars. Another 26 wins & 29 nominations.                        0.004\n",
       "Won 6 Oscars. Another 48 wins & 28 nominations.                        0.004\n",
       "Nominated for 7 Oscars. Another 2 wins & 2 nominations.                0.004\n",
       "Won 4 Oscars. Another 60 wins & 81 nominations.                        0.004\n",
       "Won 3 Oscars. Another 28 wins & 17 nominations.                        0.004\n",
       "Nominated for 1 Golden Globe. Another 16 wins & 8 nominations.         0.004\n",
       "Nominated for 2 Oscars. Another 25 wins & 58 nominations.              0.004\n",
       "Nominated for 4 Oscars. Another 6 wins & 2 nominations.                0.004\n",
       "Nominated for 1 Oscar. Another 34 wins & 75 nominations.               0.004\n",
       "Nominated for 2 Oscars. Another 5 wins & 32 nominations.               0.004\n",
       "Won 2 Oscars. Another 2 wins & 10 nominations.                         0.004\n",
       "Name: Awards, dtype: float64"
      ]
     },
     "execution_count": 17,
     "metadata": {},
     "output_type": "execute_result"
    }
   ],
   "source": [
    "#Ran but didnt want to bog down the notebook\n",
    "df2['Awards'].value_counts(5)"
   ]
  },
  {
   "cell_type": "code",
   "execution_count": 18,
   "metadata": {
    "collapsed": true
   },
   "outputs": [],
   "source": [
    "#create vectorizer to find how many oscars have been won\n",
    "cv = CountVectorizer(token_pattern=u'(?<=[Ww]on)(.*)(?=[Oo]scar)')\n"
   ]
  },
  {
   "cell_type": "code",
   "execution_count": 19,
   "metadata": {
    "collapsed": false
   },
   "outputs": [],
   "source": [
    "# fit and run vectorizer\n",
    "oscars = cv.fit_transform(df2.Awards).todense()\n",
    "#give column names with oscars:\n",
    "columns = ['oscars: '+c for c in cv.get_feature_names()]\n",
    "#create dataframe from dummies\n",
    "oscarsdf = pd.DataFrame(oscars, columns=columns)"
   ]
  },
  {
   "cell_type": "code",
   "execution_count": 20,
   "metadata": {
    "collapsed": false,
    "scrolled": true
   },
   "outputs": [
    {
     "data": {
      "text/html": [
       "<div>\n",
       "<table border=\"1\" class=\"dataframe\">\n",
       "  <thead>\n",
       "    <tr style=\"text-align: right;\">\n",
       "      <th></th>\n",
       "      <th>oscars:  1</th>\n",
       "      <th>oscars:  11</th>\n",
       "      <th>oscars:  2</th>\n",
       "      <th>oscars:  3</th>\n",
       "      <th>oscars:  4</th>\n",
       "      <th>oscars:  5</th>\n",
       "      <th>oscars:  6</th>\n",
       "      <th>oscars:  7</th>\n",
       "      <th>oscars:  8</th>\n",
       "    </tr>\n",
       "  </thead>\n",
       "  <tbody>\n",
       "    <tr>\n",
       "      <th>0</th>\n",
       "      <td>0</td>\n",
       "      <td>0</td>\n",
       "      <td>0</td>\n",
       "      <td>1</td>\n",
       "      <td>0</td>\n",
       "      <td>0</td>\n",
       "      <td>0</td>\n",
       "      <td>0</td>\n",
       "      <td>0</td>\n",
       "    </tr>\n",
       "    <tr>\n",
       "      <th>1</th>\n",
       "      <td>0</td>\n",
       "      <td>0</td>\n",
       "      <td>0</td>\n",
       "      <td>0</td>\n",
       "      <td>0</td>\n",
       "      <td>0</td>\n",
       "      <td>0</td>\n",
       "      <td>0</td>\n",
       "      <td>0</td>\n",
       "    </tr>\n",
       "    <tr>\n",
       "      <th>2</th>\n",
       "      <td>0</td>\n",
       "      <td>0</td>\n",
       "      <td>0</td>\n",
       "      <td>0</td>\n",
       "      <td>1</td>\n",
       "      <td>0</td>\n",
       "      <td>0</td>\n",
       "      <td>0</td>\n",
       "      <td>0</td>\n",
       "    </tr>\n",
       "    <tr>\n",
       "      <th>3</th>\n",
       "      <td>0</td>\n",
       "      <td>0</td>\n",
       "      <td>0</td>\n",
       "      <td>0</td>\n",
       "      <td>0</td>\n",
       "      <td>0</td>\n",
       "      <td>0</td>\n",
       "      <td>1</td>\n",
       "      <td>0</td>\n",
       "    </tr>\n",
       "    <tr>\n",
       "      <th>4</th>\n",
       "      <td>0</td>\n",
       "      <td>0</td>\n",
       "      <td>0</td>\n",
       "      <td>0</td>\n",
       "      <td>0</td>\n",
       "      <td>0</td>\n",
       "      <td>0</td>\n",
       "      <td>0</td>\n",
       "      <td>0</td>\n",
       "    </tr>\n",
       "  </tbody>\n",
       "</table>\n",
       "</div>"
      ],
      "text/plain": [
       "   oscars:  1   oscars:  11   oscars:  2   oscars:  3   oscars:  4   \\\n",
       "0            0             0            0            1            0   \n",
       "1            0             0            0            0            0   \n",
       "2            0             0            0            0            1   \n",
       "3            0             0            0            0            0   \n",
       "4            0             0            0            0            0   \n",
       "\n",
       "   oscars:  5   oscars:  6   oscars:  7   oscars:  8   \n",
       "0            0            0            0            0  \n",
       "1            0            0            0            0  \n",
       "2            0            0            0            0  \n",
       "3            0            0            1            0  \n",
       "4            0            0            0            0  "
      ]
     },
     "execution_count": 20,
     "metadata": {},
     "output_type": "execute_result"
    }
   ],
   "source": [
    "oscarsdf.head()"
   ]
  },
  {
   "cell_type": "code",
   "execution_count": 21,
   "metadata": {
    "collapsed": false
   },
   "outputs": [
    {
     "data": {
      "text/plain": [
       "0    233\n",
       "1     17\n",
       "Name: oscars:  3 , dtype: int64"
      ]
     },
     "execution_count": 21,
     "metadata": {},
     "output_type": "execute_result"
    }
   ],
   "source": [
    "#check\n",
    "oscarsdf['oscars:  3 '].value_counts()"
   ]
  },
  {
   "cell_type": "code",
   "execution_count": 22,
   "metadata": {
    "collapsed": true
   },
   "outputs": [],
   "source": [
    "#create vectorizer for other wins\n",
    "cv2 = CountVectorizer(token_pattern=u'(?<=[Aa]nother)(.*)(?=[Ww]in)')\n"
   ]
  },
  {
   "cell_type": "code",
   "execution_count": 23,
   "metadata": {
    "collapsed": false
   },
   "outputs": [],
   "source": [
    "# fit and run vectorizer\n",
    "otherwins = cv2.fit_transform(df2.Awards).todense()\n",
    "\n",
    "#make column names\n",
    "columns2 = [c for c in cv2.get_feature_names()]\n",
    "\n",
    "#make dummies into dataframe\n",
    "otherwinsdf = pd.DataFrame(otherwins, columns=columns2)"
   ]
  },
  {
   "cell_type": "code",
   "execution_count": 24,
   "metadata": {
    "collapsed": false
   },
   "outputs": [],
   "source": [
    "#strip column names and convert to integers\n",
    "otherwinsdf.columns=[int(x.strip()) for x in otherwinsdf.columns ]"
   ]
  },
  {
   "cell_type": "code",
   "execution_count": 25,
   "metadata": {
    "collapsed": false
   },
   "outputs": [
    {
     "data": {
      "text/plain": [
       "Int64Index([  1,  10, 101, 103, 105, 108,  11, 112, 114,  12, 122, 124,  13,\n",
       "            143, 146,  15, 155,  16,  17, 174,  18,  19,   2,  20, 207,  21,\n",
       "             22,  23, 234,  25,  26,  27,  28,   3,  30,  31,  32,  33,  34,\n",
       "             35,  36,  37,  38,  39,   4,  44,  46,  47,  48,   5,  51,  52,\n",
       "             53,  54,  56,  58,   6,  60,  62,  64,  65,  67,   7,  71,  73,\n",
       "             74,  75,  77,  79,   8,  84,  86,  87,   9,  90,  91,  94],\n",
       "           dtype='int64')"
      ]
     },
     "execution_count": 25,
     "metadata": {},
     "output_type": "execute_result"
    }
   ],
   "source": [
    "#test\n",
    "otherwinsdf.columns"
   ]
  },
  {
   "cell_type": "code",
   "execution_count": 26,
   "metadata": {
    "collapsed": false
   },
   "outputs": [
    {
     "name": "stderr",
     "output_type": "stream",
     "text": [
      "/Users/samanthafalk/anaconda/lib/python2.7/site-packages/ipykernel/__main__.py:2: FutureWarning: sort(....) is deprecated, use sort_index(.....)\n",
      "  from ipykernel import kernelapp as app\n"
     ]
    }
   ],
   "source": [
    "#sort columns\n",
    "otherwinsdf.sort(axis=1, inplace=True)"
   ]
  },
  {
   "cell_type": "code",
   "execution_count": 27,
   "metadata": {
    "collapsed": false
   },
   "outputs": [
    {
     "data": {
      "text/html": [
       "<div>\n",
       "<table border=\"1\" class=\"dataframe\">\n",
       "  <thead>\n",
       "    <tr style=\"text-align: right;\">\n",
       "      <th></th>\n",
       "      <th>1</th>\n",
       "      <th>2</th>\n",
       "      <th>3</th>\n",
       "      <th>4</th>\n",
       "      <th>5</th>\n",
       "      <th>6</th>\n",
       "      <th>7</th>\n",
       "      <th>8</th>\n",
       "      <th>9</th>\n",
       "      <th>10</th>\n",
       "      <th>...</th>\n",
       "      <th>112</th>\n",
       "      <th>114</th>\n",
       "      <th>122</th>\n",
       "      <th>124</th>\n",
       "      <th>143</th>\n",
       "      <th>146</th>\n",
       "      <th>155</th>\n",
       "      <th>174</th>\n",
       "      <th>207</th>\n",
       "      <th>234</th>\n",
       "    </tr>\n",
       "  </thead>\n",
       "  <tbody>\n",
       "    <tr>\n",
       "      <th>0</th>\n",
       "      <td>0</td>\n",
       "      <td>0</td>\n",
       "      <td>0</td>\n",
       "      <td>0</td>\n",
       "      <td>0</td>\n",
       "      <td>0</td>\n",
       "      <td>0</td>\n",
       "      <td>0</td>\n",
       "      <td>0</td>\n",
       "      <td>0</td>\n",
       "      <td>...</td>\n",
       "      <td>0</td>\n",
       "      <td>0</td>\n",
       "      <td>0</td>\n",
       "      <td>0</td>\n",
       "      <td>0</td>\n",
       "      <td>0</td>\n",
       "      <td>0</td>\n",
       "      <td>0</td>\n",
       "      <td>0</td>\n",
       "      <td>0</td>\n",
       "    </tr>\n",
       "    <tr>\n",
       "      <th>1</th>\n",
       "      <td>0</td>\n",
       "      <td>0</td>\n",
       "      <td>0</td>\n",
       "      <td>0</td>\n",
       "      <td>1</td>\n",
       "      <td>0</td>\n",
       "      <td>0</td>\n",
       "      <td>0</td>\n",
       "      <td>0</td>\n",
       "      <td>0</td>\n",
       "      <td>...</td>\n",
       "      <td>0</td>\n",
       "      <td>0</td>\n",
       "      <td>0</td>\n",
       "      <td>0</td>\n",
       "      <td>0</td>\n",
       "      <td>0</td>\n",
       "      <td>0</td>\n",
       "      <td>0</td>\n",
       "      <td>0</td>\n",
       "      <td>0</td>\n",
       "    </tr>\n",
       "    <tr>\n",
       "      <th>2</th>\n",
       "      <td>0</td>\n",
       "      <td>0</td>\n",
       "      <td>0</td>\n",
       "      <td>0</td>\n",
       "      <td>0</td>\n",
       "      <td>0</td>\n",
       "      <td>0</td>\n",
       "      <td>0</td>\n",
       "      <td>0</td>\n",
       "      <td>0</td>\n",
       "      <td>...</td>\n",
       "      <td>0</td>\n",
       "      <td>0</td>\n",
       "      <td>0</td>\n",
       "      <td>0</td>\n",
       "      <td>0</td>\n",
       "      <td>0</td>\n",
       "      <td>0</td>\n",
       "      <td>0</td>\n",
       "      <td>0</td>\n",
       "      <td>0</td>\n",
       "    </tr>\n",
       "    <tr>\n",
       "      <th>3</th>\n",
       "      <td>0</td>\n",
       "      <td>0</td>\n",
       "      <td>0</td>\n",
       "      <td>0</td>\n",
       "      <td>0</td>\n",
       "      <td>0</td>\n",
       "      <td>0</td>\n",
       "      <td>0</td>\n",
       "      <td>0</td>\n",
       "      <td>0</td>\n",
       "      <td>...</td>\n",
       "      <td>0</td>\n",
       "      <td>0</td>\n",
       "      <td>0</td>\n",
       "      <td>0</td>\n",
       "      <td>0</td>\n",
       "      <td>0</td>\n",
       "      <td>0</td>\n",
       "      <td>0</td>\n",
       "      <td>0</td>\n",
       "      <td>0</td>\n",
       "    </tr>\n",
       "    <tr>\n",
       "      <th>4</th>\n",
       "      <td>0</td>\n",
       "      <td>0</td>\n",
       "      <td>0</td>\n",
       "      <td>0</td>\n",
       "      <td>0</td>\n",
       "      <td>0</td>\n",
       "      <td>0</td>\n",
       "      <td>0</td>\n",
       "      <td>0</td>\n",
       "      <td>0</td>\n",
       "      <td>...</td>\n",
       "      <td>0</td>\n",
       "      <td>0</td>\n",
       "      <td>0</td>\n",
       "      <td>0</td>\n",
       "      <td>0</td>\n",
       "      <td>0</td>\n",
       "      <td>0</td>\n",
       "      <td>0</td>\n",
       "      <td>0</td>\n",
       "      <td>0</td>\n",
       "    </tr>\n",
       "  </tbody>\n",
       "</table>\n",
       "<p>5 rows × 77 columns</p>\n",
       "</div>"
      ],
      "text/plain": [
       "   1    2    3    4    5    6    7    8    9    10  ...   112  114  122  124  \\\n",
       "0    0    0    0    0    0    0    0    0    0    0 ...     0    0    0    0   \n",
       "1    0    0    0    0    1    0    0    0    0    0 ...     0    0    0    0   \n",
       "2    0    0    0    0    0    0    0    0    0    0 ...     0    0    0    0   \n",
       "3    0    0    0    0    0    0    0    0    0    0 ...     0    0    0    0   \n",
       "4    0    0    0    0    0    0    0    0    0    0 ...     0    0    0    0   \n",
       "\n",
       "   143  146  155  174  207  234  \n",
       "0    0    0    0    0    0    0  \n",
       "1    0    0    0    0    0    0  \n",
       "2    0    0    0    0    0    0  \n",
       "3    0    0    0    0    0    0  \n",
       "4    0    0    0    0    0    0  \n",
       "\n",
       "[5 rows x 77 columns]"
      ]
     },
     "execution_count": 27,
     "metadata": {},
     "output_type": "execute_result"
    }
   ],
   "source": [
    "#Realized it would be better to bin wins over having this many dummy columns\n",
    "otherwinsdf.head()"
   ]
  },
  {
   "cell_type": "code",
   "execution_count": 28,
   "metadata": {
    "collapsed": false,
    "scrolled": true
   },
   "outputs": [],
   "source": [
    "#replace all 1's with the name of the column so that the value shows how many other awards the movie won\n",
    "otherwinsdf=otherwinsdf.T.apply(lambda x:np.where(x==1,x.index,0)).T"
   ]
  },
  {
   "cell_type": "code",
   "execution_count": 29,
   "metadata": {
    "collapsed": false
   },
   "outputs": [],
   "source": [
    "#sum across all columns of wins\n",
    "df2['totalotherwins']=otherwinsdf.sum(axis=1)      "
   ]
  },
  {
   "cell_type": "markdown",
   "metadata": {},
   "source": [
    "# Visualize other wins"
   ]
  },
  {
   "cell_type": "code",
   "execution_count": 30,
   "metadata": {
    "collapsed": false
   },
   "outputs": [],
   "source": [
    "\n",
    "otherwinsgraph=df2['totalotherwins'].value_counts().to_frame()"
   ]
  },
  {
   "cell_type": "code",
   "execution_count": 31,
   "metadata": {
    "collapsed": false
   },
   "outputs": [],
   "source": [
    "otherwinsgraph.reset_index(level=0, inplace=True)"
   ]
  },
  {
   "cell_type": "code",
   "execution_count": 32,
   "metadata": {
    "collapsed": false,
    "scrolled": true
   },
   "outputs": [
    {
     "name": "stderr",
     "output_type": "stream",
     "text": [
      "/Users/samanthafalk/anaconda/lib/python2.7/site-packages/ipykernel/__main__.py:1: FutureWarning: sort(columns=....) is deprecated, use sort_values(by=.....)\n",
      "  if __name__ == '__main__':\n"
     ]
    }
   ],
   "source": [
    "otherwinsgraph.sort(columns='index', inplace=True)"
   ]
  },
  {
   "cell_type": "code",
   "execution_count": 33,
   "metadata": {
    "collapsed": false
   },
   "outputs": [],
   "source": [
    "otherwinsgraph=otherwinsgraph.iloc[1:, :]"
   ]
  },
  {
   "cell_type": "code",
   "execution_count": 34,
   "metadata": {
    "collapsed": true
   },
   "outputs": [],
   "source": [
    "plt.style.use('fivethirtyeight')"
   ]
  },
  {
   "cell_type": "code",
   "execution_count": 35,
   "metadata": {
    "collapsed": false,
    "scrolled": true
   },
   "outputs": [
    {
     "data": {
      "text/plain": [
       "<matplotlib.text.Text at 0x11532c590>"
      ]
     },
     "execution_count": 35,
     "metadata": {},
     "output_type": "execute_result"
    },
    {
     "data": {
      "image/png": "[encoded data removed]",
      "text/plain": [
       "<matplotlib.figure.Figure at 0x11531c350>"
      ]
     },
     "metadata": {},
     "output_type": "display_data"
    }
   ],
   "source": [
    "plt.figure(figsize=(10,5))\n",
    "plt.bar(otherwinsgraph['index'], otherwinsgraph['totalotherwins'], width=1, color='red')\n",
    "plt.ylabel('Occurances')\n",
    "plt.xlabel('Number of Other Awards')\n"
   ]
  },
  {
   "cell_type": "markdown",
   "metadata": {},
   "source": [
    "# Bin Other Wins"
   ]
  },
  {
   "cell_type": "code",
   "execution_count": 36,
   "metadata": {
    "collapsed": true
   },
   "outputs": [],
   "source": [
    "#find IQR bins\n",
    "q75, q50, q25 = np.percentile(df2['totalotherwins'], [75, 50 ,25])"
   ]
  },
  {
   "cell_type": "code",
   "execution_count": 37,
   "metadata": {
    "collapsed": false
   },
   "outputs": [
    {
     "data": {
      "text/plain": [
       "(34.0, 15.0, 4.0)"
      ]
     },
     "execution_count": 37,
     "metadata": {},
     "output_type": "execute_result"
    }
   ],
   "source": [
    "q75, q50, q25"
   ]
  },
  {
   "cell_type": "code",
   "execution_count": 38,
   "metadata": {
    "collapsed": false
   },
   "outputs": [],
   "source": [
    "#create bins\n",
    "bins = [0, 4, 15, 34, 300]\n",
    "group_names =['1-4 wins', '5-15 wins','16-34 wins', '35+ wins']\n"
   ]
  },
  {
   "cell_type": "code",
   "execution_count": 39,
   "metadata": {
    "collapsed": true
   },
   "outputs": [],
   "source": [
    "#force categories into dataframe\n",
    "df2['otherwinsbin'] = pd.cut(df2['totalotherwins'], bins, labels=group_names)"
   ]
  },
  {
   "cell_type": "code",
   "execution_count": 40,
   "metadata": {
    "collapsed": false
   },
   "outputs": [
    {
     "data": {
      "text/plain": [
       "Index([        u'Actors',         u'Awards',        u'Country',\n",
       "             u'Director',          u'Genre',       u'Language',\n",
       "            u'Metascore',           u'Plot',         u'Poster',\n",
       "                u'Rated',       u'Released',       u'Response',\n",
       "              u'Runtime',          u'Title',           u'Type',\n",
       "               u'Writer',           u'Year',         u'imdbID',\n",
       "           u'imdbRating',      u'imdbVotes', u'totalotherwins',\n",
       "         u'otherwinsbin'],\n",
       "      dtype='object')"
      ]
     },
     "execution_count": 40,
     "metadata": {},
     "output_type": "execute_result"
    }
   ],
   "source": [
    "#check columns\n",
    "df2.columns"
   ]
  },
  {
   "cell_type": "markdown",
   "metadata": {},
   "source": [
    "# Seperate target into two categories"
   ]
  },
  {
   "cell_type": "code",
   "execution_count": 41,
   "metadata": {
    "collapsed": false,
    "scrolled": true
   },
   "outputs": [],
   "source": [
    "#make rating into floats\n",
    "df2['imdbRating']= [float(x) for x in df2['imdbRating']]"
   ]
  },
  {
   "cell_type": "code",
   "execution_count": 42,
   "metadata": {
    "collapsed": false
   },
   "outputs": [],
   "source": [
    "#find mean of all ratings (can be used if needed to apply to larger dataset)\n",
    "mean=df2['imdbRating'].mean()\n",
    "#create dummies from above or below the mean\n",
    "df2['ratingHorL']=[1 if x>mean else 0 for x in df2['imdbRating']]"
   ]
  },
  {
   "cell_type": "markdown",
   "metadata": {},
   "source": [
    "# Compare actors and directors  to outsourced data from AMC"
   ]
  },
  {
   "cell_type": "code",
   "execution_count": 43,
   "metadata": {
    "collapsed": false
   },
   "outputs": [],
   "source": [
    "#create list from actors (4 different actors for each movie)\n",
    "df2['ActorsLst']=[x.split(', ') for x in df2['Actors']]"
   ]
  },
  {
   "cell_type": "code",
   "execution_count": 44,
   "metadata": {
    "collapsed": false,
    "scrolled": true
   },
   "outputs": [
    {
     "data": {
      "text/plain": [
       "100"
      ]
     },
     "execution_count": 44,
     "metadata": {},
     "output_type": "execute_result"
    }
   ],
   "source": [
    "#top actors list scrape from AMC\n",
    "topactors=[]\n",
    "r = requests.get('http://www.amc.com/movie-guide/the-50-greatest-actresses-of-all-time')\n",
    "soup=BeautifulSoup(r.content, 'lxml')\n",
    "for x in soup.findAll(\"div\", class_ = \"list-i-title\" ):\n",
    "    topactors.append(x.text)\n",
    "    \n",
    "r2 = requests.get('http://www.amc.com/movie-guide/the-50-greatest-actors-of-all-time')\n",
    "soup2=BeautifulSoup(r2.content, 'lxml')\n",
    "for x in soup2.findAll(\"div\", class_ = \"list-i-title\" ):\n",
    "    topactors.append(x.text)\n",
    "\n",
    "#test to be sure I have all 100 actors\n",
    "len(topactors)"
   ]
  },
  {
   "cell_type": "code",
   "execution_count": 45,
   "metadata": {
    "collapsed": true
   },
   "outputs": [],
   "source": [
    "#count how many actors from each movie are listed in AMC's greatest actors/actresses of all time\n",
    "movietopcount=[]\n",
    "for x in df2['ActorsLst']:\n",
    "    topcount=0\n",
    "    for name in x:\n",
    "        if name in topactors:\n",
    "            topcount=topcount+1\n",
    "    movietopcount.append(topcount)         "
   ]
  },
  {
   "cell_type": "code",
   "execution_count": 46,
   "metadata": {
    "collapsed": false
   },
   "outputs": [],
   "source": [
    "#create new column with top actor counts for each movie\n",
    "df2['movietopcount']=movietopcount"
   ]
  },
  {
   "cell_type": "code",
   "execution_count": 47,
   "metadata": {
    "collapsed": false,
    "scrolled": true
   },
   "outputs": [
    {
     "data": {
      "text/plain": [
       "157"
      ]
     },
     "execution_count": 47,
     "metadata": {},
     "output_type": "execute_result"
    }
   ],
   "source": [
    "#check \n",
    "df2['Director'].nunique()"
   ]
  },
  {
   "cell_type": "code",
   "execution_count": 48,
   "metadata": {
    "collapsed": false
   },
   "outputs": [
    {
     "data": {
      "text/plain": [
       "50"
      ]
     },
     "execution_count": 48,
     "metadata": {},
     "output_type": "execute_result"
    }
   ],
   "source": [
    "#import directors list\n",
    "topdirectorslst=[]\n",
    "r = requests.get('http://www.amc.com/movie-guide/the-50-greatest-directors-of-all-time')\n",
    "soup=BeautifulSoup(r.content, 'lxml')\n",
    "for x in soup.findAll(\"div\", class_ = \"list-i-title\" ):\n",
    "    topdirectorslst.append(x.text)\n",
    "\n",
    "#check to be sure all 50 directors were scraped\n",
    "len(topdirectorslst)"
   ]
  },
  {
   "cell_type": "code",
   "execution_count": 49,
   "metadata": {
    "collapsed": false
   },
   "outputs": [],
   "source": [
    "#create new data to say if a director was in the top list or not\n",
    "topdirect=[]\n",
    "for x in df2['Director']:\n",
    "    if x in topdirectorslst:\n",
    "        topdirect.append(1)\n",
    "    else:\n",
    "        topdirect.append(0)"
   ]
  },
  {
   "cell_type": "code",
   "execution_count": 50,
   "metadata": {
    "collapsed": true
   },
   "outputs": [],
   "source": [
    "#create new column with above info\n",
    "df2['topdirect']=topdirect"
   ]
  },
  {
   "cell_type": "code",
   "execution_count": 51,
   "metadata": {
    "collapsed": false,
    "scrolled": true
   },
   "outputs": [],
   "source": [
    "#concat all features together\n",
    "df3=pd.concat([df2[['topdirect', 'movietopcount', 'otherwinsbin']], oscarsdf], axis=1)"
   ]
  },
  {
   "cell_type": "code",
   "execution_count": 52,
   "metadata": {
    "collapsed": false,
    "scrolled": true
   },
   "outputs": [],
   "source": [
    "#CHANGE OTHER WINS BIN INTO DUMMIES\n",
    "df3['otherwinsbin'] = df3['otherwinsbin'].astype(str)\n",
    "\n",
    "df3.loc[df3['otherwinsbin'] == 'nan','otherwinsbin'] = 0"
   ]
  },
  {
   "cell_type": "code",
   "execution_count": 53,
   "metadata": {
    "collapsed": false
   },
   "outputs": [],
   "source": [
    "import patsy\n",
    "otherwins2= patsy.dmatrix('~ C(otherwinsbin)', df3)"
   ]
  },
  {
   "cell_type": "code",
   "execution_count": 54,
   "metadata": {
    "collapsed": false
   },
   "outputs": [
    {
     "data": {
      "text/plain": [
       "DesignMatrix with shape (250, 5)\n",
       "  Columns:\n",
       "    ['Intercept',\n",
       "     'C(otherwinsbin)[T.1-4 wins]',\n",
       "     'C(otherwinsbin)[T.16-34 wins]',\n",
       "     'C(otherwinsbin)[T.35+ wins]',\n",
       "     'C(otherwinsbin)[T.5-15 wins]']\n",
       "  Terms:\n",
       "    'Intercept' (column 0), 'C(otherwinsbin)' (columns 1:5)\n",
       "  (to view full data, use np.asarray(this_obj))"
      ]
     },
     "execution_count": 54,
     "metadata": {},
     "output_type": "execute_result"
    }
   ],
   "source": [
    "otherwins2"
   ]
  },
  {
   "cell_type": "code",
   "execution_count": 55,
   "metadata": {
    "collapsed": false
   },
   "outputs": [],
   "source": [
    "otherwins2=pd.DataFrame(otherwins2, columns=['Intercept',\n",
    "     '1-4 wins',\n",
    "     '16-34 wins',\n",
    "     '35+ wins',\n",
    "     '5-15 wins'])"
   ]
  },
  {
   "cell_type": "code",
   "execution_count": 56,
   "metadata": {
    "collapsed": false,
    "scrolled": true
   },
   "outputs": [],
   "source": [
    "#add new dummies to features\n",
    "df_f_model=pd.concat([df3, otherwins2], axis=1)"
   ]
  },
  {
   "cell_type": "code",
   "execution_count": 57,
   "metadata": {
    "collapsed": false
   },
   "outputs": [],
   "source": [
    "#remove unecassary features\n",
    "X=df_f_model.drop('otherwinsbin', axis=1)"
   ]
  },
  {
   "cell_type": "code",
   "execution_count": 58,
   "metadata": {
    "collapsed": false
   },
   "outputs": [],
   "source": [
    "#drop intercept\n",
    "X=X.drop('Intercept', axis=1)"
   ]
  },
  {
   "cell_type": "code",
   "execution_count": 59,
   "metadata": {
    "collapsed": false,
    "scrolled": true
   },
   "outputs": [],
   "source": [
    "#define target\n",
    "y=df2['ratingHorL']"
   ]
  },
  {
   "cell_type": "markdown",
   "metadata": {},
   "source": [
    "X=CONCAT OSCARS with ACTORS, OTHER WINS \n",
    "\n",
    "\n",
    "\n",
    "Y= RATING (above or below mean)"
   ]
  },
  {
   "cell_type": "markdown",
   "metadata": {},
   "source": [
    "## MODELS"
   ]
  },
  {
   "cell_type": "code",
   "execution_count": 60,
   "metadata": {
    "collapsed": false,
    "scrolled": true
   },
   "outputs": [],
   "source": [
    "##FROM LAB WEEK 6 DAY 5\n",
    "from sklearn.cross_validation import train_test_split, KFold\n",
    "from sklearn.metrics import accuracy_score, precision_score, recall_score, confusion_matrix, classification_report\n",
    "\n",
    "#Create train test split\n",
    "X_train, X_test, y_train, y_test = train_test_split(X, y, test_size=0.3, random_state=666)\n",
    "\n",
    "#create a function that evaluates the model once built\n",
    "def evaluate_model(model):\n",
    "    #fit model on train\n",
    "    model.fit(X_train, y_train)\n",
    "    \n",
    "    #predict High or Low based on test\n",
    "    y_pred = model.predict(X_test)\n",
    "    \n",
    "    #create accuracy between the actual ratings and the predicted ratings\n",
    "    a = accuracy_score(y_test, y_pred)\n",
    "    \n",
    "    #create a confusion matrix\n",
    "    cm = confusion_matrix(y_test, y_pred)\n",
    "    \n",
    "    #create a classification report, which includes f1 score\n",
    "    cr = classification_report(y_test, y_pred)\n",
    "    \n",
    "    #return elements built above\n",
    "    print cm\n",
    "    print cr\n",
    "    \n",
    "    return a\n",
    "\n",
    "#create empty dictionary to input scores\n",
    "all_models = {}"
   ]
  },
  {
   "cell_type": "markdown",
   "metadata": {},
   "source": [
    "# Decision Tree"
   ]
  },
  {
   "cell_type": "code",
   "execution_count": 61,
   "metadata": {
    "collapsed": false
   },
   "outputs": [
    {
     "name": "stdout",
     "output_type": "stream",
     "text": [
      "[[41 12]\n",
      " [16  6]]\n",
      "             precision    recall  f1-score   support\n",
      "\n",
      "          0       0.72      0.77      0.75        53\n",
      "          1       0.33      0.27      0.30        22\n",
      "\n",
      "avg / total       0.61      0.63      0.61        75\n",
      "\n"
     ]
    }
   ],
   "source": [
    "#import\n",
    "from sklearn.tree import DecisionTreeClassifier\n",
    "\n",
    "#create decision tree model\n",
    "dt = DecisionTreeClassifier()\n",
    "\n",
    "#add model to dictionary\n",
    "all_models['dt'] = {'model': dt,\n",
    "                    'score': evaluate_model(dt)}"
   ]
  },
  {
   "cell_type": "code",
   "execution_count": 62,
   "metadata": {
    "collapsed": true
   },
   "outputs": [],
   "source": [
    "from sklearn.grid_search import GridSearchCV"
   ]
  },
  {
   "cell_type": "code",
   "execution_count": 63,
   "metadata": {
    "collapsed": false
   },
   "outputs": [
    {
     "name": "stdout",
     "output_type": "stream",
     "text": [
      "{'min_samples_split': 5, 'splitter': 'random', 'criterion': 'gini', 'max_depth': 5, 'min_samples_leaf': 2}\n",
      "0.7\n",
      "[[50  3]\n",
      " [18  4]]\n",
      "             precision    recall  f1-score   support\n",
      "\n",
      "          0       0.74      0.94      0.83        53\n",
      "          1       0.57      0.18      0.28        22\n",
      "\n",
      "avg / total       0.69      0.72      0.66        75\n",
      "\n"
     ]
    }
   ],
   "source": [
    "#create dictionary of possible parmaters for the gridsearch\n",
    "params = {'criterion': ['gini', 'entropy'],\n",
    "          'splitter': ['best', 'random'],\n",
    "          'max_depth': [None, 5, 10],\n",
    "          'min_samples_split': [2, 5],\n",
    "          'min_samples_leaf': [1, 2, 3]}\n",
    "#perform gridsearch\n",
    "gsdt = GridSearchCV(dt,\n",
    "                    params, n_jobs=-1,\n",
    "                    cv=KFold(len(y), n_folds=3, shuffle=True))\n",
    "\n",
    "#fit best gridsearch model, use X and y instead of training since girdsearch uses kfold\n",
    "gsdt.fit(X, y)\n",
    "print gsdt.best_params_\n",
    "print gsdt.best_score_\n",
    "\n",
    "#call function on best params and best score\n",
    "all_models['gsdt'] = {'model': gsdt.best_estimator_,\n",
    "                      'score': evaluate_model(gsdt.best_estimator_)}"
   ]
  },
  {
   "cell_type": "code",
   "execution_count": 64,
   "metadata": {
    "collapsed": true
   },
   "outputs": [],
   "source": [
    "#import\n",
    "from sklearn.ensemble import BaggingClassifier"
   ]
  },
  {
   "cell_type": "code",
   "execution_count": 65,
   "metadata": {
    "collapsed": true
   },
   "outputs": [],
   "source": [
    "#bagging dictionary to be passed into gridsearch\n",
    "bagging_params = {'n_estimators': [10, 20],\n",
    "                  'max_samples': [0.7, 1.0],\n",
    "                  'max_features': [0.7, 1.0],\n",
    "                  'bootstrap_features': [True, False]}"
   ]
  },
  {
   "cell_type": "code",
   "execution_count": 66,
   "metadata": {
    "collapsed": false
   },
   "outputs": [
    {
     "name": "stdout",
     "output_type": "stream",
     "text": [
      "{'max_features': 0.7, 'max_samples': 1.0, 'n_estimators': 20, 'bootstrap_features': False}\n",
      "0.684\n",
      "[[50  3]\n",
      " [20  2]]\n",
      "             precision    recall  f1-score   support\n",
      "\n",
      "          0       0.71      0.94      0.81        53\n",
      "          1       0.40      0.09      0.15        22\n",
      "\n",
      "avg / total       0.62      0.69      0.62        75\n",
      "\n"
     ]
    }
   ],
   "source": [
    "#run gridsearch on decision tree clasifier\n",
    "gsbaggingdt = GridSearchCV(BaggingClassifier(gsdt.best_estimator_),\n",
    "                           bagging_params, n_jobs=-1,\n",
    "                           cv=KFold(len(y), n_folds=3, shuffle=True))\n",
    "\n",
    "#fit best gridsearch model, use X and y instead of training since girdsearch uses kfold\n",
    "gsbaggingdt.fit(X, y)\n",
    "\n",
    "print gsbaggingdt.best_params_\n",
    "print gsbaggingdt.best_score_\n",
    "\n",
    "#run model function \n",
    "all_models['gsbaggingdt'] = {'model': gsbaggingdt.best_estimator_,\n",
    "                             'score': evaluate_model(gsbaggingdt.best_estimator_)}"
   ]
  },
  {
   "cell_type": "markdown",
   "metadata": {},
   "source": [
    "## Random Forest & Extra Trees w/ gridsearch"
   ]
  },
  {
   "cell_type": "code",
   "execution_count": 67,
   "metadata": {
    "collapsed": false
   },
   "outputs": [
    {
     "name": "stdout",
     "output_type": "stream",
     "text": [
      "[[43 10]\n",
      " [16  6]]\n",
      "             precision    recall  f1-score   support\n",
      "\n",
      "          0       0.73      0.81      0.77        53\n",
      "          1       0.38      0.27      0.32        22\n",
      "\n",
      "avg / total       0.63      0.65      0.64        75\n",
      "\n",
      "[[44  9]\n",
      " [17  5]]\n",
      "             precision    recall  f1-score   support\n",
      "\n",
      "          0       0.72      0.83      0.77        53\n",
      "          1       0.36      0.23      0.28        22\n",
      "\n",
      "avg / total       0.61      0.65      0.63        75\n",
      "\n"
     ]
    }
   ],
   "source": [
    "from sklearn.ensemble import RandomForestClassifier, ExtraTreesClassifier\n",
    "\n",
    "#call RT class\n",
    "rf = RandomForestClassifier()\n",
    "\n",
    "#call function to run model\n",
    "all_models['rf'] = {'model': rf,\n",
    "                    'score': evaluate_model(rf)}\n",
    "\n",
    "\n",
    "#call ET class\n",
    "et = ExtraTreesClassifier()\n",
    "\n",
    "#call function to run model\n",
    "all_models['et'] = {'model': et,\n",
    "                    'score': evaluate_model(et)}"
   ]
  },
  {
   "cell_type": "code",
   "execution_count": 68,
   "metadata": {
    "collapsed": false
   },
   "outputs": [
    {
     "name": "stdout",
     "output_type": "stream",
     "text": [
      "{'min_samples_split': 2, 'n_estimators': 10, 'criterion': 'gini', 'max_depth': 5, 'class_weight': None}\n",
      "0.688\n",
      "[[49  4]\n",
      " [19  3]]\n",
      "             precision    recall  f1-score   support\n",
      "\n",
      "          0       0.72      0.92      0.81        53\n",
      "          1       0.43      0.14      0.21        22\n",
      "\n",
      "avg / total       0.63      0.69      0.63        75\n",
      "\n"
     ]
    }
   ],
   "source": [
    "#define options for gridsearch\n",
    "params = {'n_estimators':[3, 5, 10, 50],\n",
    "          'criterion': ['gini', 'entropy'],\n",
    "          'max_depth': [None, 3, 5],\n",
    "          'min_samples_split': [2,5],\n",
    "          'class_weight':[None, 'balanced']}\n",
    "\n",
    "#run gridsearch\n",
    "gsrf = GridSearchCV(RandomForestClassifier(n_jobs=-1),\n",
    "                    params, n_jobs=-1,\n",
    "                    cv=KFold(len(y), n_folds=3, shuffle=True))\n",
    "\n",
    "#fit best gridsearch model, use X and y instead of training since girdsearch uses kfold\n",
    "gsrf.fit(X, y)\n",
    "print gsrf.best_params_\n",
    "print gsrf.best_score_\n",
    "\n",
    "#call function to run model and find score\n",
    "all_models['gsrf'] = {'model': gsrf.best_estimator_,\n",
    "                      'score': evaluate_model(gsrf.best_estimator_)}"
   ]
  },
  {
   "cell_type": "code",
   "execution_count": 69,
   "metadata": {
    "collapsed": false
   },
   "outputs": [
    {
     "name": "stdout",
     "output_type": "stream",
     "text": [
      "{'min_samples_split': 5, 'n_estimators': 5, 'criterion': 'gini', 'max_depth': 3, 'class_weight': None}\n",
      "0.684\n",
      "[[46  7]\n",
      " [19  3]]\n",
      "             precision    recall  f1-score   support\n",
      "\n",
      "          0       0.71      0.87      0.78        53\n",
      "          1       0.30      0.14      0.19        22\n",
      "\n",
      "avg / total       0.59      0.65      0.61        75\n",
      "\n"
     ]
    }
   ],
   "source": [
    "#run gridsearch on RT\n",
    "gset = GridSearchCV(RandomForestClassifier(n_jobs=-1),\n",
    "                    params, n_jobs=-1,\n",
    "                    cv=KFold(len(y), n_folds=3, shuffle=True))\n",
    "\n",
    "#fit best gridsearch model, use X and y instead of training since girdsearch uses kfold\n",
    "gset.fit(X, y)\n",
    "print gset.best_params_\n",
    "print gset.best_score_\n",
    "\n",
    "#call function to run model and find score\n",
    "all_models['gset'] = {'model': gset.best_estimator_,\n",
    "                      'score': evaluate_model(gset.best_estimator_)}"
   ]
  },
  {
   "cell_type": "code",
   "execution_count": 70,
   "metadata": {
    "collapsed": false
   },
   "outputs": [
    {
     "data": {
      "text/html": [
       "<div>\n",
       "<table border=\"1\" class=\"dataframe\">\n",
       "  <thead>\n",
       "    <tr style=\"text-align: right;\">\n",
       "      <th></th>\n",
       "      <th>score</th>\n",
       "    </tr>\n",
       "    <tr>\n",
       "      <th>model</th>\n",
       "      <th></th>\n",
       "    </tr>\n",
       "  </thead>\n",
       "  <tbody>\n",
       "    <tr>\n",
       "      <th>gsdt</th>\n",
       "      <td>0.720000</td>\n",
       "    </tr>\n",
       "    <tr>\n",
       "      <th>gsrf</th>\n",
       "      <td>0.693333</td>\n",
       "    </tr>\n",
       "    <tr>\n",
       "      <th>gsbaggingdt</th>\n",
       "      <td>0.693333</td>\n",
       "    </tr>\n",
       "    <tr>\n",
       "      <th>rf</th>\n",
       "      <td>0.653333</td>\n",
       "    </tr>\n",
       "    <tr>\n",
       "      <th>gset</th>\n",
       "      <td>0.653333</td>\n",
       "    </tr>\n",
       "    <tr>\n",
       "      <th>et</th>\n",
       "      <td>0.653333</td>\n",
       "    </tr>\n",
       "    <tr>\n",
       "      <th>dt</th>\n",
       "      <td>0.626667</td>\n",
       "    </tr>\n",
       "  </tbody>\n",
       "</table>\n",
       "</div>"
      ],
      "text/plain": [
       "                score\n",
       "model                \n",
       "gsdt         0.720000\n",
       "gsrf         0.693333\n",
       "gsbaggingdt  0.693333\n",
       "rf           0.653333\n",
       "gset         0.653333\n",
       "et           0.653333\n",
       "dt           0.626667"
      ]
     },
     "execution_count": 70,
     "metadata": {},
     "output_type": "execute_result"
    },
    {
     "data": {
      "image/png": "[encoded data removed]",
      "text/plain": [
       "<matplotlib.figure.Figure at 0x11b67f690>"
      ]
     },
     "metadata": {},
     "output_type": "display_data"
    }
   ],
   "source": [
    "#return compilation of all scores for models run & graoh\n",
    "scores = pd.DataFrame([(k, v['score']) for k, v in all_models.iteritems()],\n",
    "             columns=['model', 'score']).set_index('model').sort_values('score', ascending=False)\n",
    "\n",
    "\n",
    "scores.plot(kind='bar')\n",
    "plt.ylim(0.6, 1.1)\n",
    "\n",
    "scores"
   ]
  },
  {
   "cell_type": "code",
   "execution_count": 71,
   "metadata": {
    "collapsed": false
   },
   "outputs": [
    {
     "data": {
      "text/plain": [
       "{'dt': {'model': DecisionTreeClassifier(class_weight=None, criterion='gini', max_depth=None,\n",
       "              max_features=None, max_leaf_nodes=None, min_samples_leaf=1,\n",
       "              min_samples_split=2, min_weight_fraction_leaf=0.0,\n",
       "              presort=False, random_state=None, splitter='best'),\n",
       "  'score': 0.62666666666666671},\n",
       " 'et': {'model': ExtraTreesClassifier(bootstrap=False, class_weight=None, criterion='gini',\n",
       "             max_depth=None, max_features='auto', max_leaf_nodes=None,\n",
       "             min_samples_leaf=1, min_samples_split=2,\n",
       "             min_weight_fraction_leaf=0.0, n_estimators=10, n_jobs=1,\n",
       "             oob_score=False, random_state=None, verbose=0, warm_start=False),\n",
       "  'score': 0.65333333333333332},\n",
       " 'gsbaggingdt': {'model': BaggingClassifier(base_estimator=DecisionTreeClassifier(class_weight=None, criterion='gini', max_depth=5,\n",
       "              max_features=None, max_leaf_nodes=None, min_samples_leaf=2,\n",
       "              min_samples_split=5, min_weight_fraction_leaf=0.0,\n",
       "              presort=False, random_state=None, splitter='random'),\n",
       "           bootstrap=True, bootstrap_features=False, max_features=0.7,\n",
       "           max_samples=1.0, n_estimators=20, n_jobs=1, oob_score=False,\n",
       "           random_state=None, verbose=0, warm_start=False),\n",
       "  'score': 0.69333333333333336},\n",
       " 'gsdt': {'model': DecisionTreeClassifier(class_weight=None, criterion='gini', max_depth=5,\n",
       "              max_features=None, max_leaf_nodes=None, min_samples_leaf=2,\n",
       "              min_samples_split=5, min_weight_fraction_leaf=0.0,\n",
       "              presort=False, random_state=None, splitter='random'),\n",
       "  'score': 0.71999999999999997},\n",
       " 'gset': {'model': RandomForestClassifier(bootstrap=True, class_weight=None, criterion='gini',\n",
       "              max_depth=3, max_features='auto', max_leaf_nodes=None,\n",
       "              min_samples_leaf=1, min_samples_split=5,\n",
       "              min_weight_fraction_leaf=0.0, n_estimators=5, n_jobs=-1,\n",
       "              oob_score=False, random_state=None, verbose=0,\n",
       "              warm_start=False), 'score': 0.65333333333333332},\n",
       " 'gsrf': {'model': RandomForestClassifier(bootstrap=True, class_weight=None, criterion='gini',\n",
       "              max_depth=5, max_features='auto', max_leaf_nodes=None,\n",
       "              min_samples_leaf=1, min_samples_split=2,\n",
       "              min_weight_fraction_leaf=0.0, n_estimators=10, n_jobs=-1,\n",
       "              oob_score=False, random_state=None, verbose=0,\n",
       "              warm_start=False), 'score': 0.69333333333333336},\n",
       " 'rf': {'model': RandomForestClassifier(bootstrap=True, class_weight=None, criterion='gini',\n",
       "              max_depth=None, max_features='auto', max_leaf_nodes=None,\n",
       "              min_samples_leaf=1, min_samples_split=2,\n",
       "              min_weight_fraction_leaf=0.0, n_estimators=10, n_jobs=1,\n",
       "              oob_score=False, random_state=None, verbose=0,\n",
       "              warm_start=False), 'score': 0.65333333333333332}}"
      ]
     },
     "execution_count": 71,
     "metadata": {},
     "output_type": "execute_result"
    }
   ],
   "source": [
    "#details of all models run\n",
    "all_models"
   ]
  },
  {
   "cell_type": "code",
   "execution_count": 72,
   "metadata": {
    "collapsed": false
   },
   "outputs": [
    {
     "name": "stdout",
     "output_type": "stream",
     "text": [
      "gsrf rf gsbaggingdt gsdt gset et dt\n"
     ]
    }
   ],
   "source": [
    "from sklearn.cross_validation import cross_val_score, StratifiedKFold\n",
    "\n",
    "#define function that finds the cross val score of all the models previously ran\n",
    "def retest(model):\n",
    "    scores = cross_val_score(model, X, y,\n",
    "                             cv=StratifiedKFold(y, shuffle=True),\n",
    "                             n_jobs=-1)\n",
    "    m = scores.mean()\n",
    "    s = scores.std()\n",
    "    \n",
    "    return m, s\n",
    "\n",
    "#itterate through the names of the models and the details \n",
    "for k, v in all_models.iteritems():\n",
    "    # call previous function to find cross validation score\n",
    "    cvres = retest(v['model'])\n",
    "    \n",
    "    #print name to confirm it was run\n",
    "    print k, \n",
    "    \n",
    "    #save scores to new row in column cvres\n",
    "    all_models[k]['cvres'] = cvres\n",
    "    "
   ]
  },
  {
   "cell_type": "code",
   "execution_count": 73,
   "metadata": {
    "collapsed": false
   },
   "outputs": [
    {
     "name": "stdout",
     "output_type": "stream",
     "text": [
      "                score     error\n",
      "model                          \n",
      "gset         0.675942  0.017982\n",
      "gsbaggingdt  0.675846  0.030928\n",
      "gsrf         0.656005  0.014782\n",
      "rf           0.647925  0.023722\n",
      "et           0.607908  0.017021\n",
      "dt           0.599684  0.055998\n",
      "gsdt         0.596099  0.018125\n"
     ]
    },
    {
     "data": {
      "image/png": "[encoded data removed]",
      "text/plain": [
       "<matplotlib.figure.Figure at 0x11b723590>"
      ]
     },
     "metadata": {},
     "output_type": "display_data"
    }
   ],
   "source": [
    "#create new dataframe with crossvals and errors\n",
    "cvscores = pd.DataFrame([(k, v['cvres'][0], v['cvres'][1] ) for k, v in all_models.iteritems()],\n",
    "                        columns=['model', 'score', 'error']).set_index('model').sort_values('score', ascending=False)\n",
    "\n",
    "\n",
    "#plot cross val scores and errors\n",
    "fig, ax = plt.subplots()\n",
    "rects1 = ax.bar(range(len(cvscores)), cvscores.score,\n",
    "                yerr=cvscores.error,\n",
    "                tick_label=cvscores.index)\n",
    "\n",
    "#plot gen information\n",
    "ax.set_ylabel('Scores')\n",
    "plt.xticks(rotation=70)\n",
    "plt.ylim(0.6, 1.1)\n",
    "\n",
    "print cvscores\n"
   ]
  },
  {
   "cell_type": "code",
   "execution_count": 74,
   "metadata": {
    "collapsed": true
   },
   "outputs": [],
   "source": [
    "from itertools import cycle\n",
    "from sklearn.metrics import roc_curve, auc"
   ]
  },
  {
   "cell_type": "code",
   "execution_count": 75,
   "metadata": {
    "collapsed": false
   },
   "outputs": [
    {
     "data": {
      "image/png": "[encoded data removed]",
      "text/plain": [
       "<matplotlib.figure.Figure at 0x11b480390>"
      ]
     },
     "metadata": {},
     "output_type": "display_data"
    }
   ],
   "source": [
    "#ADAPTED FROM DOCUMENTATION FOR ROC CURVES\n",
    "#mean_tpr = 0.0\n",
    "#mean_fpr = np.linspace(0, 1, 100)\n",
    "\n",
    "colors = cycle(['cyan', 'indigo', 'seagreen', 'yellow', 'blue', 'darkorange'])\n",
    "lw = 2\n",
    "i = 0\n",
    "\n",
    "plt.figure(figsize=[11,9])\n",
    "\n",
    "for k, v in all_models.iteritems():\n",
    "    probas_ = v['model'].predict_proba(X_test)\n",
    "    # Compute ROC curve and area the curve\n",
    "    fpr, tpr, thresholds = roc_curve(y_test, probas_[:, 1])\n",
    "    #mean_tpr += interp(mean_fpr, fpr, tpr)\n",
    "    #mean_tpr[0] = 0.0\n",
    "    roc_auc = auc(fpr, tpr)\n",
    "    \n",
    "    plt.plot(fpr, tpr, lw=lw, label='ROC fold (area = %0.2f)' % (roc_auc))\n",
    "    \n",
    "    i +=1\n",
    "    \n",
    "plt.xlabel('False Positive Rate')\n",
    "plt.ylabel('True Positive Rate')\n",
    "plt.legend(loc=\"lower right\")\n",
    "plt.show()"
   ]
  },
  {
   "cell_type": "code",
   "execution_count": 76,
   "metadata": {
    "collapsed": false
   },
   "outputs": [
    {
     "data": {
      "text/plain": [
       "sklearn.grid_search.GridSearchCV"
      ]
     },
     "execution_count": 76,
     "metadata": {},
     "output_type": "execute_result"
    }
   ],
   "source": [
    "#troubleshooting\n",
    "type(gsdt)"
   ]
  }
 ],
 "metadata": {
  "anaconda-cloud": {},
  "kernelspec": {
   "display_name": "Python [Root]",
   "language": "python",
   "name": "Python [Root]"
  },
  "language_info": {
   "codemirror_mode": {
    "name": "ipython",
    "version": 2
   },
   "file_extension": ".py",
   "mimetype": "text/x-python",
   "name": "python",
   "nbconvert_exporter": "python",
   "pygments_lexer": "ipython2",
   "version": "2.7.12"
  }
 },
 "nbformat": 4,
 "nbformat_minor": 0
}
