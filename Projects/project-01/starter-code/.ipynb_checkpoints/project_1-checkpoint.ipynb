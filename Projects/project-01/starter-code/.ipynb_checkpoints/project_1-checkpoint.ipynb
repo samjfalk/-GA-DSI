{
 "cells": [
  {
   "cell_type": "markdown",
   "metadata": {},
   "source": [
    "# Project 1\n",
    "\n",
    "## Step 1: Open the `sat_scores.csv` file. Investigate the data, and answer the questions below.\n"
   ]
  },
  {
   "cell_type": "markdown",
   "metadata": {},
   "source": [
    "##### 1. What does the data describe?"
   ]
  },
  {
   "cell_type": "markdown",
   "metadata": {},
   "source": [
    "Participation Rate, Verbal score, Math score by state \n",
    "sorted by rate, with an average of all state scores at the bottom"
   ]
  },
  {
   "cell_type": "markdown",
   "metadata": {},
   "source": [
    "##### 2. Does the data look complete? Are there any obvious issues with the observations?"
   ]
  },
  {
   "cell_type": "markdown",
   "metadata": {},
   "source": [
    "not categorized properly "
   ]
  },
  {
   "cell_type": "markdown",
   "metadata": {},
   "source": [
    "##### 3. Create a data dictionary for the dataset."
   ]
  },
  {
   "cell_type": "code",
   "execution_count": 1,
   "metadata": {
    "collapsed": false,
    "scrolled": true
   },
   "outputs": [],
   "source": [
    "##import outside information for necassary operations\n",
    "import numpy as np\n",
    "import scipy.stats as stats\n",
    "import csv\n",
    "import seaborn as sns\n",
    "%matplotlib inline\n",
    "\n",
    "##create empty dictionary to fill   \n",
    "sat_scores= {}\n",
    "\n",
    "\n",
    "\n",
    "\n",
    "\n",
    "\n"
   ]
  },
  {
   "cell_type": "code",
   "execution_count": null,
   "metadata": {
    "collapsed": false,
    "scrolled": true
   },
   "outputs": [],
   "source": []
  },
  {
   "cell_type": "code",
   "execution_count": null,
   "metadata": {
    "collapsed": false
   },
   "outputs": [],
   "source": []
  },
  {
   "cell_type": "markdown",
   "metadata": {},
   "source": [
    "## Step 2: Load the data."
   ]
  },
  {
   "cell_type": "markdown",
   "metadata": {},
   "source": [
    "##### 4. Load the data into a list of lists"
   ]
  },
  {
   "cell_type": "code",
   "execution_count": 2,
   "metadata": {
    "collapsed": false
   },
   "outputs": [
    {
     "name": "stdout",
     "output_type": "stream",
     "text": [
      "['State', 'Rate', 'Verbal', 'Math']\n",
      "['CT', '82', '509', '510']\n",
      "['NJ', '81', '499', '513']\n",
      "['MA', '79', '511', '515']\n",
      "['NY', '77', '495', '505']\n",
      "['NH', '72', '520', '516']\n",
      "['RI', '71', '501', '499']\n",
      "['PA', '71', '500', '499']\n",
      "['VT', '69', '511', '506']\n",
      "['ME', '69', '506', '500']\n",
      "['VA', '68', '510', '501']\n",
      "['DE', '67', '501', '499']\n",
      "['MD', '65', '508', '510']\n",
      "['NC', '65', '493', '499']\n",
      "['GA', '63', '491', '489']\n",
      "['IN', '60', '499', '501']\n",
      "['SC', '57', '486', '488']\n",
      "['DC', '56', '482', '474']\n",
      "['OR', '55', '526', '526']\n",
      "['FL', '54', '498', '499']\n",
      "['WA', '53', '527', '527']\n",
      "['TX', '53', '493', '499']\n",
      "['HI', '52', '485', '515']\n",
      "['AK', '51', '514', '510']\n",
      "['CA', '51', '498', '517']\n",
      "['AZ', '34', '523', '525']\n",
      "['NV', '33', '509', '515']\n",
      "['CO', '31', '539', '542']\n",
      "['OH', '26', '534', '439']\n",
      "['MT', '23', '539', '539']\n",
      "['WV', '18', '527', '512']\n",
      "['ID', '17', '543', '542']\n",
      "['TN', '13', '562', '553']\n",
      "['NM', '13', '551', '542']\n",
      "['IL', '12', '576', '589']\n",
      "['KY', '12', '550', '550']\n",
      "['WY', '11', '547', '545']\n",
      "['MI', '11', '561', '572']\n",
      "['MN', '9', '580', '589']\n",
      "['KS', '9', '577', '580']\n",
      "['AL', '9', '559', '554']\n",
      "['NE', '8', '562', '568']\n",
      "['OK', '8', '567', '561']\n",
      "['MO', '8', '577', '577']\n",
      "['LA', '7', '564', '562']\n",
      "['WI', '6', '584', '596']\n",
      "['AR', '6', '562', '550']\n",
      "['UT', '5', '575', '570']\n",
      "['IA', '5', '593', '603']\n",
      "['SD', '4', '577', '582']\n",
      "['ND', '4', '592', '599']\n",
      "['MS', '4', '566', '551']\n",
      "['All', '45', '506', '514']\n"
     ]
    }
   ],
   "source": [
    "## import SAT information into a list called rows\n",
    "SAT_scores_path= '/Users/samanthafalk/GA-DSI/Projects/project-01/assets/sat_scores.csv'\n",
    "rows=[]\n",
    "with open (SAT_scores_path, 'r') as f:\n",
    "    reader = csv.reader(f)\n",
    "    for row in reader:\n",
    "        rows.append(row)\n",
    "        print row"
   ]
  },
  {
   "cell_type": "markdown",
   "metadata": {},
   "source": [
    "##### 5. Print the data"
   ]
  },
  {
   "cell_type": "code",
   "execution_count": 3,
   "metadata": {
    "collapsed": false,
    "scrolled": true
   },
   "outputs": [
    {
     "name": "stdout",
     "output_type": "stream",
     "text": [
      "[['State', 'Rate', 'Verbal', 'Math'], ['CT', '82', '509', '510'], ['NJ', '81', '499', '513'], ['MA', '79', '511', '515'], ['NY', '77', '495', '505'], ['NH', '72', '520', '516'], ['RI', '71', '501', '499'], ['PA', '71', '500', '499'], ['VT', '69', '511', '506'], ['ME', '69', '506', '500'], ['VA', '68', '510', '501'], ['DE', '67', '501', '499'], ['MD', '65', '508', '510'], ['NC', '65', '493', '499'], ['GA', '63', '491', '489'], ['IN', '60', '499', '501'], ['SC', '57', '486', '488'], ['DC', '56', '482', '474'], ['OR', '55', '526', '526'], ['FL', '54', '498', '499'], ['WA', '53', '527', '527'], ['TX', '53', '493', '499'], ['HI', '52', '485', '515'], ['AK', '51', '514', '510'], ['CA', '51', '498', '517'], ['AZ', '34', '523', '525'], ['NV', '33', '509', '515'], ['CO', '31', '539', '542'], ['OH', '26', '534', '439'], ['MT', '23', '539', '539'], ['WV', '18', '527', '512'], ['ID', '17', '543', '542'], ['TN', '13', '562', '553'], ['NM', '13', '551', '542'], ['IL', '12', '576', '589'], ['KY', '12', '550', '550'], ['WY', '11', '547', '545'], ['MI', '11', '561', '572'], ['MN', '9', '580', '589'], ['KS', '9', '577', '580'], ['AL', '9', '559', '554'], ['NE', '8', '562', '568'], ['OK', '8', '567', '561'], ['MO', '8', '577', '577'], ['LA', '7', '564', '562'], ['WI', '6', '584', '596'], ['AR', '6', '562', '550'], ['UT', '5', '575', '570'], ['IA', '5', '593', '603'], ['SD', '4', '577', '582'], ['ND', '4', '592', '599'], ['MS', '4', '566', '551'], ['All', '45', '506', '514']]\n"
     ]
    }
   ],
   "source": [
    "print rows"
   ]
  },
  {
   "cell_type": "code",
   "execution_count": 4,
   "metadata": {
    "collapsed": false
   },
   "outputs": [
    {
     "name": "stdout",
     "output_type": "stream",
     "text": [
      "[['CT', '82', '509', '510'], ['NJ', '81', '499', '513'], ['MA', '79', '511', '515'], ['NY', '77', '495', '505'], ['NH', '72', '520', '516'], ['RI', '71', '501', '499'], ['PA', '71', '500', '499'], ['VT', '69', '511', '506'], ['ME', '69', '506', '500'], ['VA', '68', '510', '501'], ['DE', '67', '501', '499'], ['MD', '65', '508', '510'], ['NC', '65', '493', '499'], ['GA', '63', '491', '489'], ['IN', '60', '499', '501'], ['SC', '57', '486', '488'], ['DC', '56', '482', '474'], ['OR', '55', '526', '526'], ['FL', '54', '498', '499'], ['WA', '53', '527', '527'], ['TX', '53', '493', '499'], ['HI', '52', '485', '515'], ['AK', '51', '514', '510'], ['CA', '51', '498', '517'], ['AZ', '34', '523', '525'], ['NV', '33', '509', '515'], ['CO', '31', '539', '542'], ['OH', '26', '534', '439'], ['MT', '23', '539', '539'], ['WV', '18', '527', '512'], ['ID', '17', '543', '542'], ['TN', '13', '562', '553'], ['NM', '13', '551', '542'], ['IL', '12', '576', '589'], ['KY', '12', '550', '550'], ['WY', '11', '547', '545'], ['MI', '11', '561', '572'], ['MN', '9', '580', '589'], ['KS', '9', '577', '580'], ['AL', '9', '559', '554'], ['NE', '8', '562', '568'], ['OK', '8', '567', '561'], ['MO', '8', '577', '577'], ['LA', '7', '564', '562'], ['WI', '6', '584', '596'], ['AR', '6', '562', '550'], ['UT', '5', '575', '570'], ['IA', '5', '593', '603'], ['SD', '4', '577', '582'], ['ND', '4', '592', '599'], ['MS', '4', '566', '551']]\n"
     ]
    }
   ],
   "source": [
    "#remove \"all\" and define data without header\n",
    "data= rows[1:-1]\n",
    "print data"
   ]
  },
  {
   "cell_type": "markdown",
   "metadata": {
    "collapsed": true
   },
   "source": [
    "##### 6. Extract a list of the labels from the data, and remove them from the data."
   ]
  },
  {
   "cell_type": "code",
   "execution_count": 5,
   "metadata": {
    "collapsed": false,
    "scrolled": true
   },
   "outputs": [
    {
     "name": "stdout",
     "output_type": "stream",
     "text": [
      "['State', 'Rate', 'Verbal', 'Math']\n"
     ]
    }
   ],
   "source": [
    "#note header for iteration\n",
    "header=rows[0]\n",
    "print header"
   ]
  },
  {
   "cell_type": "code",
   "execution_count": null,
   "metadata": {
    "collapsed": true
   },
   "outputs": [],
   "source": []
  },
  {
   "cell_type": "markdown",
   "metadata": {},
   "source": [
    "##### 7. Create a list of State names extracted from the data. (Hint: use the list of labels to index on the State column)"
   ]
  },
  {
   "cell_type": "code",
   "execution_count": 6,
   "metadata": {
    "collapsed": false,
    "scrolled": true
   },
   "outputs": [
    {
     "name": "stdout",
     "output_type": "stream",
     "text": [
      "['CT', 'NJ', 'MA', 'NY', 'NH', 'RI', 'PA', 'VT', 'ME', 'VA', 'DE', 'MD', 'NC', 'GA', 'IN', 'SC', 'DC', 'OR', 'FL', 'WA', 'TX', 'HI', 'AK', 'CA', 'AZ', 'NV', 'CO', 'OH', 'MT', 'WV', 'ID', 'TN', 'NM', 'IL', 'KY', 'WY', 'MI', 'MN', 'KS', 'AL', 'NE', 'OK', 'MO', 'LA', 'WI', 'AR', 'UT', 'IA', 'SD', 'ND', 'MS']\n"
     ]
    }
   ],
   "source": [
    "#note which rows are data, no need for all as it is a reflection of the data as a summary\n",
    "state_names= []\n",
    "for row in data:\n",
    "    state_names.append(row[0])\n",
    "print state_names"
   ]
  },
  {
   "cell_type": "code",
   "execution_count": null,
   "metadata": {
    "collapsed": true
   },
   "outputs": [],
   "source": []
  },
  {
   "cell_type": "markdown",
   "metadata": {},
   "source": [
    "##### 8. Print the types of each column"
   ]
  },
  {
   "cell_type": "code",
   "execution_count": 7,
   "metadata": {
    "collapsed": false
   },
   "outputs": [
    {
     "name": "stdout",
     "output_type": "stream",
     "text": [
      "CT <type 'str'>\n",
      "82 <type 'str'>\n",
      "509 <type 'str'>\n",
      "510 <type 'str'>\n",
      "NJ <type 'str'>\n",
      "81 <type 'str'>\n",
      "499 <type 'str'>\n",
      "513 <type 'str'>\n",
      "MA <type 'str'>\n",
      "79 <type 'str'>\n",
      "511 <type 'str'>\n",
      "515 <type 'str'>\n",
      "NY <type 'str'>\n",
      "77 <type 'str'>\n",
      "495 <type 'str'>\n",
      "505 <type 'str'>\n",
      "NH <type 'str'>\n",
      "72 <type 'str'>\n",
      "520 <type 'str'>\n",
      "516 <type 'str'>\n",
      "RI <type 'str'>\n",
      "71 <type 'str'>\n",
      "501 <type 'str'>\n",
      "499 <type 'str'>\n",
      "PA <type 'str'>\n",
      "71 <type 'str'>\n",
      "500 <type 'str'>\n",
      "499 <type 'str'>\n",
      "VT <type 'str'>\n",
      "69 <type 'str'>\n",
      "511 <type 'str'>\n",
      "506 <type 'str'>\n",
      "ME <type 'str'>\n",
      "69 <type 'str'>\n",
      "506 <type 'str'>\n",
      "500 <type 'str'>\n",
      "VA <type 'str'>\n",
      "68 <type 'str'>\n",
      "510 <type 'str'>\n",
      "501 <type 'str'>\n",
      "DE <type 'str'>\n",
      "67 <type 'str'>\n",
      "501 <type 'str'>\n",
      "499 <type 'str'>\n",
      "MD <type 'str'>\n",
      "65 <type 'str'>\n",
      "508 <type 'str'>\n",
      "510 <type 'str'>\n",
      "NC <type 'str'>\n",
      "65 <type 'str'>\n",
      "493 <type 'str'>\n",
      "499 <type 'str'>\n",
      "GA <type 'str'>\n",
      "63 <type 'str'>\n",
      "491 <type 'str'>\n",
      "489 <type 'str'>\n",
      "IN <type 'str'>\n",
      "60 <type 'str'>\n",
      "499 <type 'str'>\n",
      "501 <type 'str'>\n",
      "SC <type 'str'>\n",
      "57 <type 'str'>\n",
      "486 <type 'str'>\n",
      "488 <type 'str'>\n",
      "DC <type 'str'>\n",
      "56 <type 'str'>\n",
      "482 <type 'str'>\n",
      "474 <type 'str'>\n",
      "OR <type 'str'>\n",
      "55 <type 'str'>\n",
      "526 <type 'str'>\n",
      "526 <type 'str'>\n",
      "FL <type 'str'>\n",
      "54 <type 'str'>\n",
      "498 <type 'str'>\n",
      "499 <type 'str'>\n",
      "WA <type 'str'>\n",
      "53 <type 'str'>\n",
      "527 <type 'str'>\n",
      "527 <type 'str'>\n",
      "TX <type 'str'>\n",
      "53 <type 'str'>\n",
      "493 <type 'str'>\n",
      "499 <type 'str'>\n",
      "HI <type 'str'>\n",
      "52 <type 'str'>\n",
      "485 <type 'str'>\n",
      "515 <type 'str'>\n",
      "AK <type 'str'>\n",
      "51 <type 'str'>\n",
      "514 <type 'str'>\n",
      "510 <type 'str'>\n",
      "CA <type 'str'>\n",
      "51 <type 'str'>\n",
      "498 <type 'str'>\n",
      "517 <type 'str'>\n",
      "AZ <type 'str'>\n",
      "34 <type 'str'>\n",
      "523 <type 'str'>\n",
      "525 <type 'str'>\n",
      "NV <type 'str'>\n",
      "33 <type 'str'>\n",
      "509 <type 'str'>\n",
      "515 <type 'str'>\n",
      "CO <type 'str'>\n",
      "31 <type 'str'>\n",
      "539 <type 'str'>\n",
      "542 <type 'str'>\n",
      "OH <type 'str'>\n",
      "26 <type 'str'>\n",
      "534 <type 'str'>\n",
      "439 <type 'str'>\n",
      "MT <type 'str'>\n",
      "23 <type 'str'>\n",
      "539 <type 'str'>\n",
      "539 <type 'str'>\n",
      "WV <type 'str'>\n",
      "18 <type 'str'>\n",
      "527 <type 'str'>\n",
      "512 <type 'str'>\n",
      "ID <type 'str'>\n",
      "17 <type 'str'>\n",
      "543 <type 'str'>\n",
      "542 <type 'str'>\n",
      "TN <type 'str'>\n",
      "13 <type 'str'>\n",
      "562 <type 'str'>\n",
      "553 <type 'str'>\n",
      "NM <type 'str'>\n",
      "13 <type 'str'>\n",
      "551 <type 'str'>\n",
      "542 <type 'str'>\n",
      "IL <type 'str'>\n",
      "12 <type 'str'>\n",
      "576 <type 'str'>\n",
      "589 <type 'str'>\n",
      "KY <type 'str'>\n",
      "12 <type 'str'>\n",
      "550 <type 'str'>\n",
      "550 <type 'str'>\n",
      "WY <type 'str'>\n",
      "11 <type 'str'>\n",
      "547 <type 'str'>\n",
      "545 <type 'str'>\n",
      "MI <type 'str'>\n",
      "11 <type 'str'>\n",
      "561 <type 'str'>\n",
      "572 <type 'str'>\n",
      "MN <type 'str'>\n",
      "9 <type 'str'>\n",
      "580 <type 'str'>\n",
      "589 <type 'str'>\n",
      "KS <type 'str'>\n",
      "9 <type 'str'>\n",
      "577 <type 'str'>\n",
      "580 <type 'str'>\n",
      "AL <type 'str'>\n",
      "9 <type 'str'>\n",
      "559 <type 'str'>\n",
      "554 <type 'str'>\n",
      "NE <type 'str'>\n",
      "8 <type 'str'>\n",
      "562 <type 'str'>\n",
      "568 <type 'str'>\n",
      "OK <type 'str'>\n",
      "8 <type 'str'>\n",
      "567 <type 'str'>\n",
      "561 <type 'str'>\n",
      "MO <type 'str'>\n",
      "8 <type 'str'>\n",
      "577 <type 'str'>\n",
      "577 <type 'str'>\n",
      "LA <type 'str'>\n",
      "7 <type 'str'>\n",
      "564 <type 'str'>\n",
      "562 <type 'str'>\n",
      "WI <type 'str'>\n",
      "6 <type 'str'>\n",
      "584 <type 'str'>\n",
      "596 <type 'str'>\n",
      "AR <type 'str'>\n",
      "6 <type 'str'>\n",
      "562 <type 'str'>\n",
      "550 <type 'str'>\n",
      "UT <type 'str'>\n",
      "5 <type 'str'>\n",
      "575 <type 'str'>\n",
      "570 <type 'str'>\n",
      "IA <type 'str'>\n",
      "5 <type 'str'>\n",
      "593 <type 'str'>\n",
      "603 <type 'str'>\n",
      "SD <type 'str'>\n",
      "4 <type 'str'>\n",
      "577 <type 'str'>\n",
      "582 <type 'str'>\n",
      "ND <type 'str'>\n",
      "4 <type 'str'>\n",
      "592 <type 'str'>\n",
      "599 <type 'str'>\n",
      "MS <type 'str'>\n",
      "4 <type 'str'>\n",
      "566 <type 'str'>\n",
      "551 <type 'str'>\n"
     ]
    }
   ],
   "source": [
    "for row in data:\n",
    "    for item in row:\n",
    "        print item, type(item)\n"
   ]
  },
  {
   "cell_type": "markdown",
   "metadata": {},
   "source": [
    "##### 9. Do any types need to be reassigned? If so, go ahead and do it."
   ]
  },
  {
   "cell_type": "code",
   "execution_count": 9,
   "metadata": {
    "collapsed": false
   },
   "outputs": [
    {
     "name": "stdout",
     "output_type": "stream",
     "text": [
      "[['82', '509', '510'], ['81', '499', '513'], ['79', '511', '515'], ['77', '495', '505'], ['72', '520', '516'], ['71', '501', '499'], ['71', '500', '499'], ['69', '511', '506'], ['69', '506', '500'], ['68', '510', '501'], ['67', '501', '499'], ['65', '508', '510'], ['65', '493', '499'], ['63', '491', '489'], ['60', '499', '501'], ['57', '486', '488'], ['56', '482', '474'], ['55', '526', '526'], ['54', '498', '499'], ['53', '527', '527'], ['53', '493', '499'], ['52', '485', '515'], ['51', '514', '510'], ['51', '498', '517'], ['34', '523', '525'], ['33', '509', '515'], ['31', '539', '542'], ['26', '534', '439'], ['23', '539', '539'], ['18', '527', '512'], ['17', '543', '542'], ['13', '562', '553'], ['13', '551', '542'], ['12', '576', '589'], ['12', '550', '550'], ['11', '547', '545'], ['11', '561', '572'], ['9', '580', '589'], ['9', '577', '580'], ['9', '559', '554'], ['8', '562', '568'], ['8', '567', '561'], ['8', '577', '577'], ['7', '564', '562'], ['6', '584', '596'], ['6', '562', '550'], ['5', '575', '570'], ['5', '593', '603'], ['4', '577', '582'], ['4', '592', '599'], ['4', '566', '551']]\n"
     ]
    }
   ],
   "source": [
    "#remove state from data info\n",
    "for lst in data:\n",
    "    lst.remove(lst[0])\n",
    "print data"
   ]
  },
  {
   "cell_type": "code",
   "execution_count": 12,
   "metadata": {
    "collapsed": false
   },
   "outputs": [
    {
     "name": "stdout",
     "output_type": "stream",
     "text": [
      "[[82, 509, 510], [81, 499, 513], [79, 511, 515], [77, 495, 505], [72, 520, 516], [71, 501, 499], [71, 500, 499], [69, 511, 506], [69, 506, 500], [68, 510, 501], [67, 501, 499], [65, 508, 510], [65, 493, 499], [63, 491, 489], [60, 499, 501], [57, 486, 488], [56, 482, 474], [55, 526, 526], [54, 498, 499], [53, 527, 527], [53, 493, 499], [52, 485, 515], [51, 514, 510], [51, 498, 517], [34, 523, 525], [33, 509, 515], [31, 539, 542], [26, 534, 439], [23, 539, 539], [18, 527, 512], [17, 543, 542], [13, 562, 553], [13, 551, 542], [12, 576, 589], [12, 550, 550], [11, 547, 545], [11, 561, 572], [9, 580, 589], [9, 577, 580], [9, 559, 554], [8, 562, 568], [8, 567, 561], [8, 577, 577], [7, 564, 562], [6, 584, 596], [6, 562, 550], [5, 575, 570], [5, 593, 603], [4, 577, 582], [4, 592, 599], [4, 566, 551]]\n"
     ]
    }
   ],
   "source": [
    "#change numbers (not states) to integers instead of strings\n",
    "\n",
    "data=[[int(item) for item in row] for row in data]\n",
    "print data            "
   ]
  },
  {
   "cell_type": "code",
   "execution_count": 13,
   "metadata": {
    "collapsed": false
   },
   "outputs": [
    {
     "name": "stdout",
     "output_type": "stream",
     "text": [
      "82 <type 'int'>\n",
      "509 <type 'int'>\n",
      "510 <type 'int'>\n",
      "81 <type 'int'>\n",
      "499 <type 'int'>\n",
      "513 <type 'int'>\n",
      "79 <type 'int'>\n",
      "511 <type 'int'>\n",
      "515 <type 'int'>\n",
      "77 <type 'int'>\n",
      "495 <type 'int'>\n",
      "505 <type 'int'>\n",
      "72 <type 'int'>\n",
      "520 <type 'int'>\n",
      "516 <type 'int'>\n",
      "71 <type 'int'>\n",
      "501 <type 'int'>\n",
      "499 <type 'int'>\n",
      "71 <type 'int'>\n",
      "500 <type 'int'>\n",
      "499 <type 'int'>\n",
      "69 <type 'int'>\n",
      "511 <type 'int'>\n",
      "506 <type 'int'>\n",
      "69 <type 'int'>\n",
      "506 <type 'int'>\n",
      "500 <type 'int'>\n",
      "68 <type 'int'>\n",
      "510 <type 'int'>\n",
      "501 <type 'int'>\n",
      "67 <type 'int'>\n",
      "501 <type 'int'>\n",
      "499 <type 'int'>\n",
      "65 <type 'int'>\n",
      "508 <type 'int'>\n",
      "510 <type 'int'>\n",
      "65 <type 'int'>\n",
      "493 <type 'int'>\n",
      "499 <type 'int'>\n",
      "63 <type 'int'>\n",
      "491 <type 'int'>\n",
      "489 <type 'int'>\n",
      "60 <type 'int'>\n",
      "499 <type 'int'>\n",
      "501 <type 'int'>\n",
      "57 <type 'int'>\n",
      "486 <type 'int'>\n",
      "488 <type 'int'>\n",
      "56 <type 'int'>\n",
      "482 <type 'int'>\n",
      "474 <type 'int'>\n",
      "55 <type 'int'>\n",
      "526 <type 'int'>\n",
      "526 <type 'int'>\n",
      "54 <type 'int'>\n",
      "498 <type 'int'>\n",
      "499 <type 'int'>\n",
      "53 <type 'int'>\n",
      "527 <type 'int'>\n",
      "527 <type 'int'>\n",
      "53 <type 'int'>\n",
      "493 <type 'int'>\n",
      "499 <type 'int'>\n",
      "52 <type 'int'>\n",
      "485 <type 'int'>\n",
      "515 <type 'int'>\n",
      "51 <type 'int'>\n",
      "514 <type 'int'>\n",
      "510 <type 'int'>\n",
      "51 <type 'int'>\n",
      "498 <type 'int'>\n",
      "517 <type 'int'>\n",
      "34 <type 'int'>\n",
      "523 <type 'int'>\n",
      "525 <type 'int'>\n",
      "33 <type 'int'>\n",
      "509 <type 'int'>\n",
      "515 <type 'int'>\n",
      "31 <type 'int'>\n",
      "539 <type 'int'>\n",
      "542 <type 'int'>\n",
      "26 <type 'int'>\n",
      "534 <type 'int'>\n",
      "439 <type 'int'>\n",
      "23 <type 'int'>\n",
      "539 <type 'int'>\n",
      "539 <type 'int'>\n",
      "18 <type 'int'>\n",
      "527 <type 'int'>\n",
      "512 <type 'int'>\n",
      "17 <type 'int'>\n",
      "543 <type 'int'>\n",
      "542 <type 'int'>\n",
      "13 <type 'int'>\n",
      "562 <type 'int'>\n",
      "553 <type 'int'>\n",
      "13 <type 'int'>\n",
      "551 <type 'int'>\n",
      "542 <type 'int'>\n",
      "12 <type 'int'>\n",
      "576 <type 'int'>\n",
      "589 <type 'int'>\n",
      "12 <type 'int'>\n",
      "550 <type 'int'>\n",
      "550 <type 'int'>\n",
      "11 <type 'int'>\n",
      "547 <type 'int'>\n",
      "545 <type 'int'>\n",
      "11 <type 'int'>\n",
      "561 <type 'int'>\n",
      "572 <type 'int'>\n",
      "9 <type 'int'>\n",
      "580 <type 'int'>\n",
      "589 <type 'int'>\n",
      "9 <type 'int'>\n",
      "577 <type 'int'>\n",
      "580 <type 'int'>\n",
      "9 <type 'int'>\n",
      "559 <type 'int'>\n",
      "554 <type 'int'>\n",
      "8 <type 'int'>\n",
      "562 <type 'int'>\n",
      "568 <type 'int'>\n",
      "8 <type 'int'>\n",
      "567 <type 'int'>\n",
      "561 <type 'int'>\n",
      "8 <type 'int'>\n",
      "577 <type 'int'>\n",
      "577 <type 'int'>\n",
      "7 <type 'int'>\n",
      "564 <type 'int'>\n",
      "562 <type 'int'>\n",
      "6 <type 'int'>\n",
      "584 <type 'int'>\n",
      "596 <type 'int'>\n",
      "6 <type 'int'>\n",
      "562 <type 'int'>\n",
      "550 <type 'int'>\n",
      "5 <type 'int'>\n",
      "575 <type 'int'>\n",
      "570 <type 'int'>\n",
      "5 <type 'int'>\n",
      "593 <type 'int'>\n",
      "603 <type 'int'>\n",
      "4 <type 'int'>\n",
      "577 <type 'int'>\n",
      "582 <type 'int'>\n",
      "4 <type 'int'>\n",
      "592 <type 'int'>\n",
      "599 <type 'int'>\n",
      "4 <type 'int'>\n",
      "566 <type 'int'>\n",
      "551 <type 'int'>\n"
     ]
    }
   ],
   "source": [
    "#check item data type\n",
    "for row in data:\n",
    "    for item in row:\n",
    "        print item, type(item)"
   ]
  },
  {
   "cell_type": "code",
   "execution_count": null,
   "metadata": {
    "collapsed": false
   },
   "outputs": [],
   "source": []
  },
  {
   "cell_type": "markdown",
   "metadata": {},
   "source": [
    "##### 10. Create a dictionary for each column mapping the State to its respective value for that column. "
   ]
  },
  {
   "cell_type": "code",
   "execution_count": 19,
   "metadata": {
    "collapsed": false
   },
   "outputs": [
    {
     "name": "stdout",
     "output_type": "stream",
     "text": [
      "{'WA': [53, 527, 527], 'DE': [67, 501, 499], 'DC': [56, 482, 474], 'WI': [6, 584, 596], 'WV': [18, 527, 512], 'HI': [52, 485, 515], 'FL': [54, 498, 499], 'WY': [11, 547, 545], 'NH': [72, 520, 516], 'NJ': [81, 499, 513], 'NM': [13, 551, 542], 'TX': [53, 493, 499], 'LA': [7, 564, 562], 'NC': [65, 493, 499], 'ND': [4, 592, 599], 'NE': [8, 562, 568], 'TN': [13, 562, 553], 'NY': [77, 495, 505], 'PA': [71, 500, 499], 'RI': [71, 501, 499], 'NV': [33, 509, 515], 'VA': [68, 510, 501], 'CO': [31, 539, 542], 'AK': [51, 514, 510], 'AL': [9, 559, 554], 'AR': [6, 562, 550], 'VT': [69, 511, 506], 'IL': [12, 576, 589], 'GA': [63, 491, 489], 'IN': [60, 499, 501], 'IA': [5, 593, 603], 'OK': [8, 567, 561], 'AZ': [34, 523, 525], 'CA': [51, 498, 517], 'ID': [17, 543, 542], 'CT': [82, 509, 510], 'ME': [69, 506, 500], 'MD': [65, 508, 510], 'MA': [79, 511, 515], 'OH': [26, 534, 439], 'UT': [5, 575, 570], 'MO': [8, 577, 577], 'MN': [9, 580, 589], 'MI': [11, 561, 572], 'KS': [9, 577, 580], 'MT': [23, 539, 539], 'MS': [4, 566, 551], 'SC': [57, 486, 488], 'KY': [12, 550, 550], 'OR': [55, 526, 526], 'SD': [4, 577, 582]}\n"
     ]
    }
   ],
   "source": [
    "##iterate through states and values and group in dictionary if index matches between state and list \n",
    "\n",
    "##create empty dictionary to fill   \n",
    "sat_scores_by_state= {}\n",
    "for state in state_names:\n",
    "    for row in data:\n",
    "        for item in row:\n",
    "            if data.index(row)==state_names.index(state):\n",
    "                   sat_scores_by_state.setdefault(state,[]).append(item)\n",
    "print sat_scores_by_state               \n"
   ]
  },
  {
   "cell_type": "code",
   "execution_count": 21,
   "metadata": {
    "collapsed": false
   },
   "outputs": [
    {
     "data": {
      "text/plain": [
       "[82, 509, 510]"
      ]
     },
     "execution_count": 21,
     "metadata": {},
     "output_type": "execute_result"
    }
   ],
   "source": [
    "#TEST\n",
    "sat_scores_by_state['CT']"
   ]
  },
  {
   "cell_type": "code",
   "execution_count": null,
   "metadata": {
    "collapsed": true
   },
   "outputs": [],
   "source": []
  },
  {
   "cell_type": "code",
   "execution_count": null,
   "metadata": {
    "collapsed": true
   },
   "outputs": [],
   "source": []
  },
  {
   "cell_type": "code",
   "execution_count": null,
   "metadata": {
    "collapsed": true
   },
   "outputs": [],
   "source": []
  },
  {
   "cell_type": "markdown",
   "metadata": {},
   "source": [
    "##### 11. Create a dictionary with the values for each of the numeric columns"
   ]
  },
  {
   "cell_type": "code",
   "execution_count": 23,
   "metadata": {
    "collapsed": false
   },
   "outputs": [
    {
     "data": {
      "text/plain": [
       "['Rate', 'Verbal', 'Math']"
      ]
     },
     "execution_count": 23,
     "metadata": {},
     "output_type": "execute_result"
    }
   ],
   "source": [
    "#remove state header\n",
    "header=header[1:]\n",
    "header"
   ]
  },
  {
   "cell_type": "code",
   "execution_count": 24,
   "metadata": {
    "collapsed": false,
    "scrolled": true
   },
   "outputs": [
    {
     "name": "stdout",
     "output_type": "stream",
     "text": [
      "{'Rate': [82, 81, 79, 77, 72, 71, 71, 69, 69, 68, 67, 65, 65, 63, 60, 57, 56, 55, 54, 53, 53, 52, 51, 51, 34, 33, 31, 26, 23, 18, 17, 13, 13, 12, 12, 11, 11, 9, 9, 9, 8, 8, 8, 7, 6, 6, 5, 5, 4, 4, 4], 'Math': [510, 513, 515, 505, 516, 499, 499, 506, 500, 501, 499, 510, 499, 489, 501, 488, 474, 499, 499, 515, 510, 517, 525, 515, 542, 439, 512, 542, 553, 542, 589, 545, 572, 589, 580, 554, 568, 561, 562, 596, 550, 570, 603, 582, 599, 551], 'Verbal': [509, 499, 511, 495, 520, 501, 500, 511, 506, 510, 501, 508, 493, 491, 499, 486, 482, 526, 526, 498, 527, 527, 493, 485, 514, 498, 523, 509, 539, 534, 539, 539, 527, 543, 562, 551, 576, 550, 550, 547, 561, 580, 577, 559, 562, 567, 577, 577, 564, 584, 562, 575, 593, 577, 592, 566]}\n"
     ]
    }
   ],
   "source": [
    "##iterate through columns and values and group in dictionary if index matches between two items\n",
    "\n",
    "##create empty dictionary to fill   \n",
    "sat_scores_by_column= {}\n",
    "\n",
    "for head in header:\n",
    "    for row in data:\n",
    "        for item in row:\n",
    "            if row.index(item)==header.index(head):\n",
    "                   sat_scores_by_column.setdefault(head,[]).append(item)\n",
    "print sat_scores_by_column  "
   ]
  },
  {
   "cell_type": "code",
   "execution_count": null,
   "metadata": {
    "collapsed": true
   },
   "outputs": [],
   "source": []
  },
  {
   "cell_type": "markdown",
   "metadata": {},
   "source": [
    "## Step 3: Describe the data"
   ]
  },
  {
   "cell_type": "markdown",
   "metadata": {},
   "source": [
    "##### 12. Print the min and max of each column"
   ]
  },
  {
   "cell_type": "code",
   "execution_count": null,
   "metadata": {
    "collapsed": false
   },
   "outputs": [],
   "source": []
  },
  {
   "cell_type": "markdown",
   "metadata": {},
   "source": [
    "##### 13. Write a function using only list comprehensions, no loops, to compute Standard Deviation. Print the Standard Deviation of each numeric column."
   ]
  },
  {
   "cell_type": "code",
   "execution_count": null,
   "metadata": {
    "collapsed": false
   },
   "outputs": [],
   "source": []
  },
  {
   "cell_type": "markdown",
   "metadata": {},
   "source": [
    "## Step 4: Visualize the data"
   ]
  },
  {
   "cell_type": "markdown",
   "metadata": {
    "collapsed": true
   },
   "source": [
    "##### 14. Using MatPlotLib and PyPlot, plot the distribution of the Rate using histograms."
   ]
  },
  {
   "cell_type": "code",
   "execution_count": null,
   "metadata": {
    "collapsed": false
   },
   "outputs": [],
   "source": []
  },
  {
   "cell_type": "markdown",
   "metadata": {},
   "source": [
    "##### 15. Plot the Math distribution"
   ]
  },
  {
   "cell_type": "code",
   "execution_count": null,
   "metadata": {
    "collapsed": false
   },
   "outputs": [],
   "source": []
  },
  {
   "cell_type": "markdown",
   "metadata": {},
   "source": [
    "##### 16. Plot the Verbal distribution"
   ]
  },
  {
   "cell_type": "code",
   "execution_count": null,
   "metadata": {
    "collapsed": false
   },
   "outputs": [],
   "source": []
  },
  {
   "cell_type": "markdown",
   "metadata": {},
   "source": [
    "##### 17. What is the typical assumption for data distribution?"
   ]
  },
  {
   "cell_type": "code",
   "execution_count": null,
   "metadata": {
    "collapsed": false
   },
   "outputs": [],
   "source": []
  },
  {
   "cell_type": "markdown",
   "metadata": {},
   "source": [
    "##### 18. Does that distribution hold true for our data?"
   ]
  },
  {
   "cell_type": "code",
   "execution_count": null,
   "metadata": {
    "collapsed": false
   },
   "outputs": [],
   "source": []
  },
  {
   "cell_type": "markdown",
   "metadata": {},
   "source": [
    "##### 19. Plot some scatterplots. **BONUS**: Use a PyPlot `figure` to present multiple plots at once."
   ]
  },
  {
   "cell_type": "code",
   "execution_count": null,
   "metadata": {
    "collapsed": false
   },
   "outputs": [],
   "source": []
  },
  {
   "cell_type": "markdown",
   "metadata": {},
   "source": [
    "##### 20. Are there any interesting relationships to note?"
   ]
  },
  {
   "cell_type": "code",
   "execution_count": null,
   "metadata": {
    "collapsed": false
   },
   "outputs": [],
   "source": []
  },
  {
   "cell_type": "markdown",
   "metadata": {},
   "source": [
    "##### 21. Create box plots for each variable. "
   ]
  },
  {
   "cell_type": "code",
   "execution_count": null,
   "metadata": {
    "collapsed": false
   },
   "outputs": [],
   "source": []
  },
  {
   "cell_type": "markdown",
   "metadata": {},
   "source": [
    "##### BONUS: Using Tableau, create a heat map for each variable using a map of the US. "
   ]
  },
  {
   "cell_type": "code",
   "execution_count": null,
   "metadata": {
    "collapsed": true
   },
   "outputs": [],
   "source": []
  }
 ],
 "metadata": {
  "anaconda-cloud": {},
  "kernelspec": {
   "display_name": "Python [Root]",
   "language": "python",
   "name": "Python [Root]"
  },
  "language_info": {
   "codemirror_mode": {
    "name": "ipython",
    "version": 2
   },
   "file_extension": ".py",
   "mimetype": "text/x-python",
   "name": "python",
   "nbconvert_exporter": "python",
   "pygments_lexer": "ipython2",
   "version": "2.7.12"
  }
 },
 "nbformat": 4,
 "nbformat_minor": 0
}
