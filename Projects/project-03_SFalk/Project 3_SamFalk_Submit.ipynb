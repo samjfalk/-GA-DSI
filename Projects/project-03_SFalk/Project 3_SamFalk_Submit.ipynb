{
 "cells": [
  {
   "cell_type": "code",
   "execution_count": 84,
   "metadata": {
    "collapsed": false
   },
   "outputs": [],
   "source": [
    "import pandas as pd\n",
    "import seaborn as sns\n",
    "import numpy as np\n",
    "import matplotlib.pyplot as plt\n",
    "from datetime import datetime, date, time\n",
    "from sklearn import datasets, linear_model\n",
    "from sklearn.metrics import mean_squared_error\n",
    "from pandas.tools.plotting import scatter_matrix\n",
    "%matplotlib inline\n",
    "from sklearn.metrics import r2_score\n",
    "\n"
   ]
  },
  {
   "cell_type": "code",
   "execution_count": 85,
   "metadata": {
    "collapsed": false
   },
   "outputs": [],
   "source": [
    "## Load the data into a DataFrame\n",
    "djs = pd.read_csv('/Users/pivit/DSI-NYC-2/projects/projects-weekly/project-03/starter-code/Iowa_Liquor_sales_sample_10pct.csv', encoding='latin-1')\n",
    "df = pd.read_csv('/Users/pivit/Desktop/iowa15.csv', encoding='latin-1')\n",
    "\n",
    "pd.options.mode.chained_assignment = None"
   ]
  },
  {
   "cell_type": "code",
   "execution_count": null,
   "metadata": {
    "collapsed": true
   },
   "outputs": [],
   "source": []
  },
  {
   "cell_type": "markdown",
   "metadata": {},
   "source": [
    "<b>Problem Statement</b>\n",
    "\n",
    "Given 2015 and 2016 Iowa liquor sales data, determine the best locations for a new storefront."
   ]
  },
  {
   "cell_type": "markdown",
   "metadata": {},
   "source": [
    "<b>Risks and Assumptions</b>\n",
    "\n",
    "We chose to work with only 10% of the dataset. There were 2.7 million transactions in the entire data and we only worked with 270,000 transactions. There were also several errors in the dataset. We cleaned up the data as extensively as we could but ended up dropping a couple hundred rows that didn't have complete data. We also did not remove any outliers so there could be one stores that heavily skews the data for certain counties.\n",
    "\n",
    "We assumed that the best place to build a new store would be near stores that are performing exceptionally well. Our main assumption here is that location is the main predictor of success for our store, but a store can perform well for several different reasons. They can have very high advertising budgets, could have monopolies on certain areas (maybe a University only allows 2 liquor stores near campus), great supply chain management, etc."
   ]
  },
  {
   "cell_type": "code",
   "execution_count": 86,
   "metadata": {
    "collapsed": false
   },
   "outputs": [],
   "source": [
    "#Converts Date to parsible format.\n",
    "#djs['Date'] = [datetime.strptime(x, '%m/%d/%Y').date() for x in djs['Date']]\n",
    "djs['Date'] = pd.to_datetime(djs[\"Date\"])\n",
    "djs['Year'], djs['Month'] = djs['Date'].dt.year, djs['Date'].dt.month"
   ]
  },
  {
   "cell_type": "code",
   "execution_count": 87,
   "metadata": {
    "collapsed": false
   },
   "outputs": [],
   "source": [
    "#Removes spaces from column names.\n",
    "djs.columns = djs.columns.str.strip()\n",
    "djs.columns = [x.replace(' ', '_') for x in djs.columns]"
   ]
  },
  {
   "cell_type": "code",
   "execution_count": 88,
   "metadata": {
    "collapsed": false
   },
   "outputs": [],
   "source": [
    "#Sam's Club\n",
    "key = djs[['Store_Number', 'County', 'County_Number', 'Zip_Code', 'City']]\n",
    "key.drop_duplicates(inplace=True)\n",
    "key.set_index('Store_Number', inplace=True)\n",
    "\n",
    "key = key[pd.notnull(key['County_Number'])]\n",
    "KeyHelp = key.T\n",
    "\n",
    "count_len = len(djs['County_Number'])\n",
    "county_len = len(djs['County'])\n",
    "\n",
    "for i in range(count_len):\n",
    "   if np.isnan(djs['County_Number'][i]):\n",
    "       try:\n",
    "           djs['County_Number'][i]= KeyHelp[djs['Store_Number'][i]][1]\n",
    "       except: \n",
    "           djs['County_Number'][i]\n",
    "\n",
    "for i in range(county_len):\n",
    "   try:\n",
    "       if np.isnan(djs['County'][i]):\n",
    "           djs['County'][i]= KeyHelp[djs['Store_Number'][i]][0]\n",
    "   except: \n",
    "       djs['County'][i]\n",
    "\n",
    "\n",
    "        \n",
    "key.set_index('Zip_Code', inplace=True)\n",
    "KeyHelp=key.T\n",
    "\n",
    "for i in range(count_len):\n",
    "   if np.isnan(djs['County_Number'][i]):\n",
    "       try:\n",
    "           djs['County_Number'][i]= KeyHelp[djs['Zip_Code'][i]][1]\n",
    "       except: \n",
    "           djs['County_Number'][i]\n",
    "\n",
    "for i in range(county_len):\n",
    "   try:\n",
    "       if np.isnan(djs['County'][i]):\n",
    "           djs['County'][i]= KeyHelp[djs['Zip_Code'][i]][0]\n",
    "   except: \n",
    "       djs['County'][i]\n",
    "\n",
    "\n",
    "\n",
    "key.set_index('City', inplace=True)\n",
    "KeyHelp=key.T\n",
    "\n",
    "for i in range(count_len):\n",
    "   if np.isnan(djs['County_Number'][i]):\n",
    "       try:\n",
    "           djs['County_Number'][i]= KeyHelp[djs['City'][i]][1]\n",
    "       except: \n",
    "           djs['County_Number'][i]\n",
    "\n",
    "for i in range(county_len):\n",
    "   try:\n",
    "       if np.isnan(djs['County'][i]):\n",
    "           djs['County'][i]= KeyHelp[djs['City'][i]][0]\n",
    "   except: \n",
    "       djs['County'][i]"
   ]
  },
  {
   "cell_type": "code",
   "execution_count": 89,
   "metadata": {
    "collapsed": true
   },
   "outputs": [],
   "source": [
    "djs.dropna(inplace=True)\n",
    "djs = djs.reset_index(drop=True)"
   ]
  },
  {
   "cell_type": "code",
   "execution_count": 90,
   "metadata": {
    "collapsed": false
   },
   "outputs": [],
   "source": [
    "#DOUG'S CODE OF CONDUCT\n",
    "\n",
    "#Converts State Bottle Cost Series to Float\n",
    "djs['State_Bottle_Cost'] = (djs['State_Bottle_Cost'].replace( '[\\$,)]','', regex=True )\\\n",
    "                            .replace( '[(]','-',   regex=True ).astype(float))\n",
    "\n",
    "#Converts State Bottle Retail Series to Float\n",
    "djs['State_Bottle_Retail'] = (djs['State_Bottle_Retail'].replace( '[\\$,)]','', regex=True )\\\n",
    "                              .replace( '[(]','-',   regex=True ).astype(float))\n",
    "\n",
    "#Converts Sale Dollars Series to Float\n",
    "djs['Sale_(Dollars)'] = (djs['Sale_(Dollars)'].replace( '[\\$,)]','', regex=True )\\\n",
    "                         .replace( '[(]','-',   regex=True ).astype(float))\n",
    "\n",
    "#Converts City names to all CAPS\n",
    "djs['City'] = map(lambda x: x.upper(), djs['City'])\n",
    "\n",
    "#Calculates profit per transaction\n",
    "djs['Profit'] = djs['Sale_(Dollars)'] - (djs['State_Bottle_Cost'] * djs['Bottles_Sold'])"
   ]
  },
  {
   "cell_type": "code",
   "execution_count": 91,
   "metadata": {
    "collapsed": false,
    "scrolled": true
   },
   "outputs": [
    {
     "name": "stderr",
     "output_type": "stream",
     "text": [
      "/Users/pivit/anaconda/lib/python2.7/site-packages/ipykernel/__main__.py:16: FutureWarning: sort(columns=....) is deprecated, use sort_values(by=.....)\n"
     ]
    }
   ],
   "source": [
    "#Creating dataframe with City/County name and estimated 2015 population\n",
    "name_pop_df = df[['NAME', 'POPESTIMATE2015']]\n",
    "name_pop_df['NAME'] = (name_pop_df['NAME'].replace( ' city','', regex=True ))\n",
    "\n",
    "#Cleaning data.  Removing NAME with \"(pt.)\"\n",
    "temp_df = name_pop_df.T\n",
    "name_pop_df = temp_df[[ind for ind, x in enumerate(name_pop_df['NAME']) if \"(pt.)\" not in x]].T\n",
    "name_pop_df = name_pop_df.reset_index(drop=True)\n",
    "\n",
    "#Cleaning data.  Removing NAME with \"Balance\"\n",
    "temp_df = name_pop_df.T\n",
    "name_pop_df = temp_df[[ind for ind, x in enumerate(name_pop_df['NAME']) if \"Balance\" not in x]].T\n",
    "name_pop_df = name_pop_df.reset_index(drop=True)\n",
    "\n",
    "#Sorts dataframe alphabetically by NAME and remove duplicates.\n",
    "name_pop_df = name_pop_df.sort(columns=['NAME'])\n",
    "name_pop_df = name_pop_df.drop_duplicates(keep='first').reset_index(drop=True)"
   ]
  },
  {
   "cell_type": "code",
   "execution_count": 92,
   "metadata": {
    "collapsed": false
   },
   "outputs": [],
   "source": [
    "#Add County Population\n",
    "county_pop_df = name_pop_df.T\n",
    "county_pop_df = county_pop_df[[ind for ind, x in enumerate(name_pop_df['NAME']) if \"County\" in x]].T\n",
    "county_pop_df['NAME'] = (county_pop_df['NAME'].replace( ' County','', regex=True ))\n",
    "county_pop_df = county_pop_df.reset_index(drop=True)\n",
    "county_pop_df = county_pop_df.set_index(county_pop_df['NAME'])\n",
    "del county_pop_df['NAME']\n",
    "djs = djs.merge(county_pop_df, how='left', left_on=\"County\", right_index=True)\n",
    "djs.rename(columns={'POPESTIMATE2015':'County_Pop'}, inplace = True)\n",
    "\n",
    "#Add City Population\n",
    "city_pop_df = name_pop_df.T\n",
    "city_pop_df = city_pop_df[[ind for ind, x in enumerate(name_pop_df['NAME']) if \"County\" not in x]].T\n",
    "city_pop_df = city_pop_df.reset_index(drop=True)\n",
    "city_pop_df['NAME'] = map(lambda x: x.upper(), city_pop_df['NAME'])\n",
    "city_pop_df = city_pop_df.set_index(city_pop_df['NAME'])\n",
    "del city_pop_df['NAME']\n",
    "djs = djs.merge(city_pop_df, how='left', left_on=\"City\", right_index=True)\n",
    "djs.rename(columns={'POPESTIMATE2015':'City_Pop'}, inplace = True)"
   ]
  },
  {
   "cell_type": "code",
   "execution_count": 93,
   "metadata": {
    "collapsed": false,
    "scrolled": true
   },
   "outputs": [
    {
     "name": "stderr",
     "output_type": "stream",
     "text": [
      "/Users/pivit/anaconda/lib/python2.7/site-packages/ipykernel/__main__.py:3: FutureWarning: sort(columns=....) is deprecated, use sort_values(by=.....)\n",
      "  app.launch_new_instance()\n",
      "/Users/pivit/anaconda/lib/python2.7/site-packages/ipykernel/__main__.py:10: FutureWarning: sort(columns=....) is deprecated, use sort_values(by=.....)\n"
     ]
    }
   ],
   "source": [
    "#Add Store Count per City \n",
    "store_count = djs[['Store_Number', 'City']]\n",
    "store_count = store_count.sort('Store_Number').drop_duplicates()\n",
    "store_count = store_count.groupby('City').count()\n",
    "store_count.rename(columns={'Store_Number':'Store_Count_City'}, inplace = True)\n",
    "djs = djs.merge(store_count, how='left', left_on='City', right_index=True)\n",
    "\n",
    "#Add Store Count per County\n",
    "store_count = djs[['Store_Number', 'County']]\n",
    "store_count = store_count.sort('Store_Number').drop_duplicates()\n",
    "store_count = store_count.groupby('County').count()\n",
    "store_count.rename(columns={'Store_Number':'Store_Count_County'}, inplace = True)\n",
    "djs = djs.merge(store_count, how='left', left_on='County', right_index=True)"
   ]
  },
  {
   "cell_type": "code",
   "execution_count": 94,
   "metadata": {
    "collapsed": false
   },
   "outputs": [],
   "source": [
    "#Add Profit by City\n",
    "djs_profit_by_city = djs.groupby(['City'])['Profit'].agg(([np.sum]))\n",
    "djs_profit_by_city.rename(columns={'sum':'Profit_City'}, inplace = True)\n",
    "djs = djs.merge(djs_profit_by_city, how='left', left_on='City', right_index=True)\n",
    "\n",
    "#Add Profit by County\n",
    "djs_profit_by_county = djs.groupby(['County'])['Profit'].agg(([np.sum]))\n",
    "djs_profit_by_county.rename(columns={'sum':'Profit_County'}, inplace = True)\n",
    "djs = djs.merge(djs_profit_by_county, how='left', left_on='County', right_index=True)\n",
    "\n",
    "#Add Profit by Store\n",
    "djs_profit_by_store = djs.groupby(['Store_Number'])['Profit'].agg(([np.sum]))\n",
    "djs_profit_by_store.rename(columns={'sum':'Profit_Store'}, inplace = True)\n",
    "djs = djs.merge(djs_profit_by_store, how='left', left_on='Store_Number', right_index=True)"
   ]
  },
  {
   "cell_type": "code",
   "execution_count": 95,
   "metadata": {
    "collapsed": false
   },
   "outputs": [
    {
     "data": {
      "text/html": [
       "<div>\n",
       "<table border=\"1\" class=\"dataframe\">\n",
       "  <thead>\n",
       "    <tr style=\"text-align: right;\">\n",
       "      <th></th>\n",
       "      <th>Date</th>\n",
       "      <th>Store_Number</th>\n",
       "      <th>City</th>\n",
       "      <th>Zip_Code</th>\n",
       "      <th>County_Number</th>\n",
       "      <th>County</th>\n",
       "      <th>Category</th>\n",
       "      <th>Category_Name</th>\n",
       "      <th>Vendor_Number</th>\n",
       "      <th>Item_Number</th>\n",
       "      <th>...</th>\n",
       "      <th>Year</th>\n",
       "      <th>Month</th>\n",
       "      <th>Profit</th>\n",
       "      <th>County_Pop</th>\n",
       "      <th>City_Pop</th>\n",
       "      <th>Store_Count_City</th>\n",
       "      <th>Store_Count_County</th>\n",
       "      <th>Profit_City</th>\n",
       "      <th>Profit_County</th>\n",
       "      <th>Profit_Store</th>\n",
       "    </tr>\n",
       "  </thead>\n",
       "  <tbody>\n",
       "    <tr>\n",
       "      <th>0</th>\n",
       "      <td>2015-11-04</td>\n",
       "      <td>3717</td>\n",
       "      <td>SUMNER</td>\n",
       "      <td>50674</td>\n",
       "      <td>9.0</td>\n",
       "      <td>Bremer</td>\n",
       "      <td>1051100.0</td>\n",
       "      <td>APRICOT BRANDIES</td>\n",
       "      <td>55</td>\n",
       "      <td>54436</td>\n",
       "      <td>...</td>\n",
       "      <td>2015</td>\n",
       "      <td>11</td>\n",
       "      <td>27.00</td>\n",
       "      <td>24722</td>\n",
       "      <td>2009</td>\n",
       "      <td>1</td>\n",
       "      <td>9</td>\n",
       "      <td>3848.59</td>\n",
       "      <td>69164.91</td>\n",
       "      <td>3848.59</td>\n",
       "    </tr>\n",
       "    <tr>\n",
       "      <th>1</th>\n",
       "      <td>2016-03-02</td>\n",
       "      <td>2614</td>\n",
       "      <td>DAVENPORT</td>\n",
       "      <td>52807</td>\n",
       "      <td>82.0</td>\n",
       "      <td>Scott</td>\n",
       "      <td>1011100.0</td>\n",
       "      <td>BLENDED WHISKIES</td>\n",
       "      <td>395</td>\n",
       "      <td>27605</td>\n",
       "      <td>...</td>\n",
       "      <td>2016</td>\n",
       "      <td>3</td>\n",
       "      <td>13.76</td>\n",
       "      <td>172126</td>\n",
       "      <td>102582</td>\n",
       "      <td>43</td>\n",
       "      <td>66</td>\n",
       "      <td>569564.98</td>\n",
       "      <td>823175.13</td>\n",
       "      <td>59826.88</td>\n",
       "    </tr>\n",
       "    <tr>\n",
       "      <th>2</th>\n",
       "      <td>2016-02-11</td>\n",
       "      <td>2106</td>\n",
       "      <td>CEDAR FALLS</td>\n",
       "      <td>50613</td>\n",
       "      <td>7.0</td>\n",
       "      <td>Black Hawk</td>\n",
       "      <td>1011200.0</td>\n",
       "      <td>STRAIGHT BOURBON WHISKIES</td>\n",
       "      <td>65</td>\n",
       "      <td>19067</td>\n",
       "      <td>...</td>\n",
       "      <td>2016</td>\n",
       "      <td>2</td>\n",
       "      <td>151.20</td>\n",
       "      <td>133455</td>\n",
       "      <td>41255</td>\n",
       "      <td>17</td>\n",
       "      <td>73</td>\n",
       "      <td>216331.32</td>\n",
       "      <td>645252.18</td>\n",
       "      <td>58916.88</td>\n",
       "    </tr>\n",
       "    <tr>\n",
       "      <th>3</th>\n",
       "      <td>2016-02-03</td>\n",
       "      <td>2501</td>\n",
       "      <td>AMES</td>\n",
       "      <td>50010</td>\n",
       "      <td>85.0</td>\n",
       "      <td>Story</td>\n",
       "      <td>1071100.0</td>\n",
       "      <td>AMERICAN COCKTAILS</td>\n",
       "      <td>395</td>\n",
       "      <td>59154</td>\n",
       "      <td>...</td>\n",
       "      <td>2016</td>\n",
       "      <td>2</td>\n",
       "      <td>28.50</td>\n",
       "      <td>96021</td>\n",
       "      <td>65060</td>\n",
       "      <td>25</td>\n",
       "      <td>38</td>\n",
       "      <td>327565.86</td>\n",
       "      <td>358929.57</td>\n",
       "      <td>58282.38</td>\n",
       "    </tr>\n",
       "    <tr>\n",
       "      <th>4</th>\n",
       "      <td>2015-08-18</td>\n",
       "      <td>3654</td>\n",
       "      <td>BELMOND</td>\n",
       "      <td>50421</td>\n",
       "      <td>99.0</td>\n",
       "      <td>Wright</td>\n",
       "      <td>1031080.0</td>\n",
       "      <td>VODKA 80 PROOF</td>\n",
       "      <td>297</td>\n",
       "      <td>35918</td>\n",
       "      <td>...</td>\n",
       "      <td>2015</td>\n",
       "      <td>8</td>\n",
       "      <td>43.20</td>\n",
       "      <td>12773</td>\n",
       "      <td>2314</td>\n",
       "      <td>3</td>\n",
       "      <td>10</td>\n",
       "      <td>11449.65</td>\n",
       "      <td>31025.70</td>\n",
       "      <td>3962.20</td>\n",
       "    </tr>\n",
       "  </tbody>\n",
       "</table>\n",
       "<p>5 rows × 28 columns</p>\n",
       "</div>"
      ],
      "text/plain": [
       "        Date  Store_Number         City Zip_Code  County_Number      County  \\\n",
       "0 2015-11-04          3717       SUMNER    50674            9.0      Bremer   \n",
       "1 2016-03-02          2614    DAVENPORT    52807           82.0       Scott   \n",
       "2 2016-02-11          2106  CEDAR FALLS    50613            7.0  Black Hawk   \n",
       "3 2016-02-03          2501         AMES    50010           85.0       Story   \n",
       "4 2015-08-18          3654      BELMOND    50421           99.0      Wright   \n",
       "\n",
       "    Category              Category_Name  Vendor_Number  Item_Number  \\\n",
       "0  1051100.0           APRICOT BRANDIES             55        54436   \n",
       "1  1011100.0           BLENDED WHISKIES            395        27605   \n",
       "2  1011200.0  STRAIGHT BOURBON WHISKIES             65        19067   \n",
       "3  1071100.0         AMERICAN COCKTAILS            395        59154   \n",
       "4  1031080.0             VODKA 80 PROOF            297        35918   \n",
       "\n",
       "       ...       Year  Month  Profit  County_Pop  City_Pop  Store_Count_City  \\\n",
       "0      ...       2015     11   27.00       24722      2009                 1   \n",
       "1      ...       2016      3   13.76      172126    102582                43   \n",
       "2      ...       2016      2  151.20      133455     41255                17   \n",
       "3      ...       2016      2   28.50       96021     65060                25   \n",
       "4      ...       2015      8   43.20       12773      2314                 3   \n",
       "\n",
       "   Store_Count_County  Profit_City  Profit_County  Profit_Store  \n",
       "0                   9      3848.59       69164.91       3848.59  \n",
       "1                  66    569564.98      823175.13      59826.88  \n",
       "2                  73    216331.32      645252.18      58916.88  \n",
       "3                  38    327565.86      358929.57      58282.38  \n",
       "4                  10     11449.65       31025.70       3962.20  \n",
       "\n",
       "[5 rows x 28 columns]"
      ]
     },
     "execution_count": 95,
     "metadata": {},
     "output_type": "execute_result"
    }
   ],
   "source": [
    "djs.head()"
   ]
  },
  {
   "cell_type": "markdown",
   "metadata": {},
   "source": [
    "<b>Data Analysis</b>\n",
    "\n",
    "We wanted to see which stores had the highest sales and where they were located. Des Moines had the two highest performing stores (2633 and 4829) which had total sales of $407,000 and $363,000 respectively. There is over a 50% dropoff to the next best store which was in Iowa City and had sales of $177,000 dollars.\n",
    "\n",
    "In order to better analyze where a good new store location would be, we added in external data from iowa.gov. We brought in city population and county population which we then planned to use to better predict where underserved markets are."
   ]
  },
  {
   "cell_type": "code",
   "execution_count": 120,
   "metadata": {
    "collapsed": false
   },
   "outputs": [],
   "source": [
    "#Creates a Dataframe with City Data.\n",
    "city_df = djs[['City', 'City_Pop', 'Profit_City', 'Store_Count_City', 'County']]\n",
    "city_df.drop_duplicates(inplace=True)\n",
    "city_df = city_df.reset_index()\n",
    "\n",
    "\n",
    "rang = len(city_df['City'])\n",
    "best = [(city_df['Profit_City'][x] / city_df['Store_Count_City'][x]) for x in range(rang)]\n",
    "best = pd.DataFrame(best)\n",
    "best.rename(columns={0:'City_Profit_Per_Store'}, inplace = True)\n",
    "city_df = city_df.merge(best, how='left', left_index=True, right_index=True)"
   ]
  },
  {
   "cell_type": "code",
   "execution_count": 121,
   "metadata": {
    "collapsed": false
   },
   "outputs": [
    {
     "name": "stderr",
     "output_type": "stream",
     "text": [
      "/Users/pivit/anaconda/lib/python2.7/site-packages/ipykernel/__main__.py:1: FutureWarning: sort(columns=....) is deprecated, use sort_values(by=.....)\n",
      "  if __name__ == '__main__':\n"
     ]
    },
    {
     "data": {
      "image/png": "[encoded data removed]",
      "text/plain": [
       "<matplotlib.figure.Figure at 0x11ad9fa50>"
      ]
     },
     "metadata": {},
     "output_type": "display_data"
    }
   ],
   "source": [
    "city_df = city_df.sort(columns=['City_Profit_Per_Store'], ascending=False)\n",
    "hemp_df = city_df.head(10)\n",
    "temp_temp_df = hemp_df[['City', 'City_Profit_Per_Store']]\n",
    "ax = temp_temp_df.plot(figsize=(15,7),kind=\"bar\", fontsize=10, legend=False)\n",
    "\n",
    "ax.set_title(\"Most Profitable Cities Per Store\", fontsize=24, y=1.01)\n",
    "plt.xticks(np.linspace(0,len(hemp_df['City'])-1,len(hemp_df['City'])),hemp_df['City'], rotation=60, fontsize=16)\n",
    "ax.set_xlabel('Cities', fontsize=18)\n",
    "ax.set_ylabel('Profit Per Store', fontsize=18);"
   ]
  },
  {
   "cell_type": "markdown",
   "metadata": {},
   "source": [
    "In order to determine where we might want to build a new store we plotted 'Profit per Store' and showed the top 10 counties. We found that Johnson county had the highest profit per store followed by Polk, Scott, Dallas, Woodbury, Cerro Gordo, Dickinson, Howard, Kossuth, and Linn. We then wanted to make sure that we weren't planning on building a store in a county that had very few stores. For example, if a county only had 1 store but a high average profit per store then we'd be worried that there wasn't a big enough market. If we built a store there then a 100% increase in number of total stores would really hurt expected profits. However, if we built a store in a county with 200 stores, then one additional store should have less than a 1% effect on the expected profit per store. Below is a graph of the top 10 counties with the highest profit per stores as well as the counties with the most stores."
   ]
  },
  {
   "cell_type": "code",
   "execution_count": 122,
   "metadata": {
    "collapsed": false,
    "scrolled": true
   },
   "outputs": [],
   "source": [
    "#Creates a Dataframe with County Data.\n",
    "county_df = djs[['County', 'County_Number', 'County_Pop', 'Profit_County', 'Store_Count_County']]\n",
    "county_df.drop_duplicates(inplace=True)\n",
    "county_df = county_df.reset_index()\n",
    "del county_df['index']\n",
    "\n",
    "rang = len(county_df['County'])\n",
    "best = [(county_df['Profit_County'][x] / county_df['Store_Count_County'][x]) for x in range(rang)]\n",
    "best = pd.DataFrame(best)\n",
    "best.rename(columns={0:'County_Profit_Per_Store'}, inplace = True)\n",
    "county_df = county_df.merge(best, how='left', left_index=True, right_index=True)"
   ]
  },
  {
   "cell_type": "code",
   "execution_count": 123,
   "metadata": {
    "collapsed": false
   },
   "outputs": [
    {
     "name": "stderr",
     "output_type": "stream",
     "text": [
      "/Users/pivit/anaconda/lib/python2.7/site-packages/ipykernel/__main__.py:1: FutureWarning: sort(columns=....) is deprecated, use sort_values(by=.....)\n",
      "  if __name__ == '__main__':\n"
     ]
    },
    {
     "data": {
      "image/png": "[encoded data removed]",
      "text/plain": [
       "<matplotlib.figure.Figure at 0x121bb4cd0>"
      ]
     },
     "metadata": {},
     "output_type": "display_data"
    }
   ],
   "source": [
    "county_df = county_df.sort(columns=['County_Profit_Per_Store'], ascending=False)\n",
    "hemp_df = county_df.head(10)\n",
    "temp_temp_df = hemp_df[['County', 'County_Profit_Per_Store']]\n",
    "ax = temp_temp_df.plot(figsize=(15,7),kind=\"bar\", fontsize=10, legend=False)\n",
    "\n",
    "ax.set_title(\"Most Profitable Counties Per Store\", fontsize=24, y=1.01)\n",
    "plt.xticks(np.linspace(0,len(hemp_df['County'])-1,len(hemp_df['County'])),hemp_df['County'], rotation=45, fontsize=16)\n",
    "ax.set_xlabel('Counties', fontsize=18)\n",
    "ax.set_ylabel('Profit Per Store', fontsize=18);"
   ]
  },
  {
   "cell_type": "code",
   "execution_count": 128,
   "metadata": {
    "collapsed": false
   },
   "outputs": [
    {
     "data": {
      "text/html": [
       "<div>\n",
       "<table border=\"1\" class=\"dataframe\">\n",
       "  <thead>\n",
       "    <tr style=\"text-align: right;\">\n",
       "      <th></th>\n",
       "      <th>Date</th>\n",
       "      <th>Store_Number</th>\n",
       "      <th>City</th>\n",
       "      <th>Zip_Code</th>\n",
       "      <th>County_Number</th>\n",
       "      <th>County</th>\n",
       "      <th>Category</th>\n",
       "      <th>Category_Name</th>\n",
       "      <th>Vendor_Number</th>\n",
       "      <th>Item_Number</th>\n",
       "      <th>...</th>\n",
       "      <th>Year</th>\n",
       "      <th>Month</th>\n",
       "      <th>Profit</th>\n",
       "      <th>County_Pop</th>\n",
       "      <th>City_Pop</th>\n",
       "      <th>Store_Count_City</th>\n",
       "      <th>Store_Count_County</th>\n",
       "      <th>Profit_City</th>\n",
       "      <th>Profit_County</th>\n",
       "      <th>Profit_Store</th>\n",
       "    </tr>\n",
       "  </thead>\n",
       "  <tbody>\n",
       "    <tr>\n",
       "      <th>0</th>\n",
       "      <td>2015-11-04</td>\n",
       "      <td>3717</td>\n",
       "      <td>SUMNER</td>\n",
       "      <td>50674</td>\n",
       "      <td>9.0</td>\n",
       "      <td>Bremer</td>\n",
       "      <td>1051100.0</td>\n",
       "      <td>APRICOT BRANDIES</td>\n",
       "      <td>55</td>\n",
       "      <td>54436</td>\n",
       "      <td>...</td>\n",
       "      <td>2015</td>\n",
       "      <td>11</td>\n",
       "      <td>27.00</td>\n",
       "      <td>24722</td>\n",
       "      <td>2009</td>\n",
       "      <td>1</td>\n",
       "      <td>9</td>\n",
       "      <td>3848.59</td>\n",
       "      <td>69164.91</td>\n",
       "      <td>3848.59</td>\n",
       "    </tr>\n",
       "    <tr>\n",
       "      <th>1</th>\n",
       "      <td>2016-03-02</td>\n",
       "      <td>2614</td>\n",
       "      <td>DAVENPORT</td>\n",
       "      <td>52807</td>\n",
       "      <td>82.0</td>\n",
       "      <td>Scott</td>\n",
       "      <td>1011100.0</td>\n",
       "      <td>BLENDED WHISKIES</td>\n",
       "      <td>395</td>\n",
       "      <td>27605</td>\n",
       "      <td>...</td>\n",
       "      <td>2016</td>\n",
       "      <td>3</td>\n",
       "      <td>13.76</td>\n",
       "      <td>172126</td>\n",
       "      <td>102582</td>\n",
       "      <td>43</td>\n",
       "      <td>66</td>\n",
       "      <td>569564.98</td>\n",
       "      <td>823175.13</td>\n",
       "      <td>59826.88</td>\n",
       "    </tr>\n",
       "  </tbody>\n",
       "</table>\n",
       "<p>2 rows × 28 columns</p>\n",
       "</div>"
      ],
      "text/plain": [
       "        Date  Store_Number       City Zip_Code  County_Number  County  \\\n",
       "0 2015-11-04          3717     SUMNER    50674            9.0  Bremer   \n",
       "1 2016-03-02          2614  DAVENPORT    52807           82.0   Scott   \n",
       "\n",
       "    Category     Category_Name  Vendor_Number  Item_Number      ...       \\\n",
       "0  1051100.0  APRICOT BRANDIES             55        54436      ...        \n",
       "1  1011100.0  BLENDED WHISKIES            395        27605      ...        \n",
       "\n",
       "   Year  Month  Profit  County_Pop  City_Pop  Store_Count_City  \\\n",
       "0  2015     11   27.00       24722      2009                 1   \n",
       "1  2016      3   13.76      172126    102582                43   \n",
       "\n",
       "   Store_Count_County  Profit_City  Profit_County  Profit_Store  \n",
       "0                   9      3848.59       69164.91       3848.59  \n",
       "1                  66    569564.98      823175.13      59826.88  \n",
       "\n",
       "[2 rows x 28 columns]"
      ]
     },
     "execution_count": 128,
     "metadata": {},
     "output_type": "execute_result"
    }
   ],
   "source": [
    "djs.head(2)"
   ]
  },
  {
   "cell_type": "code",
   "execution_count": null,
   "metadata": {
    "collapsed": false
   },
   "outputs": [],
   "source": []
  },
  {
   "cell_type": "markdown",
   "metadata": {},
   "source": [
    "The top 10 counties with the highest total of stores are Polk (207), Linn (101), Black Hawk (73), Scott (66), Johnson (53), Pottawattamie (53), Dubuque (40), Story (38), Woodbury (38), and Des Moines(21). So while Dallas had the 3rd highest profit per store, we'd be reluctant to build there since they don't have many stores (17)."
   ]
  },
  {
   "cell_type": "code",
   "execution_count": 144,
   "metadata": {
    "collapsed": false
   },
   "outputs": [
    {
     "data": {
      "text/html": [
       "<div>\n",
       "<table border=\"1\" class=\"dataframe\">\n",
       "  <thead>\n",
       "    <tr style=\"text-align: right;\">\n",
       "      <th></th>\n",
       "      <th>Store_Count</th>\n",
       "    </tr>\n",
       "    <tr>\n",
       "      <th>County</th>\n",
       "      <th></th>\n",
       "    </tr>\n",
       "  </thead>\n",
       "  <tbody>\n",
       "    <tr>\n",
       "      <th>Polk</th>\n",
       "      <td>207</td>\n",
       "    </tr>\n",
       "    <tr>\n",
       "      <th>Linn</th>\n",
       "      <td>101</td>\n",
       "    </tr>\n",
       "    <tr>\n",
       "      <th>Black Hawk</th>\n",
       "      <td>73</td>\n",
       "    </tr>\n",
       "    <tr>\n",
       "      <th>Scott</th>\n",
       "      <td>66</td>\n",
       "    </tr>\n",
       "    <tr>\n",
       "      <th>Johnson</th>\n",
       "      <td>53</td>\n",
       "    </tr>\n",
       "    <tr>\n",
       "      <th>Pottawattamie</th>\n",
       "      <td>53</td>\n",
       "    </tr>\n",
       "    <tr>\n",
       "      <th>Dubuque</th>\n",
       "      <td>40</td>\n",
       "    </tr>\n",
       "    <tr>\n",
       "      <th>Story</th>\n",
       "      <td>38</td>\n",
       "    </tr>\n",
       "    <tr>\n",
       "      <th>Woodbury</th>\n",
       "      <td>38</td>\n",
       "    </tr>\n",
       "    <tr>\n",
       "      <th>Des Moines</th>\n",
       "      <td>21</td>\n",
       "    </tr>\n",
       "    <tr>\n",
       "      <th>Cerro Gordo</th>\n",
       "      <td>21</td>\n",
       "    </tr>\n",
       "    <tr>\n",
       "      <th>Muscatine</th>\n",
       "      <td>20</td>\n",
       "    </tr>\n",
       "    <tr>\n",
       "      <th>Webster</th>\n",
       "      <td>20</td>\n",
       "    </tr>\n",
       "    <tr>\n",
       "      <th>Warren</th>\n",
       "      <td>18</td>\n",
       "    </tr>\n",
       "    <tr>\n",
       "      <th>Lee</th>\n",
       "      <td>17</td>\n",
       "    </tr>\n",
       "    <tr>\n",
       "      <th>Dallas</th>\n",
       "      <td>17</td>\n",
       "    </tr>\n",
       "    <tr>\n",
       "      <th>Clinton</th>\n",
       "      <td>17</td>\n",
       "    </tr>\n",
       "    <tr>\n",
       "      <th>Jasper</th>\n",
       "      <td>16</td>\n",
       "    </tr>\n",
       "    <tr>\n",
       "      <th>Marshall</th>\n",
       "      <td>15</td>\n",
       "    </tr>\n",
       "    <tr>\n",
       "      <th>Boone</th>\n",
       "      <td>15</td>\n",
       "    </tr>\n",
       "    <tr>\n",
       "      <th>Poweshiek</th>\n",
       "      <td>14</td>\n",
       "    </tr>\n",
       "    <tr>\n",
       "      <th>Wapello</th>\n",
       "      <td>14</td>\n",
       "    </tr>\n",
       "    <tr>\n",
       "      <th>Dickinson</th>\n",
       "      <td>14</td>\n",
       "    </tr>\n",
       "    <tr>\n",
       "      <th>Buena Vista</th>\n",
       "      <td>13</td>\n",
       "    </tr>\n",
       "    <tr>\n",
       "      <th>Hardin</th>\n",
       "      <td>13</td>\n",
       "    </tr>\n",
       "    <tr>\n",
       "      <th>Marion</th>\n",
       "      <td>12</td>\n",
       "    </tr>\n",
       "    <tr>\n",
       "      <th>Clayton</th>\n",
       "      <td>12</td>\n",
       "    </tr>\n",
       "    <tr>\n",
       "      <th>Carroll</th>\n",
       "      <td>12</td>\n",
       "    </tr>\n",
       "    <tr>\n",
       "      <th>Fayette</th>\n",
       "      <td>11</td>\n",
       "    </tr>\n",
       "    <tr>\n",
       "      <th>Lyon</th>\n",
       "      <td>10</td>\n",
       "    </tr>\n",
       "    <tr>\n",
       "      <th>...</th>\n",
       "      <td>...</td>\n",
       "    </tr>\n",
       "    <tr>\n",
       "      <th>Mitchell</th>\n",
       "      <td>5</td>\n",
       "    </tr>\n",
       "    <tr>\n",
       "      <th>Montgomery</th>\n",
       "      <td>5</td>\n",
       "    </tr>\n",
       "    <tr>\n",
       "      <th>Guthrie</th>\n",
       "      <td>5</td>\n",
       "    </tr>\n",
       "    <tr>\n",
       "      <th>Chickasaw</th>\n",
       "      <td>5</td>\n",
       "    </tr>\n",
       "    <tr>\n",
       "      <th>Delaware</th>\n",
       "      <td>5</td>\n",
       "    </tr>\n",
       "    <tr>\n",
       "      <th>Louisa</th>\n",
       "      <td>5</td>\n",
       "    </tr>\n",
       "    <tr>\n",
       "      <th>Henry</th>\n",
       "      <td>5</td>\n",
       "    </tr>\n",
       "    <tr>\n",
       "      <th>Decatur</th>\n",
       "      <td>5</td>\n",
       "    </tr>\n",
       "    <tr>\n",
       "      <th>Shelby</th>\n",
       "      <td>4</td>\n",
       "    </tr>\n",
       "    <tr>\n",
       "      <th>Hancock</th>\n",
       "      <td>4</td>\n",
       "    </tr>\n",
       "    <tr>\n",
       "      <th>Humboldt</th>\n",
       "      <td>4</td>\n",
       "    </tr>\n",
       "    <tr>\n",
       "      <th>Ida</th>\n",
       "      <td>4</td>\n",
       "    </tr>\n",
       "    <tr>\n",
       "      <th>Jefferson</th>\n",
       "      <td>4</td>\n",
       "    </tr>\n",
       "    <tr>\n",
       "      <th>Emmet</th>\n",
       "      <td>4</td>\n",
       "    </tr>\n",
       "    <tr>\n",
       "      <th>Jones</th>\n",
       "      <td>4</td>\n",
       "    </tr>\n",
       "    <tr>\n",
       "      <th>Monona</th>\n",
       "      <td>4</td>\n",
       "    </tr>\n",
       "    <tr>\n",
       "      <th>Ringgold</th>\n",
       "      <td>3</td>\n",
       "    </tr>\n",
       "    <tr>\n",
       "      <th>Taylor</th>\n",
       "      <td>3</td>\n",
       "    </tr>\n",
       "    <tr>\n",
       "      <th>Keokuk</th>\n",
       "      <td>3</td>\n",
       "    </tr>\n",
       "    <tr>\n",
       "      <th>Van Buren</th>\n",
       "      <td>3</td>\n",
       "    </tr>\n",
       "    <tr>\n",
       "      <th>Howard</th>\n",
       "      <td>3</td>\n",
       "    </tr>\n",
       "    <tr>\n",
       "      <th>Audubon</th>\n",
       "      <td>3</td>\n",
       "    </tr>\n",
       "    <tr>\n",
       "      <th>Monroe</th>\n",
       "      <td>3</td>\n",
       "    </tr>\n",
       "    <tr>\n",
       "      <th>Worth</th>\n",
       "      <td>3</td>\n",
       "    </tr>\n",
       "    <tr>\n",
       "      <th>Osceola</th>\n",
       "      <td>2</td>\n",
       "    </tr>\n",
       "    <tr>\n",
       "      <th>Wayne</th>\n",
       "      <td>2</td>\n",
       "    </tr>\n",
       "    <tr>\n",
       "      <th>Lucas</th>\n",
       "      <td>2</td>\n",
       "    </tr>\n",
       "    <tr>\n",
       "      <th>Davis</th>\n",
       "      <td>1</td>\n",
       "    </tr>\n",
       "    <tr>\n",
       "      <th>Fremont</th>\n",
       "      <td>1</td>\n",
       "    </tr>\n",
       "    <tr>\n",
       "      <th>Adams</th>\n",
       "      <td>1</td>\n",
       "    </tr>\n",
       "  </tbody>\n",
       "</table>\n",
       "<p>99 rows × 1 columns</p>\n",
       "</div>"
      ],
      "text/plain": [
       "               Store_Count\n",
       "County                    \n",
       "Polk                   207\n",
       "Linn                   101\n",
       "Black Hawk              73\n",
       "Scott                   66\n",
       "Johnson                 53\n",
       "Pottawattamie           53\n",
       "Dubuque                 40\n",
       "Story                   38\n",
       "Woodbury                38\n",
       "Des Moines              21\n",
       "Cerro Gordo             21\n",
       "Muscatine               20\n",
       "Webster                 20\n",
       "Warren                  18\n",
       "Lee                     17\n",
       "Dallas                  17\n",
       "Clinton                 17\n",
       "Jasper                  16\n",
       "Marshall                15\n",
       "Boone                   15\n",
       "Poweshiek               14\n",
       "Wapello                 14\n",
       "Dickinson               14\n",
       "Buena Vista             13\n",
       "Hardin                  13\n",
       "Marion                  12\n",
       "Clayton                 12\n",
       "Carroll                 12\n",
       "Fayette                 11\n",
       "Lyon                    10\n",
       "...                    ...\n",
       "Mitchell                 5\n",
       "Montgomery               5\n",
       "Guthrie                  5\n",
       "Chickasaw                5\n",
       "Delaware                 5\n",
       "Louisa                   5\n",
       "Henry                    5\n",
       "Decatur                  5\n",
       "Shelby                   4\n",
       "Hancock                  4\n",
       "Humboldt                 4\n",
       "Ida                      4\n",
       "Jefferson                4\n",
       "Emmet                    4\n",
       "Jones                    4\n",
       "Monona                   4\n",
       "Ringgold                 3\n",
       "Taylor                   3\n",
       "Keokuk                   3\n",
       "Van Buren                3\n",
       "Howard                   3\n",
       "Audubon                  3\n",
       "Monroe                   3\n",
       "Worth                    3\n",
       "Osceola                  2\n",
       "Wayne                    2\n",
       "Lucas                    2\n",
       "Davis                    1\n",
       "Fremont                  1\n",
       "Adams                    1\n",
       "\n",
       "[99 rows x 1 columns]"
      ]
     },
     "execution_count": 144,
     "metadata": {},
     "output_type": "execute_result"
    }
   ],
   "source": [
    "\n",
    "djs_top10stores = djs.groupby(['County'])['Store_Count_County'].agg(([np.mean]))\n",
    "djs_top10stores = djs_top10stores.sort_values('mean', ascending=False)\n",
    "djs_top10stores['Store_Count'] = djs_top10stores['mean']\n",
    "del djs_top10stores['mean']\n",
    "djs_top10stores"
   ]
  },
  {
   "cell_type": "markdown",
   "metadata": {},
   "source": [
    "<b> Modeling </b>\n",
    "<p>\n",
    "We created a linear regression model to try to predict where sales would be highest based on 'County', 'State Bottle Retail' and 'Bottles Sold'. We used the 2015 data as our training data to predict what sales would be like in 2016.\n",
    "</p>"
   ]
  },
  {
   "cell_type": "code",
   "execution_count": 99,
   "metadata": {
    "collapsed": false,
    "scrolled": true
   },
   "outputs": [
    {
     "name": "stdout",
     "output_type": "stream",
     "text": [
      "MSE: 41580.5323722\n"
     ]
    },
    {
     "data": {
      "image/png": "[encoded data removed]",
      "text/plain": [
       "<matplotlib.figure.Figure at 0x11b021710>"
      ]
     },
     "metadata": {},
     "output_type": "display_data"
    },
    {
     "data": {
      "image/png": "[encoded data removed]",
      "text/plain": [
       "<matplotlib.figure.Figure at 0x118241b50>"
      ]
     },
     "metadata": {},
     "output_type": "display_data"
    }
   ],
   "source": [
    "#Sets up regression mapping State_Bottle_Retail and Bottles_Sold to Sale_Dollars\n",
    "targets = djs['Sale_(Dollars)']\n",
    "djstargets = pd.DataFrame(targets)\n",
    "lm = linear_model.LinearRegression()\n",
    "X = djs[[\"State_Bottle_Retail\", \"Bottles_Sold\"]]\n",
    "y = djstargets[\"Sale_(Dollars)\"]\n",
    "\n",
    "model = lm.fit(X,y)\n",
    "predictions = lm.predict(X)\n",
    "\n",
    "#Creates graph of predicted values\n",
    "print \"MSE:\", mean_squared_error(y, predictions)\n",
    "plt.figure(figsize=(8,8))\n",
    "plt.scatter(predictions, y, s=30, c='r', marker='+', zorder=10)\n",
    "plt.xlabel(\"Predicted Values from Price and Bottles Sold\")\n",
    "plt.ylabel(\"Actual Sales\")\n",
    "plt.show()\n",
    "\n",
    "plt.figure(figsize=(8,8))\n",
    "plt.scatter(predictions, y - predictions, c = 'b', marker = '+')\n",
    "plt.axhline(0, color='r');\n",
    "plt.xlabel(\"Predictions\")\n",
    "plt.ylabel(\"Residuals\");"
   ]
  },
  {
   "cell_type": "code",
   "execution_count": 100,
   "metadata": {
    "collapsed": false,
    "scrolled": true
   },
   "outputs": [
    {
     "data": {
      "image/png": "[encoded data removed]",
      "text/plain": [
       "<matplotlib.figure.Figure at 0x11b6cffd0>"
      ]
     },
     "metadata": {},
     "output_type": "display_data"
    }
   ],
   "source": [
    "#Heatmap mapping correlation\n",
    "sns.heatmap(djs.corr());"
   ]
  },
  {
   "cell_type": "code",
   "execution_count": 101,
   "metadata": {
    "collapsed": false
   },
   "outputs": [
    {
     "data": {
      "text/plain": [
       "\"plt.plot_date(djs['Date'], djs['Sale_(Dollars)'])\\nplt.show()\""
      ]
     },
     "execution_count": 101,
     "metadata": {},
     "output_type": "execute_result"
    },
    {
     "data": {
      "image/png": "[encoded data removed]",
      "text/plain": [
       "<matplotlib.figure.Figure at 0x11c39d850>"
      ]
     },
     "metadata": {},
     "output_type": "display_data"
    }
   ],
   "source": [
    "scatter_matrix(djs[['Date', 'Zip_Code','Sale_(Dollars)', 'State_Bottle_Retail','State_Bottle_Cost', 'Bottles_Sold']], alpha=0.2, figsize=(12, 12), diagonal='Sale_(Dollars)')\n",
    "\n",
    "\n",
    "'''plt.plot_date(djs['Date'], djs['Sale_(Dollars)'])\n",
    "plt.show()'''\n"
   ]
  },
  {
   "cell_type": "code",
   "execution_count": 118,
   "metadata": {
    "collapsed": false,
    "scrolled": false
   },
   "outputs": [
    {
     "name": "stdout",
     "output_type": "stream",
     "text": [
      "MSE: 41580.12281\n"
     ]
    },
    {
     "data": {
      "image/png": "[encoded data removed]",
      "text/plain": [
       "<matplotlib.figure.Figure at 0x11b021650>"
      ]
     },
     "metadata": {},
     "output_type": "display_data"
    },
    {
     "data": {
      "image/png": "[encoded data removed]",
      "text/plain": [
       "<matplotlib.figure.Figure at 0x1182a2550>"
      ]
     },
     "metadata": {},
     "output_type": "display_data"
    }
   ],
   "source": [
    "#Sets up regression mapping State_Bottle_Retail, Bottles_Sold, and County_Number to Sale_Dollars\n",
    "targets = djs['Sale_(Dollars)']\n",
    "djstargets = pd.DataFrame(targets)\n",
    "lm = linear_model.LinearRegression()\n",
    "X = djs[[\"State_Bottle_Retail\", \"Bottles_Sold\", \"County_Number\"]]\n",
    "y = djstargets[\"Sale_(Dollars)\"]\n",
    "\n",
    "model = lm.fit(X,y)\n",
    "predictions = lm.predict(X)\n",
    "\n",
    "\n",
    "#Creates graph of predicted values.\n",
    "print \"MSE:\", mean_squared_error(y, predictions)\n",
    "plt.figure(figsize=(8,8))\n",
    "plt.scatter(predictions, y, s=30, c='r', marker='+', zorder=10)\n",
    "plt.xlabel(\"Predicted Values from Price and Bottles Sold and County Number\")\n",
    "plt.ylabel(\"Actual Sales\")\n",
    "plt.show()\n",
    "\n",
    "plt.figure(figsize=(8,8))\n",
    "plt.scatter(predictions, y - predictions, c = 'b', marker = '+')\n",
    "plt.axhline(0, color='r');\n",
    "plt.xlabel(\"Predictions\")\n",
    "plt.ylabel(\"Residuals\");"
   ]
  },
  {
   "cell_type": "code",
   "execution_count": 119,
   "metadata": {
    "collapsed": true
   },
   "outputs": [],
   "source": [
    "train_data=djs.loc[djs['Year'] != 2016]\n",
    "test_data=djs.loc[djs['Year'] == 2016]"
   ]
  },
  {
   "cell_type": "code",
   "execution_count": 103,
   "metadata": {
    "collapsed": true
   },
   "outputs": [],
   "source": [
    "#define train data X and Y\n",
    "train_X=train_data[['State_Bottle_Cost', 'Bottles_Sold', 'County_Number' ]]\n",
    "train_Y=train_data[['Sale_(Dollars)']]"
   ]
  },
  {
   "cell_type": "code",
   "execution_count": 104,
   "metadata": {
    "collapsed": true
   },
   "outputs": [],
   "source": [
    "#Define test X\n",
    "test_X=test_data[['State_Bottle_Cost', 'Bottles_Sold', 'County_Number']]"
   ]
  },
  {
   "cell_type": "code",
   "execution_count": 105,
   "metadata": {
    "collapsed": false
   },
   "outputs": [],
   "source": [
    "#create linear model\n",
    "lr=linear_model.LinearRegression()\n",
    "lr_model=lr.fit(train_X,train_Y)\n",
    "predictions=lr_model.predict(train_X)"
   ]
  },
  {
   "cell_type": "code",
   "execution_count": 106,
   "metadata": {
    "collapsed": false
   },
   "outputs": [
    {
     "name": "stdout",
     "output_type": "stream",
     "text": [
      "MSE: 43034.8071689\n"
     ]
    },
    {
     "data": {
      "image/png": "[encoded data removed]",
      "text/plain": [
       "<matplotlib.figure.Figure at 0x11823c210>"
      ]
     },
     "metadata": {},
     "output_type": "display_data"
    }
   ],
   "source": [
    "#plot predictions for test against y train values\n",
    "print \"MSE:\", mean_squared_error(train_Y, predictions)\n",
    "plt.figure(figsize=(8,8))\n",
    "plt.scatter(predictions, train_Y, s=30, c='r', marker='+', zorder=10)\n",
    "plt.xlabel(\"Predicted Values from Price and Bottles Sold\")\n",
    "plt.ylabel(\"Actual Sales\")\n",
    "plt.show()"
   ]
  },
  {
   "cell_type": "code",
   "execution_count": 107,
   "metadata": {
    "collapsed": false,
    "scrolled": true
   },
   "outputs": [
    {
     "data": {
      "text/html": [
       "<div>\n",
       "<table border=\"1\" class=\"dataframe\">\n",
       "  <thead>\n",
       "    <tr style=\"text-align: right;\">\n",
       "      <th></th>\n",
       "      <th>County_Number</th>\n",
       "      <th>Bottles_Sold</th>\n",
       "      <th>State_Bottle_Cost</th>\n",
       "    </tr>\n",
       "  </thead>\n",
       "  <tbody>\n",
       "    <tr>\n",
       "      <th>0</th>\n",
       "      <td>1.0</td>\n",
       "      <td>4650</td>\n",
       "      <td>5438.68</td>\n",
       "    </tr>\n",
       "    <tr>\n",
       "      <th>1</th>\n",
       "      <td>2.0</td>\n",
       "      <td>955</td>\n",
       "      <td>2377.94</td>\n",
       "    </tr>\n",
       "    <tr>\n",
       "      <th>2</th>\n",
       "      <td>3.0</td>\n",
       "      <td>7450</td>\n",
       "      <td>10411.70</td>\n",
       "    </tr>\n",
       "    <tr>\n",
       "      <th>3</th>\n",
       "      <td>4.0</td>\n",
       "      <td>8171</td>\n",
       "      <td>9903.40</td>\n",
       "    </tr>\n",
       "    <tr>\n",
       "      <th>4</th>\n",
       "      <td>5.0</td>\n",
       "      <td>1694</td>\n",
       "      <td>1982.02</td>\n",
       "    </tr>\n",
       "    <tr>\n",
       "      <th>5</th>\n",
       "      <td>6.0</td>\n",
       "      <td>6449</td>\n",
       "      <td>9140.10</td>\n",
       "    </tr>\n",
       "    <tr>\n",
       "      <th>6</th>\n",
       "      <td>7.0</td>\n",
       "      <td>173131</td>\n",
       "      <td>140832.42</td>\n",
       "    </tr>\n",
       "    <tr>\n",
       "      <th>7</th>\n",
       "      <td>8.0</td>\n",
       "      <td>17233</td>\n",
       "      <td>19480.05</td>\n",
       "    </tr>\n",
       "    <tr>\n",
       "      <th>8</th>\n",
       "      <td>9.0</td>\n",
       "      <td>15428</td>\n",
       "      <td>22285.26</td>\n",
       "    </tr>\n",
       "    <tr>\n",
       "      <th>9</th>\n",
       "      <td>10.0</td>\n",
       "      <td>12876</td>\n",
       "      <td>15406.56</td>\n",
       "    </tr>\n",
       "    <tr>\n",
       "      <th>10</th>\n",
       "      <td>11.0</td>\n",
       "      <td>15822</td>\n",
       "      <td>28489.58</td>\n",
       "    </tr>\n",
       "    <tr>\n",
       "      <th>11</th>\n",
       "      <td>12.0</td>\n",
       "      <td>2858</td>\n",
       "      <td>3501.71</td>\n",
       "    </tr>\n",
       "    <tr>\n",
       "      <th>12</th>\n",
       "      <td>13.0</td>\n",
       "      <td>2987</td>\n",
       "      <td>3569.10</td>\n",
       "    </tr>\n",
       "    <tr>\n",
       "      <th>13</th>\n",
       "      <td>14.0</td>\n",
       "      <td>20817</td>\n",
       "      <td>18741.69</td>\n",
       "    </tr>\n",
       "    <tr>\n",
       "      <th>14</th>\n",
       "      <td>15.0</td>\n",
       "      <td>9585</td>\n",
       "      <td>11931.56</td>\n",
       "    </tr>\n",
       "    <tr>\n",
       "      <th>15</th>\n",
       "      <td>16.0</td>\n",
       "      <td>6350</td>\n",
       "      <td>8652.44</td>\n",
       "    </tr>\n",
       "    <tr>\n",
       "      <th>16</th>\n",
       "      <td>17.0</td>\n",
       "      <td>54553</td>\n",
       "      <td>64278.00</td>\n",
       "    </tr>\n",
       "    <tr>\n",
       "      <th>17</th>\n",
       "      <td>18.0</td>\n",
       "      <td>7697</td>\n",
       "      <td>8366.37</td>\n",
       "    </tr>\n",
       "    <tr>\n",
       "      <th>18</th>\n",
       "      <td>19.0</td>\n",
       "      <td>3306</td>\n",
       "      <td>4369.36</td>\n",
       "    </tr>\n",
       "    <tr>\n",
       "      <th>19</th>\n",
       "      <td>20.0</td>\n",
       "      <td>5477</td>\n",
       "      <td>6759.90</td>\n",
       "    </tr>\n",
       "    <tr>\n",
       "      <th>20</th>\n",
       "      <td>21.0</td>\n",
       "      <td>13783</td>\n",
       "      <td>18458.21</td>\n",
       "    </tr>\n",
       "    <tr>\n",
       "      <th>21</th>\n",
       "      <td>22.0</td>\n",
       "      <td>6282</td>\n",
       "      <td>13185.04</td>\n",
       "    </tr>\n",
       "    <tr>\n",
       "      <th>22</th>\n",
       "      <td>23.0</td>\n",
       "      <td>34541</td>\n",
       "      <td>32299.76</td>\n",
       "    </tr>\n",
       "    <tr>\n",
       "      <th>23</th>\n",
       "      <td>24.0</td>\n",
       "      <td>11470</td>\n",
       "      <td>11037.98</td>\n",
       "    </tr>\n",
       "    <tr>\n",
       "      <th>24</th>\n",
       "      <td>25.0</td>\n",
       "      <td>36719</td>\n",
       "      <td>26546.55</td>\n",
       "    </tr>\n",
       "    <tr>\n",
       "      <th>25</th>\n",
       "      <td>26.0</td>\n",
       "      <td>1053</td>\n",
       "      <td>1875.81</td>\n",
       "    </tr>\n",
       "    <tr>\n",
       "      <th>26</th>\n",
       "      <td>27.0</td>\n",
       "      <td>1784</td>\n",
       "      <td>1903.64</td>\n",
       "    </tr>\n",
       "    <tr>\n",
       "      <th>27</th>\n",
       "      <td>28.0</td>\n",
       "      <td>7429</td>\n",
       "      <td>7031.60</td>\n",
       "    </tr>\n",
       "    <tr>\n",
       "      <th>28</th>\n",
       "      <td>29.0</td>\n",
       "      <td>38268</td>\n",
       "      <td>39289.84</td>\n",
       "    </tr>\n",
       "    <tr>\n",
       "      <th>29</th>\n",
       "      <td>30.0</td>\n",
       "      <td>32311</td>\n",
       "      <td>34889.03</td>\n",
       "    </tr>\n",
       "    <tr>\n",
       "      <th>...</th>\n",
       "      <td>...</td>\n",
       "      <td>...</td>\n",
       "      <td>...</td>\n",
       "    </tr>\n",
       "    <tr>\n",
       "      <th>69</th>\n",
       "      <td>70.0</td>\n",
       "      <td>27739</td>\n",
       "      <td>37576.25</td>\n",
       "    </tr>\n",
       "    <tr>\n",
       "      <th>70</th>\n",
       "      <td>71.0</td>\n",
       "      <td>12140</td>\n",
       "      <td>16253.37</td>\n",
       "    </tr>\n",
       "    <tr>\n",
       "      <th>71</th>\n",
       "      <td>72.0</td>\n",
       "      <td>2132</td>\n",
       "      <td>3639.61</td>\n",
       "    </tr>\n",
       "    <tr>\n",
       "      <th>72</th>\n",
       "      <td>73.0</td>\n",
       "      <td>9776</td>\n",
       "      <td>11216.89</td>\n",
       "    </tr>\n",
       "    <tr>\n",
       "      <th>73</th>\n",
       "      <td>74.0</td>\n",
       "      <td>5248</td>\n",
       "      <td>11082.42</td>\n",
       "    </tr>\n",
       "    <tr>\n",
       "      <th>74</th>\n",
       "      <td>75.0</td>\n",
       "      <td>12695</td>\n",
       "      <td>15508.69</td>\n",
       "    </tr>\n",
       "    <tr>\n",
       "      <th>75</th>\n",
       "      <td>76.0</td>\n",
       "      <td>3728</td>\n",
       "      <td>4588.52</td>\n",
       "    </tr>\n",
       "    <tr>\n",
       "      <th>76</th>\n",
       "      <td>77.0</td>\n",
       "      <td>579985</td>\n",
       "      <td>495830.53</td>\n",
       "    </tr>\n",
       "    <tr>\n",
       "      <th>77</th>\n",
       "      <td>78.0</td>\n",
       "      <td>95268</td>\n",
       "      <td>85640.84</td>\n",
       "    </tr>\n",
       "    <tr>\n",
       "      <th>78</th>\n",
       "      <td>79.0</td>\n",
       "      <td>12275</td>\n",
       "      <td>20486.77</td>\n",
       "    </tr>\n",
       "    <tr>\n",
       "      <th>79</th>\n",
       "      <td>80.0</td>\n",
       "      <td>1298</td>\n",
       "      <td>1874.32</td>\n",
       "    </tr>\n",
       "    <tr>\n",
       "      <th>80</th>\n",
       "      <td>81.0</td>\n",
       "      <td>4989</td>\n",
       "      <td>9180.18</td>\n",
       "    </tr>\n",
       "    <tr>\n",
       "      <th>81</th>\n",
       "      <td>82.0</td>\n",
       "      <td>205558</td>\n",
       "      <td>160493.11</td>\n",
       "    </tr>\n",
       "    <tr>\n",
       "      <th>82</th>\n",
       "      <td>83.0</td>\n",
       "      <td>8051</td>\n",
       "      <td>6311.05</td>\n",
       "    </tr>\n",
       "    <tr>\n",
       "      <th>83</th>\n",
       "      <td>84.0</td>\n",
       "      <td>13046</td>\n",
       "      <td>13245.90</td>\n",
       "    </tr>\n",
       "    <tr>\n",
       "      <th>84</th>\n",
       "      <td>85.0</td>\n",
       "      <td>76798</td>\n",
       "      <td>91645.19</td>\n",
       "    </tr>\n",
       "    <tr>\n",
       "      <th>85</th>\n",
       "      <td>86.0</td>\n",
       "      <td>6687</td>\n",
       "      <td>8724.84</td>\n",
       "    </tr>\n",
       "    <tr>\n",
       "      <th>86</th>\n",
       "      <td>87.0</td>\n",
       "      <td>1278</td>\n",
       "      <td>2698.25</td>\n",
       "    </tr>\n",
       "    <tr>\n",
       "      <th>87</th>\n",
       "      <td>88.0</td>\n",
       "      <td>8270</td>\n",
       "      <td>10792.25</td>\n",
       "    </tr>\n",
       "    <tr>\n",
       "      <th>88</th>\n",
       "      <td>89.0</td>\n",
       "      <td>1554</td>\n",
       "      <td>2312.26</td>\n",
       "    </tr>\n",
       "    <tr>\n",
       "      <th>89</th>\n",
       "      <td>90.0</td>\n",
       "      <td>25464</td>\n",
       "      <td>31497.81</td>\n",
       "    </tr>\n",
       "    <tr>\n",
       "      <th>90</th>\n",
       "      <td>91.0</td>\n",
       "      <td>24712</td>\n",
       "      <td>22705.04</td>\n",
       "    </tr>\n",
       "    <tr>\n",
       "      <th>91</th>\n",
       "      <td>92.0</td>\n",
       "      <td>13218</td>\n",
       "      <td>15725.78</td>\n",
       "    </tr>\n",
       "    <tr>\n",
       "      <th>92</th>\n",
       "      <td>93.0</td>\n",
       "      <td>1122</td>\n",
       "      <td>1552.97</td>\n",
       "    </tr>\n",
       "    <tr>\n",
       "      <th>93</th>\n",
       "      <td>94.0</td>\n",
       "      <td>35303</td>\n",
       "      <td>30969.14</td>\n",
       "    </tr>\n",
       "    <tr>\n",
       "      <th>94</th>\n",
       "      <td>95.0</td>\n",
       "      <td>7625</td>\n",
       "      <td>9335.25</td>\n",
       "    </tr>\n",
       "    <tr>\n",
       "      <th>95</th>\n",
       "      <td>96.0</td>\n",
       "      <td>11241</td>\n",
       "      <td>13201.86</td>\n",
       "    </tr>\n",
       "    <tr>\n",
       "      <th>96</th>\n",
       "      <td>97.0</td>\n",
       "      <td>95985</td>\n",
       "      <td>85174.94</td>\n",
       "    </tr>\n",
       "    <tr>\n",
       "      <th>97</th>\n",
       "      <td>98.0</td>\n",
       "      <td>2857</td>\n",
       "      <td>3518.69</td>\n",
       "    </tr>\n",
       "    <tr>\n",
       "      <th>98</th>\n",
       "      <td>99.0</td>\n",
       "      <td>7212</td>\n",
       "      <td>7962.82</td>\n",
       "    </tr>\n",
       "  </tbody>\n",
       "</table>\n",
       "<p>99 rows × 3 columns</p>\n",
       "</div>"
      ],
      "text/plain": [
       "    County_Number  Bottles_Sold  State_Bottle_Cost\n",
       "0             1.0          4650            5438.68\n",
       "1             2.0           955            2377.94\n",
       "2             3.0          7450           10411.70\n",
       "3             4.0          8171            9903.40\n",
       "4             5.0          1694            1982.02\n",
       "5             6.0          6449            9140.10\n",
       "6             7.0        173131          140832.42\n",
       "7             8.0         17233           19480.05\n",
       "8             9.0         15428           22285.26\n",
       "9            10.0         12876           15406.56\n",
       "10           11.0         15822           28489.58\n",
       "11           12.0          2858            3501.71\n",
       "12           13.0          2987            3569.10\n",
       "13           14.0         20817           18741.69\n",
       "14           15.0          9585           11931.56\n",
       "15           16.0          6350            8652.44\n",
       "16           17.0         54553           64278.00\n",
       "17           18.0          7697            8366.37\n",
       "18           19.0          3306            4369.36\n",
       "19           20.0          5477            6759.90\n",
       "20           21.0         13783           18458.21\n",
       "21           22.0          6282           13185.04\n",
       "22           23.0         34541           32299.76\n",
       "23           24.0         11470           11037.98\n",
       "24           25.0         36719           26546.55\n",
       "25           26.0          1053            1875.81\n",
       "26           27.0          1784            1903.64\n",
       "27           28.0          7429            7031.60\n",
       "28           29.0         38268           39289.84\n",
       "29           30.0         32311           34889.03\n",
       "..            ...           ...                ...\n",
       "69           70.0         27739           37576.25\n",
       "70           71.0         12140           16253.37\n",
       "71           72.0          2132            3639.61\n",
       "72           73.0          9776           11216.89\n",
       "73           74.0          5248           11082.42\n",
       "74           75.0         12695           15508.69\n",
       "75           76.0          3728            4588.52\n",
       "76           77.0        579985          495830.53\n",
       "77           78.0         95268           85640.84\n",
       "78           79.0         12275           20486.77\n",
       "79           80.0          1298            1874.32\n",
       "80           81.0          4989            9180.18\n",
       "81           82.0        205558          160493.11\n",
       "82           83.0          8051            6311.05\n",
       "83           84.0         13046           13245.90\n",
       "84           85.0         76798           91645.19\n",
       "85           86.0          6687            8724.84\n",
       "86           87.0          1278            2698.25\n",
       "87           88.0          8270           10792.25\n",
       "88           89.0          1554            2312.26\n",
       "89           90.0         25464           31497.81\n",
       "90           91.0         24712           22705.04\n",
       "91           92.0         13218           15725.78\n",
       "92           93.0          1122            1552.97\n",
       "93           94.0         35303           30969.14\n",
       "94           95.0          7625            9335.25\n",
       "95           96.0         11241           13201.86\n",
       "96           97.0         95985           85174.94\n",
       "97           98.0          2857            3518.69\n",
       "98           99.0          7212            7962.82\n",
       "\n",
       "[99 rows x 3 columns]"
      ]
     },
     "execution_count": 107,
     "metadata": {},
     "output_type": "execute_result"
    }
   ],
   "source": [
    "#create data to plug in to model\n",
    "county_values= pd.pivot_table(djs, index='County_Number', values=['State_Bottle_Cost', 'Bottles_Sold'], aggfunc=np.sum)\n",
    "county_values.reset_index(inplace=True)\n",
    "county_values"
   ]
  },
  {
   "cell_type": "code",
   "execution_count": 108,
   "metadata": {
    "collapsed": true
   },
   "outputs": [],
   "source": [
    "#find predictive total sales for each county\n",
    "yhat_counties=lr_model.predict(county_values)\n",
    "counties_predicted=pd.DataFrame(yhat_counties)\n"
   ]
  },
  {
   "cell_type": "code",
   "execution_count": 109,
   "metadata": {
    "collapsed": true
   },
   "outputs": [],
   "source": [
    "#test for how many stores in each county\n",
    "djs_average_profit = djs.groupby([ 'County_Number', 'Store_Number'])['Profit'].agg(([np.sum]))\n"
   ]
  },
  {
   "cell_type": "code",
   "execution_count": 110,
   "metadata": {
    "collapsed": false,
    "scrolled": true
   },
   "outputs": [
    {
     "data": {
      "text/html": [
       "<div>\n",
       "<table border=\"1\" class=\"dataframe\">\n",
       "  <thead>\n",
       "    <tr style=\"text-align: right;\">\n",
       "      <th></th>\n",
       "      <th>County_Number</th>\n",
       "      <th>Num_of_Stores</th>\n",
       "    </tr>\n",
       "  </thead>\n",
       "  <tbody>\n",
       "    <tr>\n",
       "      <th>0</th>\n",
       "      <td>1.0</td>\n",
       "      <td>8</td>\n",
       "    </tr>\n",
       "    <tr>\n",
       "      <th>1</th>\n",
       "      <td>2.0</td>\n",
       "      <td>1</td>\n",
       "    </tr>\n",
       "    <tr>\n",
       "      <th>2</th>\n",
       "      <td>3.0</td>\n",
       "      <td>6</td>\n",
       "    </tr>\n",
       "    <tr>\n",
       "      <th>3</th>\n",
       "      <td>4.0</td>\n",
       "      <td>6</td>\n",
       "    </tr>\n",
       "    <tr>\n",
       "      <th>4</th>\n",
       "      <td>5.0</td>\n",
       "      <td>3</td>\n",
       "    </tr>\n",
       "    <tr>\n",
       "      <th>5</th>\n",
       "      <td>6.0</td>\n",
       "      <td>6</td>\n",
       "    </tr>\n",
       "    <tr>\n",
       "      <th>6</th>\n",
       "      <td>7.0</td>\n",
       "      <td>73</td>\n",
       "    </tr>\n",
       "    <tr>\n",
       "      <th>7</th>\n",
       "      <td>8.0</td>\n",
       "      <td>15</td>\n",
       "    </tr>\n",
       "    <tr>\n",
       "      <th>8</th>\n",
       "      <td>9.0</td>\n",
       "      <td>9</td>\n",
       "    </tr>\n",
       "    <tr>\n",
       "      <th>9</th>\n",
       "      <td>10.0</td>\n",
       "      <td>10</td>\n",
       "    </tr>\n",
       "    <tr>\n",
       "      <th>10</th>\n",
       "      <td>11.0</td>\n",
       "      <td>13</td>\n",
       "    </tr>\n",
       "    <tr>\n",
       "      <th>11</th>\n",
       "      <td>12.0</td>\n",
       "      <td>7</td>\n",
       "    </tr>\n",
       "    <tr>\n",
       "      <th>12</th>\n",
       "      <td>13.0</td>\n",
       "      <td>8</td>\n",
       "    </tr>\n",
       "    <tr>\n",
       "      <th>13</th>\n",
       "      <td>14.0</td>\n",
       "      <td>12</td>\n",
       "    </tr>\n",
       "    <tr>\n",
       "      <th>14</th>\n",
       "      <td>15.0</td>\n",
       "      <td>9</td>\n",
       "    </tr>\n",
       "    <tr>\n",
       "      <th>15</th>\n",
       "      <td>16.0</td>\n",
       "      <td>8</td>\n",
       "    </tr>\n",
       "    <tr>\n",
       "      <th>16</th>\n",
       "      <td>17.0</td>\n",
       "      <td>21</td>\n",
       "    </tr>\n",
       "    <tr>\n",
       "      <th>17</th>\n",
       "      <td>18.0</td>\n",
       "      <td>7</td>\n",
       "    </tr>\n",
       "    <tr>\n",
       "      <th>18</th>\n",
       "      <td>19.0</td>\n",
       "      <td>5</td>\n",
       "    </tr>\n",
       "    <tr>\n",
       "      <th>19</th>\n",
       "      <td>20.0</td>\n",
       "      <td>6</td>\n",
       "    </tr>\n",
       "    <tr>\n",
       "      <th>20</th>\n",
       "      <td>21.0</td>\n",
       "      <td>8</td>\n",
       "    </tr>\n",
       "    <tr>\n",
       "      <th>21</th>\n",
       "      <td>22.0</td>\n",
       "      <td>12</td>\n",
       "    </tr>\n",
       "    <tr>\n",
       "      <th>22</th>\n",
       "      <td>23.0</td>\n",
       "      <td>17</td>\n",
       "    </tr>\n",
       "    <tr>\n",
       "      <th>23</th>\n",
       "      <td>24.0</td>\n",
       "      <td>6</td>\n",
       "    </tr>\n",
       "    <tr>\n",
       "      <th>24</th>\n",
       "      <td>25.0</td>\n",
       "      <td>17</td>\n",
       "    </tr>\n",
       "    <tr>\n",
       "      <th>25</th>\n",
       "      <td>26.0</td>\n",
       "      <td>1</td>\n",
       "    </tr>\n",
       "    <tr>\n",
       "      <th>26</th>\n",
       "      <td>27.0</td>\n",
       "      <td>5</td>\n",
       "    </tr>\n",
       "    <tr>\n",
       "      <th>27</th>\n",
       "      <td>28.0</td>\n",
       "      <td>5</td>\n",
       "    </tr>\n",
       "    <tr>\n",
       "      <th>28</th>\n",
       "      <td>29.0</td>\n",
       "      <td>21</td>\n",
       "    </tr>\n",
       "    <tr>\n",
       "      <th>29</th>\n",
       "      <td>30.0</td>\n",
       "      <td>14</td>\n",
       "    </tr>\n",
       "    <tr>\n",
       "      <th>...</th>\n",
       "      <td>...</td>\n",
       "      <td>...</td>\n",
       "    </tr>\n",
       "    <tr>\n",
       "      <th>69</th>\n",
       "      <td>70.0</td>\n",
       "      <td>20</td>\n",
       "    </tr>\n",
       "    <tr>\n",
       "      <th>70</th>\n",
       "      <td>71.0</td>\n",
       "      <td>10</td>\n",
       "    </tr>\n",
       "    <tr>\n",
       "      <th>71</th>\n",
       "      <td>72.0</td>\n",
       "      <td>2</td>\n",
       "    </tr>\n",
       "    <tr>\n",
       "      <th>72</th>\n",
       "      <td>73.0</td>\n",
       "      <td>8</td>\n",
       "    </tr>\n",
       "    <tr>\n",
       "      <th>73</th>\n",
       "      <td>74.0</td>\n",
       "      <td>8</td>\n",
       "    </tr>\n",
       "    <tr>\n",
       "      <th>74</th>\n",
       "      <td>75.0</td>\n",
       "      <td>8</td>\n",
       "    </tr>\n",
       "    <tr>\n",
       "      <th>75</th>\n",
       "      <td>76.0</td>\n",
       "      <td>5</td>\n",
       "    </tr>\n",
       "    <tr>\n",
       "      <th>76</th>\n",
       "      <td>77.0</td>\n",
       "      <td>207</td>\n",
       "    </tr>\n",
       "    <tr>\n",
       "      <th>77</th>\n",
       "      <td>78.0</td>\n",
       "      <td>53</td>\n",
       "    </tr>\n",
       "    <tr>\n",
       "      <th>78</th>\n",
       "      <td>79.0</td>\n",
       "      <td>14</td>\n",
       "    </tr>\n",
       "    <tr>\n",
       "      <th>79</th>\n",
       "      <td>80.0</td>\n",
       "      <td>3</td>\n",
       "    </tr>\n",
       "    <tr>\n",
       "      <th>80</th>\n",
       "      <td>81.0</td>\n",
       "      <td>7</td>\n",
       "    </tr>\n",
       "    <tr>\n",
       "      <th>81</th>\n",
       "      <td>82.0</td>\n",
       "      <td>66</td>\n",
       "    </tr>\n",
       "    <tr>\n",
       "      <th>82</th>\n",
       "      <td>83.0</td>\n",
       "      <td>4</td>\n",
       "    </tr>\n",
       "    <tr>\n",
       "      <th>83</th>\n",
       "      <td>84.0</td>\n",
       "      <td>9</td>\n",
       "    </tr>\n",
       "    <tr>\n",
       "      <th>84</th>\n",
       "      <td>85.0</td>\n",
       "      <td>38</td>\n",
       "    </tr>\n",
       "    <tr>\n",
       "      <th>85</th>\n",
       "      <td>86.0</td>\n",
       "      <td>5</td>\n",
       "    </tr>\n",
       "    <tr>\n",
       "      <th>86</th>\n",
       "      <td>87.0</td>\n",
       "      <td>3</td>\n",
       "    </tr>\n",
       "    <tr>\n",
       "      <th>87</th>\n",
       "      <td>88.0</td>\n",
       "      <td>6</td>\n",
       "    </tr>\n",
       "    <tr>\n",
       "      <th>88</th>\n",
       "      <td>89.0</td>\n",
       "      <td>3</td>\n",
       "    </tr>\n",
       "    <tr>\n",
       "      <th>89</th>\n",
       "      <td>90.0</td>\n",
       "      <td>14</td>\n",
       "    </tr>\n",
       "    <tr>\n",
       "      <th>90</th>\n",
       "      <td>91.0</td>\n",
       "      <td>18</td>\n",
       "    </tr>\n",
       "    <tr>\n",
       "      <th>91</th>\n",
       "      <td>92.0</td>\n",
       "      <td>7</td>\n",
       "    </tr>\n",
       "    <tr>\n",
       "      <th>92</th>\n",
       "      <td>93.0</td>\n",
       "      <td>2</td>\n",
       "    </tr>\n",
       "    <tr>\n",
       "      <th>93</th>\n",
       "      <td>94.0</td>\n",
       "      <td>20</td>\n",
       "    </tr>\n",
       "    <tr>\n",
       "      <th>94</th>\n",
       "      <td>95.0</td>\n",
       "      <td>7</td>\n",
       "    </tr>\n",
       "    <tr>\n",
       "      <th>95</th>\n",
       "      <td>96.0</td>\n",
       "      <td>5</td>\n",
       "    </tr>\n",
       "    <tr>\n",
       "      <th>96</th>\n",
       "      <td>97.0</td>\n",
       "      <td>38</td>\n",
       "    </tr>\n",
       "    <tr>\n",
       "      <th>97</th>\n",
       "      <td>98.0</td>\n",
       "      <td>3</td>\n",
       "    </tr>\n",
       "    <tr>\n",
       "      <th>98</th>\n",
       "      <td>99.0</td>\n",
       "      <td>10</td>\n",
       "    </tr>\n",
       "  </tbody>\n",
       "</table>\n",
       "<p>99 rows × 2 columns</p>\n",
       "</div>"
      ],
      "text/plain": [
       "    County_Number  Num_of_Stores\n",
       "0             1.0              8\n",
       "1             2.0              1\n",
       "2             3.0              6\n",
       "3             4.0              6\n",
       "4             5.0              3\n",
       "5             6.0              6\n",
       "6             7.0             73\n",
       "7             8.0             15\n",
       "8             9.0              9\n",
       "9            10.0             10\n",
       "10           11.0             13\n",
       "11           12.0              7\n",
       "12           13.0              8\n",
       "13           14.0             12\n",
       "14           15.0              9\n",
       "15           16.0              8\n",
       "16           17.0             21\n",
       "17           18.0              7\n",
       "18           19.0              5\n",
       "19           20.0              6\n",
       "20           21.0              8\n",
       "21           22.0             12\n",
       "22           23.0             17\n",
       "23           24.0              6\n",
       "24           25.0             17\n",
       "25           26.0              1\n",
       "26           27.0              5\n",
       "27           28.0              5\n",
       "28           29.0             21\n",
       "29           30.0             14\n",
       "..            ...            ...\n",
       "69           70.0             20\n",
       "70           71.0             10\n",
       "71           72.0              2\n",
       "72           73.0              8\n",
       "73           74.0              8\n",
       "74           75.0              8\n",
       "75           76.0              5\n",
       "76           77.0            207\n",
       "77           78.0             53\n",
       "78           79.0             14\n",
       "79           80.0              3\n",
       "80           81.0              7\n",
       "81           82.0             66\n",
       "82           83.0              4\n",
       "83           84.0              9\n",
       "84           85.0             38\n",
       "85           86.0              5\n",
       "86           87.0              3\n",
       "87           88.0              6\n",
       "88           89.0              3\n",
       "89           90.0             14\n",
       "90           91.0             18\n",
       "91           92.0              7\n",
       "92           93.0              2\n",
       "93           94.0             20\n",
       "94           95.0              7\n",
       "95           96.0              5\n",
       "96           97.0             38\n",
       "97           98.0              3\n",
       "98           99.0             10\n",
       "\n",
       "[99 rows x 2 columns]"
      ]
     },
     "execution_count": 110,
     "metadata": {},
     "output_type": "execute_result"
    }
   ],
   "source": [
    "#create dataframe with count of stores for each County\n",
    "Stores_County= pd.pivot_table(djs, index='County_Number', values=['Store_Number'], aggfunc=lambda x: len(x.unique()))\n",
    "Stores_County.reset_index(inplace=True)\n",
    "Stores_County.columns=['County_Number', 'Num_of_Stores']\n",
    "Stores_County"
   ]
  },
  {
   "cell_type": "code",
   "execution_count": 111,
   "metadata": {
    "collapsed": false
   },
   "outputs": [
    {
     "name": "stderr",
     "output_type": "stream",
     "text": [
      "/Users/pivit/anaconda/lib/python2.7/site-packages/ipykernel/__main__.py:8: FutureWarning: sort(columns=....) is deprecated, use sort_values(by=.....)\n",
      "/Users/pivit/anaconda/lib/python2.7/site-packages/ipykernel/__main__.py:11: FutureWarning: sort(columns=....) is deprecated, use sort_values(by=.....)\n"
     ]
    }
   ],
   "source": [
    "#create new table with predicted county values and make sales by thousands\n",
    "CountyP_Df=pd.concat([county_values['County_Number'], counties_predicted/1000], axis=1)\n",
    "CountyP_Df.columns=['County_Number', 'Total_Sales_Predicted']\n",
    "\n",
    "#add store number as a column and then divide profit by stores\n",
    "CountyP_Df=pd.concat([CountyP_Df, Stores_County['Num_of_Stores']], axis=1)\n",
    "CountyP_Df['PSales_per_Store']=CountyP_Df['Total_Sales_Predicted']/CountyP_Df['Num_of_Stores']\n",
    "CountyP_Df.sort('PSales_per_Store', ascending=False, inplace=True)\n",
    "CountyP_Df.reset_index(inplace=True, drop=True)\n",
    "top10Countystore= CountyP_Df.loc[:10, :]\n",
    "CountyP_Df.sort('Total_Sales_Predicted', ascending=False, inplace=True)\n",
    "CountyP_Df.reset_index(inplace=True, drop=True)\n",
    "top10CountyTSales= CountyP_Df.loc[:10, :]"
   ]
  },
  {
   "cell_type": "markdown",
   "metadata": {},
   "source": [
    "In order to acheive our main goal of determining where the best performing stores are, we plotted the top 10 counties with the highest sales. Taking it one step further we wanted to see what the average sales were per store in those counties. After correcting to show the results per store, we found that sales per store did not vary nearly as much as sales per county."
   ]
  },
  {
   "cell_type": "code",
   "execution_count": 112,
   "metadata": {
    "collapsed": false
   },
   "outputs": [
    {
     "data": {
      "image/png": "[encoded data removed]",
      "text/plain": [
       "<matplotlib.figure.Figure at 0x10a53bb50>"
      ]
     },
     "metadata": {},
     "output_type": "display_data"
    }
   ],
   "source": [
    "#plot counties and predicted total sales\n",
    "plt.figure(figsize=(8,8))\n",
    "plt.scatter(CountyP_Df['County_Number'], CountyP_Df['Total_Sales_Predicted'], s=30, c='blue', marker='+', zorder=10)\n",
    "plt.xlabel(\"Counties\")\n",
    "plt.ylabel(\"Predicted Sales (in thousands)\")\n",
    "plt.show()"
   ]
  },
  {
   "cell_type": "code",
   "execution_count": 113,
   "metadata": {
    "collapsed": false
   },
   "outputs": [
    {
     "data": {
      "image/png": "[encoded data removed]",
      "text/plain": [
       "<matplotlib.figure.Figure at 0x117f30650>"
      ]
     },
     "metadata": {},
     "output_type": "display_data"
    }
   ],
   "source": [
    "#plot counties and predicted total sales\n",
    "plt.figure(figsize=(8,8))\n",
    "plt.scatter(county_values['County_Number'], CountyP_Df['Total_Sales_Predicted'], s=30, c='blue', marker='+', zorder=10)\n",
    "plt.xlabel(\"Counties\")\n",
    "plt.ylabel(\"Predicted Sales (in thousands)\")\n",
    "plt.show()"
   ]
  },
  {
   "cell_type": "code",
   "execution_count": 114,
   "metadata": {
    "collapsed": false
   },
   "outputs": [
    {
     "data": {
      "image/png": "[encoded data removed]",
      "text/plain": [
       "<matplotlib.figure.Figure at 0x119d81b50>"
      ]
     },
     "metadata": {},
     "output_type": "display_data"
    }
   ],
   "source": [
    "#plot \n",
    "plt.figure(figsize=(8,8))\n",
    "plt.bar(CountyP_Df['County_Number'], CountyP_Df['Total_Sales_Predicted'])\n",
    "plt.xlabel(\"Counties\")\n",
    "plt.ylabel(\"Predicted Sales (in thousands)\")\n",
    "plt.show()"
   ]
  },
  {
   "cell_type": "code",
   "execution_count": 115,
   "metadata": {
    "collapsed": false
   },
   "outputs": [
    {
     "data": {
      "image/png": "[encoded data removed]",
      "text/plain": [
       "<matplotlib.figure.Figure at 0x119b42a10>"
      ]
     },
     "metadata": {},
     "output_type": "display_data"
    }
   ],
   "source": [
    "#plot \n",
    "plt.figure(figsize=(8,8))\n",
    "plt.bar(top10CountyTSales['County_Number'], top10CountyTSales['Total_Sales_Predicted'])\n",
    "plt.xlabel(\"Counties\")\n",
    "plt.ylabel(\"Predicted Sales (in thousands)\")\n",
    "plt.show()"
   ]
  },
  {
   "cell_type": "code",
   "execution_count": 116,
   "metadata": {
    "collapsed": false
   },
   "outputs": [
    {
     "data": {
      "image/png": "[encoded data removed]",
      "text/plain": [
       "<matplotlib.figure.Figure at 0x11c51b590>"
      ]
     },
     "metadata": {},
     "output_type": "display_data"
    }
   ],
   "source": [
    "#plot \n",
    "plt.figure(figsize=(8,8))\n",
    "plt.bar(top10Countystore['County_Number'], top10Countystore['PSales_per_Store'])\n",
    "plt.xlabel(\"Counties\")\n",
    "plt.ylabel(\"Predicted Sales  per store(in thousands)\")\n",
    "plt.show()"
   ]
  },
  {
   "cell_type": "code",
   "execution_count": 117,
   "metadata": {
    "collapsed": false
   },
   "outputs": [
    {
     "data": {
      "text/plain": [
       "0.71186213547837229"
      ]
     },
     "execution_count": 117,
     "metadata": {},
     "output_type": "execute_result"
    }
   ],
   "source": [
    "lr_r2 = r2_score(train_Y, predictions)\n",
    "lr_r2"
   ]
  },
  {
   "cell_type": "code",
   "execution_count": 156,
   "metadata": {
    "collapsed": true
   },
   "outputs": [],
   "source": [
    "#create Lasso model\n",
    "Lasso = linear_model.Lasso(alpha=1)\n",
    "Lasso_model = lr.fit(train_X,train_Y)\n",
    "predictions2 = Lasso_model.predict(train_X)"
   ]
  },
  {
   "cell_type": "code",
   "execution_count": 150,
   "metadata": {
    "collapsed": true
   },
   "outputs": [],
   "source": [
    "from sklearn.cross_validation import cross_val_score"
   ]
  },
  {
   "cell_type": "code",
   "execution_count": 155,
   "metadata": {
    "collapsed": false
   },
   "outputs": [
    {
     "data": {
      "text/plain": [
       "-43530.387040541318"
      ]
     },
     "execution_count": 155,
     "metadata": {},
     "output_type": "execute_result"
    }
   ],
   "source": [
    "cross_val_score(lr, train_X, train_Y, n_jobs=1, cv=5, scoring = 'mean_squared_error').mean()"
   ]
  },
  {
   "cell_type": "code",
   "execution_count": 158,
   "metadata": {
    "collapsed": false
   },
   "outputs": [
    {
     "data": {
      "text/plain": [
       "-43530.419839517104"
      ]
     },
     "execution_count": 158,
     "metadata": {},
     "output_type": "execute_result"
    }
   ],
   "source": [
    "cross_val_score(Lasso, train_X, train_Y, n_jobs=1, cv=5, scoring = 'mean_squared_error').mean()"
   ]
  },
  {
   "cell_type": "markdown",
   "metadata": {
    "collapsed": true
   },
   "source": [
    "Link to write-up: https://dougyass.github.io/2016/12/10/Project-3/"
   ]
  },
  {
   "cell_type": "code",
   "execution_count": null,
   "metadata": {
    "collapsed": true
   },
   "outputs": [],
   "source": []
  },
  {
   "cell_type": "code",
   "execution_count": null,
   "metadata": {
    "collapsed": false
   },
   "outputs": [],
   "source": []
  },
  {
   "cell_type": "code",
   "execution_count": null,
   "metadata": {
    "collapsed": true
   },
   "outputs": [],
   "source": []
  },
  {
   "cell_type": "code",
   "execution_count": null,
   "metadata": {
    "collapsed": true
   },
   "outputs": [],
   "source": []
  },
  {
   "cell_type": "code",
   "execution_count": null,
   "metadata": {
    "collapsed": true
   },
   "outputs": [],
   "source": []
  },
  {
   "cell_type": "code",
   "execution_count": null,
   "metadata": {
    "collapsed": true
   },
   "outputs": [],
   "source": []
  },
  {
   "cell_type": "code",
   "execution_count": null,
   "metadata": {
    "collapsed": true
   },
   "outputs": [],
   "source": []
  },
  {
   "cell_type": "code",
   "execution_count": null,
   "metadata": {
    "collapsed": true
   },
   "outputs": [],
   "source": []
  },
  {
   "cell_type": "code",
   "execution_count": null,
   "metadata": {
    "collapsed": false
   },
   "outputs": [],
   "source": []
  },
  {
   "cell_type": "code",
   "execution_count": null,
   "metadata": {
    "collapsed": true
   },
   "outputs": [],
   "source": []
  },
  {
   "cell_type": "code",
   "execution_count": null,
   "metadata": {
    "collapsed": true
   },
   "outputs": [],
   "source": []
  },
  {
   "cell_type": "code",
   "execution_count": null,
   "metadata": {
    "collapsed": true
   },
   "outputs": [],
   "source": []
  },
  {
   "cell_type": "code",
   "execution_count": null,
   "metadata": {
    "collapsed": false
   },
   "outputs": [],
   "source": []
  },
  {
   "cell_type": "code",
   "execution_count": null,
   "metadata": {
    "collapsed": true
   },
   "outputs": [],
   "source": []
  },
  {
   "cell_type": "code",
   "execution_count": null,
   "metadata": {
    "collapsed": true
   },
   "outputs": [],
   "source": []
  }
 ],
 "metadata": {
  "anaconda-cloud": {},
  "kernelspec": {
   "display_name": "Python [Root]",
   "language": "python",
   "name": "Python [Root]"
  },
  "language_info": {
   "codemirror_mode": {
    "name": "ipython",
    "version": 2
   },
   "file_extension": ".py",
   "mimetype": "text/x-python",
   "name": "python",
   "nbconvert_exporter": "python",
   "pygments_lexer": "ipython2",
   "version": "2.7.12"
  }
 },
 "nbformat": 4,
 "nbformat_minor": 0
}
